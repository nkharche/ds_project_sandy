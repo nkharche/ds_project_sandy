{
 "cells": [
  {
   "cell_type": "code",
   "execution_count": 1,
   "metadata": {
    "collapsed": false
   },
   "outputs": [],
   "source": [
    "import pandas as pd\n",
    "import numpy as np\n",
    "import re\n",
    "import tarfile"
   ]
  },
  {
   "cell_type": "code",
   "execution_count": 2,
   "metadata": {
    "collapsed": false
   },
   "outputs": [],
   "source": [
    "fh = tarfile.open('sandy_corpus_tweet_ids.tgz', 'r:gz')\n",
    "f = fh.extractfile('release.txt')\n",
    "df_sandy_corpus = pd.read_csv(f, sep='\\t', names= [\"id\", \"time_stamp\", \"status\"])"
   ]
  },
  {
   "cell_type": "code",
   "execution_count": null,
   "metadata": {
    "collapsed": false
   },
   "outputs": [
    {
     "data": {
      "text/html": [
       "<div>\n",
       "<table border=\"1\" class=\"dataframe\">\n",
       "  <thead>\n",
       "    <tr style=\"text-align: right;\">\n",
       "      <th></th>\n",
       "      <th>id</th>\n",
       "      <th>time_stamp</th>\n",
       "      <th>status</th>\n",
       "    </tr>\n",
       "  </thead>\n",
       "  <tbody>\n",
       "    <tr>\n",
       "      <th>0</th>\n",
       "      <td>tag:search.twitter.com,2005:260244087901413376</td>\n",
       "      <td>2012-10-22T05:00:00.000Z</td>\n",
       "      <td>False</td>\n",
       "    </tr>\n",
       "    <tr>\n",
       "      <th>1</th>\n",
       "      <td>tag:search.twitter.com,2005:260244088203403264</td>\n",
       "      <td>2012-10-22T05:00:00.000Z</td>\n",
       "      <td>False</td>\n",
       "    </tr>\n",
       "    <tr>\n",
       "      <th>2</th>\n",
       "      <td>tag:search.twitter.com,2005:260244088161439744</td>\n",
       "      <td>2012-10-22T05:00:00.000Z</td>\n",
       "      <td>False</td>\n",
       "    </tr>\n",
       "    <tr>\n",
       "      <th>3</th>\n",
       "      <td>tag:search.twitter.com,2005:260244088819945472</td>\n",
       "      <td>2012-10-22T05:00:00.000Z</td>\n",
       "      <td>False</td>\n",
       "    </tr>\n",
       "    <tr>\n",
       "      <th>4</th>\n",
       "      <td>tag:search.twitter.com,2005:260244089080004609</td>\n",
       "      <td>2012-10-22T05:00:00.000Z</td>\n",
       "      <td>False</td>\n",
       "    </tr>\n",
       "  </tbody>\n",
       "</table>\n",
       "</div>"
      ],
      "text/plain": [
       "                                               id                time_stamp  \\\n",
       "0  tag:search.twitter.com,2005:260244087901413376  2012-10-22T05:00:00.000Z   \n",
       "1  tag:search.twitter.com,2005:260244088203403264  2012-10-22T05:00:00.000Z   \n",
       "2  tag:search.twitter.com,2005:260244088161439744  2012-10-22T05:00:00.000Z   \n",
       "3  tag:search.twitter.com,2005:260244088819945472  2012-10-22T05:00:00.000Z   \n",
       "4  tag:search.twitter.com,2005:260244089080004609  2012-10-22T05:00:00.000Z   \n",
       "\n",
       "  status  \n",
       "0  False  \n",
       "1  False  \n",
       "2  False  \n",
       "3  False  \n",
       "4  False  "
      ]
     },
     "execution_count": 3,
     "metadata": {},
     "output_type": "execute_result"
    }
   ],
   "source": [
    "df_sandy_corpus.head()\n",
    "#re.findall(r'\\d+', df_sandy_corpus['id'].ix[0,:])"
   ]
  },
  {
   "cell_type": "code",
   "execution_count": null,
   "metadata": {
    "collapsed": false
   },
   "outputs": [],
   "source": [
    "#junk, df_sandy_corpus['id'] = zip(*df_sandy_corpus['id'].map(lambda x: x.split('2005:')))\n",
    "df_sandy_corpus['id'] = df_sandy_corpus['id'].map(lambda x: re.findall(r'\\d+', x)[1])\n",
    "df_sandy_corpus.head()"
   ]
  },
  {
   "cell_type": "code",
   "execution_count": null,
   "metadata": {
    "collapsed": false
   },
   "outputs": [],
   "source": [
    "print (len(df_sandy_corpus))"
   ]
  },
  {
   "cell_type": "code",
   "execution_count": null,
   "metadata": {
    "collapsed": true
   },
   "outputs": [],
   "source": [
    "def load_api_keys(keyfile, delimiter):\n",
    "    '''Reads API keys from a file and stores them in a dictionary. Returns dictionary'''\n",
    "    keydict = {}\n",
    "    with open(keyfile, 'r') as f:\n",
    "        for line in f:\n",
    "            if line:\n",
    "                lst = line.split(delimiter)\n",
    "                if len(lst)==2:\n",
    "                    key, val = [item.strip() for item in lst]\n",
    "                    keydict[key] = val\n",
    "    return keydict"
   ]
  },
  {
   "cell_type": "code",
   "execution_count": null,
   "metadata": {
    "collapsed": false
   },
   "outputs": [],
   "source": [
    "# Retrieve a tweet using ID\n",
    "# standard\n",
    "from __future__ import print_function\n",
    "import sys\n",
    "import tweepy\n",
    "\n",
    "# global logger level is configured in main()\n",
    "Logger = None\n",
    "\n",
    "# Load API keys\n",
    "keyfile = 'TWITTER_API_KEYS'\n",
    "delimiter = '='\n",
    "keydict = load_api_keys(keyfile, delimiter)\n",
    "\n",
    "# connect to twitter\n",
    "auth = tweepy.OAuthHandler(keydict['CONSUMER_KEY'], keydict['CONSUMER_SECRET'])\n",
    "auth.set_access_token(keydict['OAUTH_TOKEN'], keydict['OAUTH_TOKEN_SECRET'])\n",
    "api = tweepy.API(auth, wait_on_rate_limit=True,wait_on_rate_limit_notify=True)\n",
    "\n",
    "if (not api):\n",
    "    print (\"Can't Authenticate\")\n",
    "    sys.exit(-1)"
   ]
  },
  {
   "cell_type": "code",
   "execution_count": null,
   "metadata": {
    "collapsed": false
   },
   "outputs": [],
   "source": [
    "tweet_id = 260244087901413376\n",
    "tweet = api.get_status(tweet_id)\n",
    "print(tweet)"
   ]
  },
  {
   "cell_type": "code",
   "execution_count": null,
   "metadata": {
    "collapsed": true
   },
   "outputs": [],
   "source": []
  }
 ],
 "metadata": {
  "kernelspec": {
   "display_name": "Python 2",
   "language": "python",
   "name": "python2"
  },
  "language_info": {
   "codemirror_mode": {
    "name": "ipython",
    "version": 2
   },
   "file_extension": ".py",
   "mimetype": "text/x-python",
   "name": "python",
   "nbconvert_exporter": "python",
   "pygments_lexer": "ipython2",
   "version": "2.7.12"
  }
 },
 "nbformat": 4,
 "nbformat_minor": 0
}
