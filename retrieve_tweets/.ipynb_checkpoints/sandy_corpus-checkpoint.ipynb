{
 "cells": [
  {
   "cell_type": "code",
   "execution_count": 1,
   "metadata": {
    "collapsed": false
   },
   "outputs": [],
   "source": [
    "import pandas as pd\n",
    "import numpy as np\n",
    "import re\n",
    "import tarfile"
   ]
  },
  {
   "cell_type": "code",
   "execution_count": null,
   "metadata": {
    "collapsed": false
   },
   "outputs": [],
   "source": [
    "fh = tarfile.open('sandy_corpus_tweet_ids.tgz', 'r:gz')\n",
    "f = fh.extractfile('release.txt')\n",
    "df_sandy_corpus = pd.read_csv(f, sep='\\t', names= [\"id\", \"time_stamp\", \"status\"])"
   ]
  },
  {
   "cell_type": "code",
   "execution_count": null,
   "metadata": {
    "collapsed": false
   },
   "outputs": [],
   "source": [
    "df_sandy_corpus.head()\n",
    "#re.findall(r'\\d+', df_sandy_corpus['id'].ix[0,:])"
   ]
  },
  {
   "cell_type": "code",
   "execution_count": null,
   "metadata": {
    "collapsed": false
   },
   "outputs": [],
   "source": [
    "#junk, df_sandy_corpus['id'] = zip(*df_sandy_corpus['id'].map(lambda x: x.split('2005:')))\n",
    "df_sandy_corpus['id'] = df_sandy_corpus['id'].map(lambda x: re.findall(r'\\d+', x)[1])\n",
    "df_sandy_corpus.head()"
   ]
  },
  {
   "cell_type": "code",
   "execution_count": null,
   "metadata": {
    "collapsed": false
   },
   "outputs": [],
   "source": [
    "print (len(df_sandy_corpus))"
   ]
  },
  {
   "cell_type": "code",
   "execution_count": 3,
   "metadata": {
    "collapsed": true
   },
   "outputs": [],
   "source": [
    "def load_api_keys(keyfile, delimiter):\n",
    "    '''Reads API keys from a file and stores them in a dictionary. Returns dictionary'''\n",
    "    keydict = {}\n",
    "    with open(keyfile, 'r') as f:\n",
    "        for line in f:\n",
    "            if line:\n",
    "                lst = line.split(delimiter)\n",
    "                if len(lst)==2:\n",
    "                    key, val = [item.strip() for item in lst]\n",
    "                    keydict[key] = val\n",
    "    return keydict"
   ]
  },
  {
   "cell_type": "code",
   "execution_count": 4,
   "metadata": {
    "collapsed": false
   },
   "outputs": [],
   "source": [
    "# Retrieve a tweet using ID\n",
    "# standard\n",
    "from __future__ import print_function\n",
    "import sys\n",
    "import tweepy\n",
    "\n",
    "# global logger level is configured in main()\n",
    "Logger = None\n",
    "\n",
    "# Load API keys\n",
    "keyfile = 'TWITTER_API_KEYS'\n",
    "delimiter = '='\n",
    "keydict = load_api_keys(keyfile, delimiter)\n",
    "\n",
    "# connect to twitter\n",
    "auth = tweepy.OAuthHandler(keydict['CONSUMER_KEY'], keydict['CONSUMER_SECRET'])\n",
    "auth.set_access_token(keydict['OAUTH_TOKEN'], keydict['OAUTH_TOKEN_SECRET'])\n",
    "api = tweepy.API(auth, wait_on_rate_limit=True,wait_on_rate_limit_notify=True)\n",
    "\n",
    "if (not api):\n",
    "    print (\"Can't Authenticate\")\n",
    "    sys.exit(-1)"
   ]
  },
  {
   "cell_type": "code",
   "execution_count": 5,
   "metadata": {
    "collapsed": false
   },
   "outputs": [
    {
     "name": "stdout",
     "output_type": "stream",
     "text": [
      "Status(contributors=None, truncated=False, text=u'\"I suppose she has an appropriate costume for every activity...\" #ilovemaggiesmith #downtonseasonthree', is_quote_status=False, in_reply_to_status_id=None, id=260244087901413376, favorite_count=0, _api=<tweepy.api.API object at 0x7f6c8675ed10>, author=User(follow_request_sent=False, has_extended_profile=False, profile_use_background_image=True, _json={u'follow_request_sent': False, u'has_extended_profile': False, u'profile_use_background_image': True, u'default_profile_image': False, u'id': 24753438, u'profile_background_image_url_https': u'https://pbs.twimg.com/profile_background_images/378800000016798824/aaa99e74644d12a3f624e5377f903699.jpeg', u'verified': False, u'translator_type': u'none', u'profile_text_color': u'333333', u'profile_image_url_https': u'https://pbs.twimg.com/profile_images/734572146182258688/28TAqAgL_normal.jpg', u'profile_sidebar_fill_color': u'DDEEF6', u'entities': {u'description': {u'urls': []}}, u'followers_count': 714, u'profile_sidebar_border_color': u'FFFFFF', u'id_str': u'24753438', u'profile_background_color': u'C0DEED', u'listed_count': 21, u'is_translation_enabled': False, u'utc_offset': -18000, u'statuses_count': 8270, u'description': u\"Proud member of Actors' Equity Association.\", u'friends_count': 2085, u'location': u'Tinton Falls, NJ', u'profile_link_color': u'0084B4', u'profile_image_url': u'http://pbs.twimg.com/profile_images/734572146182258688/28TAqAgL_normal.jpg', u'following': False, u'geo_enabled': True, u'profile_banner_url': u'https://pbs.twimg.com/profile_banners/24753438/1471695371', u'profile_background_image_url': u'http://pbs.twimg.com/profile_background_images/378800000016798824/aaa99e74644d12a3f624e5377f903699.jpeg', u'screen_name': u'williamstatham', u'lang': u'en', u'profile_background_tile': True, u'favourites_count': 6957, u'name': u'William C. Statham', u'notifications': False, u'url': None, u'created_at': u'Mon Mar 16 19:40:06 +0000 2009', u'contributors_enabled': False, u'time_zone': u'Eastern Time (US & Canada)', u'protected': False, u'default_profile': False, u'is_translator': False}, time_zone=u'Eastern Time (US & Canada)', id=24753438, description=u\"Proud member of Actors' Equity Association.\", _api=<tweepy.api.API object at 0x7f6c8675ed10>, verified=False, profile_text_color=u'333333', profile_image_url_https=u'https://pbs.twimg.com/profile_images/734572146182258688/28TAqAgL_normal.jpg', profile_sidebar_fill_color=u'DDEEF6', is_translator=False, geo_enabled=True, entities={u'description': {u'urls': []}}, followers_count=714, protected=False, id_str=u'24753438', default_profile_image=False, listed_count=21, lang=u'en', utc_offset=-18000, statuses_count=8270, profile_background_color=u'C0DEED', friends_count=2085, profile_link_color=u'0084B4', profile_image_url=u'http://pbs.twimg.com/profile_images/734572146182258688/28TAqAgL_normal.jpg', notifications=False, default_profile=False, profile_background_image_url_https=u'https://pbs.twimg.com/profile_background_images/378800000016798824/aaa99e74644d12a3f624e5377f903699.jpeg', profile_banner_url=u'https://pbs.twimg.com/profile_banners/24753438/1471695371', profile_background_image_url=u'http://pbs.twimg.com/profile_background_images/378800000016798824/aaa99e74644d12a3f624e5377f903699.jpeg', name=u'William C. Statham', is_translation_enabled=False, profile_background_tile=True, favourites_count=6957, screen_name=u'williamstatham', url=None, created_at=datetime.datetime(2009, 3, 16, 19, 40, 6), contributors_enabled=False, location=u'Tinton Falls, NJ', profile_sidebar_border_color=u'FFFFFF', translator_type=u'none', following=False), _json={u'contributors': None, u'truncated': False, u'text': u'\"I suppose she has an appropriate costume for every activity...\" #ilovemaggiesmith #downtonseasonthree', u'is_quote_status': False, u'in_reply_to_status_id': None, u'id': 260244087901413376, u'favorite_count': 0, u'source': u'<a href=\"http://twitter.com\" rel=\"nofollow\">Twitter Web Client</a>', u'retweeted': False, u'coordinates': None, u'entities': {u'symbols': [], u'user_mentions': [], u'hashtags': [{u'indices': [65, 82], u'text': u'ilovemaggiesmith'}, {u'indices': [83, 102], u'text': u'downtonseasonthree'}], u'urls': []}, u'in_reply_to_screen_name': None, u'in_reply_to_user_id': None, u'retweet_count': 0, u'id_str': u'260244087901413376', u'favorited': False, u'user': {u'follow_request_sent': False, u'has_extended_profile': False, u'profile_use_background_image': True, u'default_profile_image': False, u'id': 24753438, u'profile_background_image_url_https': u'https://pbs.twimg.com/profile_background_images/378800000016798824/aaa99e74644d12a3f624e5377f903699.jpeg', u'verified': False, u'translator_type': u'none', u'profile_text_color': u'333333', u'profile_image_url_https': u'https://pbs.twimg.com/profile_images/734572146182258688/28TAqAgL_normal.jpg', u'profile_sidebar_fill_color': u'DDEEF6', u'entities': {u'description': {u'urls': []}}, u'followers_count': 714, u'profile_sidebar_border_color': u'FFFFFF', u'id_str': u'24753438', u'profile_background_color': u'C0DEED', u'listed_count': 21, u'is_translation_enabled': False, u'utc_offset': -18000, u'statuses_count': 8270, u'description': u\"Proud member of Actors' Equity Association.\", u'friends_count': 2085, u'location': u'Tinton Falls, NJ', u'profile_link_color': u'0084B4', u'profile_image_url': u'http://pbs.twimg.com/profile_images/734572146182258688/28TAqAgL_normal.jpg', u'following': False, u'geo_enabled': True, u'profile_banner_url': u'https://pbs.twimg.com/profile_banners/24753438/1471695371', u'profile_background_image_url': u'http://pbs.twimg.com/profile_background_images/378800000016798824/aaa99e74644d12a3f624e5377f903699.jpeg', u'screen_name': u'williamstatham', u'lang': u'en', u'profile_background_tile': True, u'favourites_count': 6957, u'name': u'William C. Statham', u'notifications': False, u'url': None, u'created_at': u'Mon Mar 16 19:40:06 +0000 2009', u'contributors_enabled': False, u'time_zone': u'Eastern Time (US & Canada)', u'protected': False, u'default_profile': False, u'is_translator': False}, u'geo': None, u'in_reply_to_user_id_str': None, u'lang': u'en', u'created_at': u'Mon Oct 22 05:00:00 +0000 2012', u'in_reply_to_status_id_str': None, u'place': {u'full_name': u'West Long Branch, NJ', u'url': u'https://api.twitter.com/1.1/geo/id/c55500e8cd2a1c64.json', u'country': u'United States', u'place_type': u'city', u'bounding_box': {u'type': u'Polygon', u'coordinates': [[[-74.037008, 40.272289], [-74.0014001, 40.272289], [-74.0014001, 40.304894], [-74.037008, 40.304894]]]}, u'contained_within': [], u'country_code': u'US', u'attributes': {}, u'id': u'c55500e8cd2a1c64', u'name': u'West Long Branch'}}, coordinates=None, entities={u'symbols': [], u'user_mentions': [], u'hashtags': [{u'indices': [65, 82], u'text': u'ilovemaggiesmith'}, {u'indices': [83, 102], u'text': u'downtonseasonthree'}], u'urls': []}, in_reply_to_screen_name=None, id_str=u'260244087901413376', retweet_count=0, in_reply_to_user_id=None, favorited=False, source_url=u'http://twitter.com', user=User(follow_request_sent=False, has_extended_profile=False, profile_use_background_image=True, _json={u'follow_request_sent': False, u'has_extended_profile': False, u'profile_use_background_image': True, u'default_profile_image': False, u'id': 24753438, u'profile_background_image_url_https': u'https://pbs.twimg.com/profile_background_images/378800000016798824/aaa99e74644d12a3f624e5377f903699.jpeg', u'verified': False, u'translator_type': u'none', u'profile_text_color': u'333333', u'profile_image_url_https': u'https://pbs.twimg.com/profile_images/734572146182258688/28TAqAgL_normal.jpg', u'profile_sidebar_fill_color': u'DDEEF6', u'entities': {u'description': {u'urls': []}}, u'followers_count': 714, u'profile_sidebar_border_color': u'FFFFFF', u'id_str': u'24753438', u'profile_background_color': u'C0DEED', u'listed_count': 21, u'is_translation_enabled': False, u'utc_offset': -18000, u'statuses_count': 8270, u'description': u\"Proud member of Actors' Equity Association.\", u'friends_count': 2085, u'location': u'Tinton Falls, NJ', u'profile_link_color': u'0084B4', u'profile_image_url': u'http://pbs.twimg.com/profile_images/734572146182258688/28TAqAgL_normal.jpg', u'following': False, u'geo_enabled': True, u'profile_banner_url': u'https://pbs.twimg.com/profile_banners/24753438/1471695371', u'profile_background_image_url': u'http://pbs.twimg.com/profile_background_images/378800000016798824/aaa99e74644d12a3f624e5377f903699.jpeg', u'screen_name': u'williamstatham', u'lang': u'en', u'profile_background_tile': True, u'favourites_count': 6957, u'name': u'William C. Statham', u'notifications': False, u'url': None, u'created_at': u'Mon Mar 16 19:40:06 +0000 2009', u'contributors_enabled': False, u'time_zone': u'Eastern Time (US & Canada)', u'protected': False, u'default_profile': False, u'is_translator': False}, time_zone=u'Eastern Time (US & Canada)', id=24753438, description=u\"Proud member of Actors' Equity Association.\", _api=<tweepy.api.API object at 0x7f6c8675ed10>, verified=False, profile_text_color=u'333333', profile_image_url_https=u'https://pbs.twimg.com/profile_images/734572146182258688/28TAqAgL_normal.jpg', profile_sidebar_fill_color=u'DDEEF6', is_translator=False, geo_enabled=True, entities={u'description': {u'urls': []}}, followers_count=714, protected=False, id_str=u'24753438', default_profile_image=False, listed_count=21, lang=u'en', utc_offset=-18000, statuses_count=8270, profile_background_color=u'C0DEED', friends_count=2085, profile_link_color=u'0084B4', profile_image_url=u'http://pbs.twimg.com/profile_images/734572146182258688/28TAqAgL_normal.jpg', notifications=False, default_profile=False, profile_background_image_url_https=u'https://pbs.twimg.com/profile_background_images/378800000016798824/aaa99e74644d12a3f624e5377f903699.jpeg', profile_banner_url=u'https://pbs.twimg.com/profile_banners/24753438/1471695371', profile_background_image_url=u'http://pbs.twimg.com/profile_background_images/378800000016798824/aaa99e74644d12a3f624e5377f903699.jpeg', name=u'William C. Statham', is_translation_enabled=False, profile_background_tile=True, favourites_count=6957, screen_name=u'williamstatham', url=None, created_at=datetime.datetime(2009, 3, 16, 19, 40, 6), contributors_enabled=False, location=u'Tinton Falls, NJ', profile_sidebar_border_color=u'FFFFFF', translator_type=u'none', following=False), geo=None, in_reply_to_user_id_str=None, lang=u'en', created_at=datetime.datetime(2012, 10, 22, 5, 0), in_reply_to_status_id_str=None, place=Place(_api=<tweepy.api.API object at 0x7f6c8675ed10>, country_code=u'US', url=u'https://api.twitter.com/1.1/geo/id/c55500e8cd2a1c64.json', country=u'United States', place_type=u'city', bounding_box=BoundingBox(_api=<tweepy.api.API object at 0x7f6c8675ed10>, type=u'Polygon', coordinates=[[[-74.037008, 40.272289], [-74.0014001, 40.272289], [-74.0014001, 40.304894], [-74.037008, 40.304894]]]), contained_within=[], full_name=u'West Long Branch, NJ', attributes={}, id=u'c55500e8cd2a1c64', name=u'West Long Branch'), source=u'Twitter Web Client', retweeted=False)\n"
     ]
    }
   ],
   "source": [
    "tweet_id = 260244087901413376\n",
    "tweet = api.get_status(tweet_id)\n",
    "print(tweet)"
   ]
  },
  {
   "cell_type": "code",
   "execution_count": null,
   "metadata": {
    "collapsed": true
   },
   "outputs": [],
   "source": []
  }
 ],
 "metadata": {
  "kernelspec": {
   "display_name": "Python 2",
   "language": "python",
   "name": "python2"
  },
  "language_info": {
   "codemirror_mode": {
    "name": "ipython",
    "version": 2
   },
   "file_extension": ".py",
   "mimetype": "text/x-python",
   "name": "python",
   "nbconvert_exporter": "python",
   "pygments_lexer": "ipython2",
   "version": "2.7.12"
  }
 },
 "nbformat": 4,
 "nbformat_minor": 0
}
