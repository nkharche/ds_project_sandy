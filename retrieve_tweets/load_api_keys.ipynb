{
 "cells": [
  {
   "cell_type": "code",
   "execution_count": 1,
   "metadata": {
    "collapsed": false
   },
   "outputs": [],
   "source": [
    "def load_api_keys(keyfile, delimiter):\n",
    "    '''Reads API keys from a file and stores them in a dictionary. Returns dictionary'''\n",
    "    keydict = {}\n",
    "    with open(keyfile, 'r') as f:\n",
    "        for line in f:\n",
    "            if line:\n",
    "                lst = line.split(delimiter)\n",
    "                if len(lst)==2:\n",
    "                    key, val = [item.strip() for item in lst]\n",
    "                    keydict[key] = val\n",
    "    return keydict\n",
    "        \n",
    "keyfile = 'TWITTER_API_KEYS'\n",
    "delimiter = '='\n",
    "keydict = load_api_keys(keyfile, delimiter)"
   ]
  },
  {
   "cell_type": "code",
   "execution_count": null,
   "metadata": {
    "collapsed": true
   },
   "outputs": [],
   "source": []
  },
  {
   "cell_type": "code",
   "execution_count": null,
   "metadata": {
    "collapsed": true
   },
   "outputs": [],
   "source": []
  }
 ],
 "metadata": {
  "kernelspec": {
   "display_name": "Python 2",
   "language": "python",
   "name": "python2"
  },
  "language_info": {
   "codemirror_mode": {
    "name": "ipython",
    "version": 2
   },
   "file_extension": ".py",
   "mimetype": "text/x-python",
   "name": "python",
   "nbconvert_exporter": "python",
   "pygments_lexer": "ipython2",
   "version": "2.7.12"
  }
 },
 "nbformat": 4,
 "nbformat_minor": 1
}
