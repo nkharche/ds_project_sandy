{
 "cells": [
  {
   "cell_type": "code",
   "execution_count": 1,
   "metadata": {
    "collapsed": true
   },
   "outputs": [],
   "source": [
    "import pandas as pd\n",
    "import numpy as np\n",
    "import matplotlib.pyplot as plt\n",
    "%matplotlib inline"
   ]
  },
  {
   "cell_type": "code",
   "execution_count": 2,
   "metadata": {
    "collapsed": false
   },
   "outputs": [],
   "source": [
    "def load_tweets(tweets_attributes_file, tweets_text_file):\n",
    "    df = pd.read_csv(tweets_attributes_file, index_col=0)\n",
    "    text = []\n",
    "    with open(tweets_text_file, 'r') as f:\n",
    "        for line in f:\n",
    "            text.append(line)\n",
    "    df['text'] = text\n",
    "    return df"
   ]
  },
  {
   "cell_type": "code",
   "execution_count": 3,
   "metadata": {
    "collapsed": false
   },
   "outputs": [
    {
     "data": {
      "text/html": [
       "<div>\n",
       "<table border=\"1\" class=\"dataframe\">\n",
       "  <thead>\n",
       "    <tr style=\"text-align: right;\">\n",
       "      <th></th>\n",
       "      <th>tweet_id</th>\n",
       "      <th>user_id</th>\n",
       "      <th>retweet_count</th>\n",
       "      <th>time_stamp</th>\n",
       "      <th>longitude</th>\n",
       "      <th>latitude</th>\n",
       "      <th>state</th>\n",
       "      <th>county</th>\n",
       "      <th>county_tweet_count</th>\n",
       "      <th>sentiment</th>\n",
       "      <th>text</th>\n",
       "    </tr>\n",
       "  </thead>\n",
       "  <tbody>\n",
       "    <tr>\n",
       "      <th>0</th>\n",
       "      <td>260244125050363904</td>\n",
       "      <td>295902181</td>\n",
       "      <td>0</td>\n",
       "      <td>2012-10-22 05:00:09</td>\n",
       "      <td>-74.078101</td>\n",
       "      <td>40.735218</td>\n",
       "      <td>New Jersey</td>\n",
       "      <td>Hudson County</td>\n",
       "      <td>52264</td>\n",
       "      <td>1</td>\n",
       "      <td>all i wish is to be better than yesterday and ...</td>\n",
       "    </tr>\n",
       "    <tr>\n",
       "      <th>1</th>\n",
       "      <td>260244177412042752</td>\n",
       "      <td>85314436</td>\n",
       "      <td>0</td>\n",
       "      <td>2012-10-22 05:00:21</td>\n",
       "      <td>-81.505790</td>\n",
       "      <td>33.460462</td>\n",
       "      <td>South Carolina</td>\n",
       "      <td>Barnwell County</td>\n",
       "      <td>1375</td>\n",
       "      <td>0</td>\n",
       "      <td>@imSunnyAF yesssss lawd\\n</td>\n",
       "    </tr>\n",
       "    <tr>\n",
       "      <th>2</th>\n",
       "      <td>260244177105850368</td>\n",
       "      <td>239968255</td>\n",
       "      <td>0</td>\n",
       "      <td>2012-10-22 05:00:21</td>\n",
       "      <td>-77.099999</td>\n",
       "      <td>39.344184</td>\n",
       "      <td>Maryland</td>\n",
       "      <td>Carroll County</td>\n",
       "      <td>7707</td>\n",
       "      <td>1</td>\n",
       "      <td>\"Waiting for something better , a better you ....</td>\n",
       "    </tr>\n",
       "    <tr>\n",
       "      <th>3</th>\n",
       "      <td>260244156729942016</td>\n",
       "      <td>703352862</td>\n",
       "      <td>0</td>\n",
       "      <td>2012-10-22 05:00:17</td>\n",
       "      <td>-80.907470</td>\n",
       "      <td>39.618102</td>\n",
       "      <td>West Virginia</td>\n",
       "      <td>Tyler County</td>\n",
       "      <td>175</td>\n",
       "      <td>1</td>\n",
       "      <td>Cool right ? #plainoldshirt http://t.co/B55dMS...</td>\n",
       "    </tr>\n",
       "    <tr>\n",
       "      <th>4</th>\n",
       "      <td>260244145694728192</td>\n",
       "      <td>581488152</td>\n",
       "      <td>0</td>\n",
       "      <td>2012-10-22 05:00:14</td>\n",
       "      <td>-76.579826</td>\n",
       "      <td>39.816450</td>\n",
       "      <td>Pennsylvania</td>\n",
       "      <td>York County</td>\n",
       "      <td>20191</td>\n",
       "      <td>0</td>\n",
       "      <td>#10PeopleYouTrulyLove My son\\n</td>\n",
       "    </tr>\n",
       "  </tbody>\n",
       "</table>\n",
       "</div>"
      ],
      "text/plain": [
       "             tweet_id    user_id  retweet_count           time_stamp  \\\n",
       "0  260244125050363904  295902181              0  2012-10-22 05:00:09   \n",
       "1  260244177412042752   85314436              0  2012-10-22 05:00:21   \n",
       "2  260244177105850368  239968255              0  2012-10-22 05:00:21   \n",
       "3  260244156729942016  703352862              0  2012-10-22 05:00:17   \n",
       "4  260244145694728192  581488152              0  2012-10-22 05:00:14   \n",
       "\n",
       "   longitude   latitude           state           county  county_tweet_count  \\\n",
       "0 -74.078101  40.735218      New Jersey    Hudson County               52264   \n",
       "1 -81.505790  33.460462  South Carolina  Barnwell County                1375   \n",
       "2 -77.099999  39.344184        Maryland   Carroll County                7707   \n",
       "3 -80.907470  39.618102   West Virginia     Tyler County                 175   \n",
       "4 -76.579826  39.816450    Pennsylvania      York County               20191   \n",
       "\n",
       "   sentiment                                               text  \n",
       "0          1  all i wish is to be better than yesterday and ...  \n",
       "1          0                          @imSunnyAF yesssss lawd\\n  \n",
       "2          1  \"Waiting for something better , a better you ....  \n",
       "3          1  Cool right ? #plainoldshirt http://t.co/B55dMS...  \n",
       "4          0                     #10PeopleYouTrulyLove My son\\n  "
      ]
     },
     "execution_count": 3,
     "metadata": {},
     "output_type": "execute_result"
    }
   ],
   "source": [
    "# Load tweet data\n",
    "tweets_attributes_file = 'sandy_tweets_attributes_rev_geocoded_formatted_timestamps.csv'\n",
    "tweets_text_file = 'sandy_tweets_text_tokenized.txt'\n",
    "\n",
    "df = load_tweets(tweets_attributes_file, tweets_text_file)\n",
    "#df = pd.read_csv(open('sandy_tweets_1.csv'), encoding='utf-8', engine='c')\n",
    "df.head()"
   ]
  },
  {
   "cell_type": "code",
   "execution_count": 4,
   "metadata": {
    "collapsed": false
   },
   "outputs": [],
   "source": [
    "# Replace missing value in 'county' column by empty string. e.g. Washington D.C.\n",
    "df['county'] = df['county'].replace(np.nan,'', regex=True)\n",
    "\n",
    "# Convert to datetime\n",
    "df['time_stamp'] = pd.to_datetime(df['time_stamp'])"
   ]
  },
  {
   "cell_type": "code",
   "execution_count": 5,
   "metadata": {
    "collapsed": false
   },
   "outputs": [
    {
     "name": "stdout",
     "output_type": "stream",
     "text": [
      "2012-10-22 05:00:00\n",
      "2012-11-02 04:59:51\n"
     ]
    }
   ],
   "source": [
    "print (min(df['time_stamp']))\n",
    "print (max(df['time_stamp']))"
   ]
  },
  {
   "cell_type": "code",
   "execution_count": 6,
   "metadata": {
    "collapsed": true
   },
   "outputs": [],
   "source": [
    "import pytz\n",
    "\n",
    "def plot_tweets_per_hour(df):\n",
    "    # Set datetime as index\n",
    "    df1 = df.set_index(['time_stamp'])\n",
    "    # Group tweets by hour\n",
    "    #tweets_per_hr = df1['tweet_id'].resample('H', how='count')\n",
    "    tweets_per_hr = df1['tweet_id'].resample('H').count()\n",
    "    \n",
    "    eastern = pytz.timezone('US/Eastern')\n",
    "    tweets_per_hr.index = tweets_per_hr.index.tz_localize(pytz.utc).tz_convert(eastern)\n",
    "    \n",
    "    plt.plot(tweets_per_hr.index, tweets_per_hr, 'r')\n",
    "    plt.ylabel('Tweets per hour')\n",
    "    plt.xticks(rotation='vertical')\n",
    "    plt.show()"
   ]
  },
  {
   "cell_type": "code",
   "execution_count": 7,
   "metadata": {
    "collapsed": false
   },
   "outputs": [
    {
     "data": {
      "image/png": "[encoded data removed]",
      "text/plain": [
       "<matplotlib.figure.Figure at 0x7f39cd913950>"
      ]
     },
     "metadata": {},
     "output_type": "display_data"
    }
   ],
   "source": [
    "plot_tweets_per_hour(df)"
   ]
  },
  {
   "cell_type": "markdown",
   "metadata": {},
   "source": [
    "## Filter Sandy related tweets and plot count as a function of time"
   ]
  },
  {
   "cell_type": "code",
   "execution_count": 8,
   "metadata": {
    "collapsed": true
   },
   "outputs": [],
   "source": [
    "sandy_keywords = ['sandy', 'hurricane', 'hurricanesandy', 'storm', 'frankenstorm']\n",
    "sandy_keywords = sandy_keywords + ['#'+kw for kw in sandy_keywords]\n",
    "\n",
    "pattern = ' ' + ' | '.join(sandy_keywords) + ' '\n",
    "pattern\n",
    "df_sandy = df[df['text'].str.contains(pattern)]"
   ]
  },
  {
   "cell_type": "code",
   "execution_count": 9,
   "metadata": {
    "collapsed": false
   },
   "outputs": [
    {
     "name": "stdout",
     "output_type": "stream",
     "text": [
      "Total number of Sandy related tweets: 54105\n"
     ]
    }
   ],
   "source": [
    "print ('Total number of Sandy related tweets: %d' % len(df_sandy))"
   ]
  },
  {
   "cell_type": "code",
   "execution_count": 10,
   "metadata": {
    "collapsed": false
   },
   "outputs": [
    {
     "data": {
      "image/png": "[encoded data removed]",
      "text/plain": [
       "<matplotlib.figure.Figure at 0x7f39c900f950>"
      ]
     },
     "metadata": {},
     "output_type": "display_data"
    }
   ],
   "source": [
    "plot_tweets_per_hour(df_sandy)"
   ]
  },
  {
   "cell_type": "code",
   "execution_count": null,
   "metadata": {
    "collapsed": true
   },
   "outputs": [],
   "source": []
  },
  {
   "cell_type": "code",
   "execution_count": 11,
   "metadata": {
    "collapsed": false
   },
   "outputs": [
    {
     "data": {
      "text/html": [
       "\n",
       "    <div class=\"bk-root\">\n",
       "        <a href=\"http://bokeh.pydata.org\" target=\"_blank\" class=\"bk-logo bk-logo-small bk-logo-notebook\"></a>\n",
       "        <span id=\"ee4b0564-633c-4c65-8403-ee6279c3a259\">Loading BokehJS ...</span>\n",
       "    </div>"
      ]
     },
     "metadata": {},
     "output_type": "display_data"
    },
    {
     "data": {
      "application/javascript": [
       "\n",
       "(function(global) {\n",
       "  function now() {\n",
       "    return new Date();\n",
       "  }\n",
       "\n",
       "  var force = \"1\";\n",
       "\n",
       "  if (typeof (window._bokeh_onload_callbacks) === \"undefined\" || force !== \"\") {\n",
       "    window._bokeh_onload_callbacks = [];\n",
       "    window._bokeh_is_loading = undefined;\n",
       "  }\n",
       "\n",
       "\n",
       "  \n",
       "  if (typeof (window._bokeh_timeout) === \"undefined\" || force !== \"\") {\n",
       "    window._bokeh_timeout = Date.now() + 5000;\n",
       "    window._bokeh_failed_load = false;\n",
       "  }\n",
       "\n",
       "  var NB_LOAD_WARNING = {'data': {'text/html':\n",
       "     \"<div style='background-color: #fdd'>\\n\"+\n",
       "     \"<p>\\n\"+\n",
       "     \"BokehJS does not appear to have successfully loaded. If loading BokehJS from CDN, this \\n\"+\n",
       "     \"may be due to a slow or bad network connection. Possible fixes:\\n\"+\n",
       "     \"</p>\\n\"+\n",
       "     \"<ul>\\n\"+\n",
       "     \"<li>re-rerun `output_notebook()` to attempt to load from CDN again, or</li>\\n\"+\n",
       "     \"<li>use INLINE resources instead, as so:</li>\\n\"+\n",
       "     \"</ul>\\n\"+\n",
       "     \"<code>\\n\"+\n",
       "     \"from bokeh.resources import INLINE\\n\"+\n",
       "     \"output_notebook(resources=INLINE)\\n\"+\n",
       "     \"</code>\\n\"+\n",
       "     \"</div>\"}};\n",
       "\n",
       "  function display_loaded() {\n",
       "    if (window.Bokeh !== undefined) {\n",
       "      Bokeh.$(\"#ee4b0564-633c-4c65-8403-ee6279c3a259\").text(\"BokehJS successfully loaded.\");\n",
       "    } else if (Date.now() < window._bokeh_timeout) {\n",
       "      setTimeout(display_loaded, 100)\n",
       "    }\n",
       "  }\n",
       "\n",
       "  function run_callbacks() {\n",
       "    window._bokeh_onload_callbacks.forEach(function(callback) { callback() });\n",
       "    delete window._bokeh_onload_callbacks\n",
       "    console.info(\"Bokeh: all callbacks have finished\");\n",
       "  }\n",
       "\n",
       "  function load_libs(js_urls, callback) {\n",
       "    window._bokeh_onload_callbacks.push(callback);\n",
       "    if (window._bokeh_is_loading > 0) {\n",
       "      console.log(\"Bokeh: BokehJS is being loaded, scheduling callback at\", now());\n",
       "      return null;\n",
       "    }\n",
       "    if (js_urls == null || js_urls.length === 0) {\n",
       "      run_callbacks();\n",
       "      return null;\n",
       "    }\n",
       "    console.log(\"Bokeh: BokehJS not loaded, scheduling load and callback at\", now());\n",
       "    window._bokeh_is_loading = js_urls.length;\n",
       "    for (var i = 0; i < js_urls.length; i++) {\n",
       "      var url = js_urls[i];\n",
       "      var s = document.createElement('script');\n",
       "      s.src = url;\n",
       "      s.async = false;\n",
       "      s.onreadystatechange = s.onload = function() {\n",
       "        window._bokeh_is_loading--;\n",
       "        if (window._bokeh_is_loading === 0) {\n",
       "          console.log(\"Bokeh: all BokehJS libraries loaded\");\n",
       "          run_callbacks()\n",
       "        }\n",
       "      };\n",
       "      s.onerror = function() {\n",
       "        console.warn(\"failed to load library \" + url);\n",
       "      };\n",
       "      console.log(\"Bokeh: injecting script tag for BokehJS library: \", url);\n",
       "      document.getElementsByTagName(\"head\")[0].appendChild(s);\n",
       "    }\n",
       "  };var element = document.getElementById(\"ee4b0564-633c-4c65-8403-ee6279c3a259\");\n",
       "  if (element == null) {\n",
       "    console.log(\"Bokeh: ERROR: autoload.js configured with elementid 'ee4b0564-633c-4c65-8403-ee6279c3a259' but no matching script tag was found. \")\n",
       "    return false;\n",
       "  }\n",
       "\n",
       "  var js_urls = ['https://cdn.pydata.org/bokeh/release/bokeh-0.12.3.min.js', 'https://cdn.pydata.org/bokeh/release/bokeh-widgets-0.12.3.min.js'];\n",
       "\n",
       "  var inline_js = [\n",
       "    function(Bokeh) {\n",
       "      Bokeh.set_log_level(\"info\");\n",
       "    },\n",
       "    \n",
       "    function(Bokeh) {\n",
       "      \n",
       "      Bokeh.$(\"#ee4b0564-633c-4c65-8403-ee6279c3a259\").text(\"BokehJS is loading...\");\n",
       "    },\n",
       "    function(Bokeh) {\n",
       "      console.log(\"Bokeh: injecting CSS: https://cdn.pydata.org/bokeh/release/bokeh-0.12.3.min.css\");\n",
       "      Bokeh.embed.inject_css(\"https://cdn.pydata.org/bokeh/release/bokeh-0.12.3.min.css\");\n",
       "      console.log(\"Bokeh: injecting CSS: https://cdn.pydata.org/bokeh/release/bokeh-widgets-0.12.3.min.css\");\n",
       "      Bokeh.embed.inject_css(\"https://cdn.pydata.org/bokeh/release/bokeh-widgets-0.12.3.min.css\");\n",
       "    }\n",
       "  ];\n",
       "\n",
       "  function run_inline_js() {\n",
       "    \n",
       "    if ((window.Bokeh !== undefined) || (force === \"1\")) {\n",
       "      for (var i = 0; i < inline_js.length; i++) {\n",
       "        inline_js[i](window.Bokeh);\n",
       "      }if (force === \"1\") {\n",
       "        display_loaded();\n",
       "      }} else if (Date.now() < window._bokeh_timeout) {\n",
       "      setTimeout(run_inline_js, 100);\n",
       "    } else if (!window._bokeh_failed_load) {\n",
       "      console.log(\"Bokeh: BokehJS failed to load within specified timeout.\");\n",
       "      window._bokeh_failed_load = true;\n",
       "    } else if (!force) {\n",
       "      var cell = $(\"#ee4b0564-633c-4c65-8403-ee6279c3a259\").parents('.cell').data().cell;\n",
       "      cell.output_area.append_execute_result(NB_LOAD_WARNING)\n",
       "    }\n",
       "\n",
       "  }\n",
       "\n",
       "  if (window._bokeh_is_loading === 0) {\n",
       "    console.log(\"Bokeh: BokehJS loaded, going straight to plotting\");\n",
       "    run_inline_js();\n",
       "  } else {\n",
       "    load_libs(js_urls, function() {\n",
       "      console.log(\"Bokeh: BokehJS plotting callback run at\", now());\n",
       "      run_inline_js();\n",
       "    });\n",
       "  }\n",
       "}(this));"
      ]
     },
     "metadata": {},
     "output_type": "display_data"
    }
   ],
   "source": [
    "from bokeh.io import output_notebook, show\n",
    "output_notebook()\n",
    "\n",
    "from bokeh.plotting import figure, ColumnDataSource\n",
    "from bokeh.tile_providers import WMTSTileSource\n",
    "from bokeh.plotting import Figure, show, output_file\n",
    "from bokeh.models import HoverTool, BoxSelectTool\n",
    "from bokeh.models import LinearAxis, Range1d\n",
    "\n",
    "from bokeh.models.formatters import DatetimeTickFormatter\n",
    "\n",
    "import matplotlib.cm as cm\n",
    "from math import pi"
   ]
  },
  {
   "cell_type": "code",
   "execution_count": null,
   "metadata": {
    "collapsed": false
   },
   "outputs": [],
   "source": []
  },
  {
   "cell_type": "code",
   "execution_count": 12,
   "metadata": {
    "collapsed": true
   },
   "outputs": [],
   "source": [
    "import pytz\n",
    "\n",
    "def prep_plot(df):\n",
    "    # Group tweets by hour\n",
    "    df2 = df.set_index(['time_stamp'])\n",
    "    tweets_per_hr = df2['tweet_id'].resample('H').count()\n",
    "\n",
    "    eastern = pytz.timezone('US/Eastern')\n",
    "    tweets_per_hr.index = tweets_per_hr.index.tz_localize(pytz.utc).tz_convert(eastern)\n",
    "    x = pd.DataFrame(tweets_per_hr.index )\n",
    "    x = pd.to_datetime(x['time_stamp'])\n",
    "    y = list(tweets_per_hr.values)\n",
    "    \n",
    "    return x, y"
   ]
  },
  {
   "cell_type": "code",
   "execution_count": null,
   "metadata": {
    "collapsed": false
   },
   "outputs": [],
   "source": [
    "x1, y1 = prep_plot(df)\n",
    "x2, y2 = prep_plot(df_sandy)\n",
    "\n",
    "output_file('tweet_traffic_vs_time.html')\n",
    "\n",
    "p = figure(plot_width=800, plot_height=400, x_axis_type=\"datetime\", toolbar_location=\"above\")\n",
    "\n",
    "# Setting the second y axis range name and range\n",
    "p.extra_y_ranges = {\"sandy\": Range1d(start=0, end=2000)}\n",
    "# Adding the second axis to the plot.  \n",
    "p.add_layout(LinearAxis(y_range_name=\"sandy\"), 'right')\n",
    "\n",
    "## add lines\n",
    "#p.line([1, 2, 3, 4, 5], [6, 7, 6, 4, 5], line_width=2)\n",
    "#p.line(x=[1, 2, 3, 4, 5], y=[1, 4, 2, 5, 3], line_width=4, color=\"#CAB2D6\", y_range_name=\"foo\")\n",
    "\n",
    "p.line(x1, y1, color='navy', alpha=0.5, line_width=2, legend=\"All Tweets\")\n",
    "p.line(x2, y2, color='red', alpha=1, line_width=2, y_range_name=\"sandy\", legend=\"Sandy related Tweets\")\n",
    "\n",
    "# Setting the y  axis range   \n",
    "#p.y_range = Range1d(0, 12)    \n",
    "\n",
    "p.axis.major_label_text_font_size = \"10pt\"\n",
    "p.yaxis.axis_label = 'Tweets per hour'\n",
    "p.yaxis[0].axis_line_color = \"navy\"\n",
    "p.yaxis[1].axis_line_color = \"red\"\n",
    "p.xgrid[0].ticker.desired_num_ticks = 12 # 12 days\n",
    "\n",
    "p.xaxis.formatter = DatetimeTickFormatter(days = ['%b %d'])\n",
    "p.xaxis.major_label_orientation = pi / 3\n",
    "\n",
    "\n",
    "#p.ylabel('Tweets per hour')\n",
    "#p.xticks(rotation='vertical')\n",
    "show(p)"
   ]
  },
  {
   "cell_type": "code",
   "execution_count": null,
   "metadata": {
    "collapsed": false
   },
   "outputs": [],
   "source": []
  },
  {
   "cell_type": "code",
   "execution_count": null,
   "metadata": {
    "collapsed": true
   },
   "outputs": [],
   "source": []
  }
 ],
 "metadata": {
  "kernelspec": {
   "display_name": "Python 2",
   "language": "python",
   "name": "python2"
  },
  "language_info": {
   "codemirror_mode": {
    "name": "ipython",
    "version": 2
   },
   "file_extension": ".py",
   "mimetype": "text/x-python",
   "name": "python",
   "nbconvert_exporter": "python",
   "pygments_lexer": "ipython2",
   "version": "2.7.12"
  }
 },
 "nbformat": 4,
 "nbformat_minor": 0
}
