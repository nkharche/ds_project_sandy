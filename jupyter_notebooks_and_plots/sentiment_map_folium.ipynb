{
 "cells": [
  {
   "cell_type": "code",
   "execution_count": 1,
   "metadata": {
    "collapsed": false
   },
   "outputs": [],
   "source": [
    "import pandas as pd\n",
    "import numpy as np\n",
    "import folium\n",
    "from folium import plugins\n",
    "import os"
   ]
  },
  {
   "cell_type": "markdown",
   "metadata": {},
   "source": [
    "## Load data"
   ]
  },
  {
   "cell_type": "code",
   "execution_count": 2,
   "metadata": {
    "collapsed": true
   },
   "outputs": [],
   "source": [
    "def load_tweets(tweets_attributes_file, tweets_text_file):\n",
    "    df = pd.read_csv(tweets_attributes_file, index_col=0)\n",
    "    text = []\n",
    "    with open(tweets_text_file, 'r') as f:\n",
    "        for line in f:\n",
    "            text.append(line)\n",
    "    df['text'] = text\n",
    "    return df"
   ]
  },
  {
   "cell_type": "code",
   "execution_count": 3,
   "metadata": {
    "collapsed": false
   },
   "outputs": [],
   "source": [
    "tweets_attributes_file = 'sandy_tweets_attributes_rev_geocoded_formatted_timestamps.csv'\n",
    "tweets_text_file = 'sandy_tweets_text_tokenized.txt'\n",
    "\n",
    "df = load_tweets(tweets_attributes_file, tweets_text_file)\n",
    "#df = pd.read_csv(open('sandy_tweets_1.csv'), encoding='utf-8', engine='c')\n",
    "#df.head()"
   ]
  },
  {
   "cell_type": "code",
   "execution_count": 4,
   "metadata": {
    "collapsed": false
   },
   "outputs": [
    {
     "data": {
      "text/html": [
       "<div>\n",
       "<table border=\"1\" class=\"dataframe\">\n",
       "  <thead>\n",
       "    <tr style=\"text-align: right;\">\n",
       "      <th></th>\n",
       "      <th>tweet_id</th>\n",
       "      <th>user_id</th>\n",
       "      <th>retweet_count</th>\n",
       "      <th>time_stamp</th>\n",
       "      <th>longitude</th>\n",
       "      <th>latitude</th>\n",
       "      <th>state</th>\n",
       "      <th>county</th>\n",
       "      <th>text</th>\n",
       "      <th>county_tweet_count</th>\n",
       "    </tr>\n",
       "  </thead>\n",
       "  <tbody>\n",
       "    <tr>\n",
       "      <th>0</th>\n",
       "      <td>260244125050363904</td>\n",
       "      <td>295902181</td>\n",
       "      <td>0</td>\n",
       "      <td>2012-10-22 05:00:09</td>\n",
       "      <td>-74.078101</td>\n",
       "      <td>40.735218</td>\n",
       "      <td>New Jersey</td>\n",
       "      <td>Hudson County</td>\n",
       "      <td>all i wish is to be better than yesterday and ...</td>\n",
       "      <td>52264</td>\n",
       "    </tr>\n",
       "    <tr>\n",
       "      <th>1</th>\n",
       "      <td>260244177412042752</td>\n",
       "      <td>85314436</td>\n",
       "      <td>0</td>\n",
       "      <td>2012-10-22 05:00:21</td>\n",
       "      <td>-81.505790</td>\n",
       "      <td>33.460462</td>\n",
       "      <td>South Carolina</td>\n",
       "      <td>Barnwell County</td>\n",
       "      <td>@imSunnyAF yesssss lawd\\n</td>\n",
       "      <td>1375</td>\n",
       "    </tr>\n",
       "  </tbody>\n",
       "</table>\n",
       "</div>"
      ],
      "text/plain": [
       "             tweet_id    user_id  retweet_count           time_stamp  \\\n",
       "0  260244125050363904  295902181              0  2012-10-22 05:00:09   \n",
       "1  260244177412042752   85314436              0  2012-10-22 05:00:21   \n",
       "\n",
       "   longitude   latitude           state           county  \\\n",
       "0 -74.078101  40.735218      New Jersey    Hudson County   \n",
       "1 -81.505790  33.460462  South Carolina  Barnwell County   \n",
       "\n",
       "                                                text  county_tweet_count  \n",
       "0  all i wish is to be better than yesterday and ...               52264  \n",
       "1                          @imSunnyAF yesssss lawd\\n                1375  "
      ]
     },
     "execution_count": 4,
     "metadata": {},
     "output_type": "execute_result"
    }
   ],
   "source": [
    "df['county'] = df['county'].replace(np.nan,'', regex=True)\n",
    "df['county_tweet_count'] = df.groupby(['state', 'county'])['tweet_id'].transform('count')\n",
    "df.head(2)"
   ]
  },
  {
   "cell_type": "markdown",
   "metadata": {},
   "source": [
    "## Sentiment analysis"
   ]
  },
  {
   "cell_type": "code",
   "execution_count": 5,
   "metadata": {
    "collapsed": true
   },
   "outputs": [],
   "source": [
    "#from textblob import TextBlob\n",
    "#\n",
    "#def calc_sentiment(text):\n",
    "#    # pass tweet into TextBlob\n",
    "#    tweet = TextBlob(text.decode(\"utf-8\", \"replace\"))\n",
    "#    \n",
    "#    # output sentiment polarity\n",
    "#    if (tweet.sentiment.polarity<0):\n",
    "#        return -1 # Negative\n",
    "#    elif (tweet.sentiment.polarity==0):\n",
    "#        return 0 # Neutral\n",
    "#    else:\n",
    "#        return 1 # Positive"
   ]
  },
  {
   "cell_type": "code",
   "execution_count": 6,
   "metadata": {
    "collapsed": true
   },
   "outputs": [],
   "source": [
    "#tweet_sentiment = df['text'].apply(calc_sentiment).values\n",
    "#df['sentiment'] = tweet_sentiment"
   ]
  },
  {
   "cell_type": "code",
   "execution_count": 8,
   "metadata": {
    "collapsed": false
   },
   "outputs": [
    {
     "data": {
      "text/html": [
       "<div>\n",
       "<table border=\"1\" class=\"dataframe\">\n",
       "  <thead>\n",
       "    <tr style=\"text-align: right;\">\n",
       "      <th></th>\n",
       "      <th>tweet_id</th>\n",
       "      <th>user_id</th>\n",
       "      <th>retweet_count</th>\n",
       "      <th>time_stamp</th>\n",
       "      <th>longitude</th>\n",
       "      <th>latitude</th>\n",
       "      <th>state</th>\n",
       "      <th>county</th>\n",
       "      <th>county_tweet_count</th>\n",
       "      <th>sentiment</th>\n",
       "    </tr>\n",
       "  </thead>\n",
       "  <tbody>\n",
       "    <tr>\n",
       "      <th>0</th>\n",
       "      <td>260244125050363904</td>\n",
       "      <td>295902181</td>\n",
       "      <td>0</td>\n",
       "      <td>2012-10-22 05:00:09</td>\n",
       "      <td>-74.078101</td>\n",
       "      <td>40.735218</td>\n",
       "      <td>New Jersey</td>\n",
       "      <td>Hudson County</td>\n",
       "      <td>52264</td>\n",
       "      <td>1</td>\n",
       "    </tr>\n",
       "    <tr>\n",
       "      <th>1</th>\n",
       "      <td>260244177412042752</td>\n",
       "      <td>85314436</td>\n",
       "      <td>0</td>\n",
       "      <td>2012-10-22 05:00:21</td>\n",
       "      <td>-81.505790</td>\n",
       "      <td>33.460462</td>\n",
       "      <td>South Carolina</td>\n",
       "      <td>Barnwell County</td>\n",
       "      <td>1375</td>\n",
       "      <td>0</td>\n",
       "    </tr>\n",
       "    <tr>\n",
       "      <th>2</th>\n",
       "      <td>260244177105850368</td>\n",
       "      <td>239968255</td>\n",
       "      <td>0</td>\n",
       "      <td>2012-10-22 05:00:21</td>\n",
       "      <td>-77.099999</td>\n",
       "      <td>39.344184</td>\n",
       "      <td>Maryland</td>\n",
       "      <td>Carroll County</td>\n",
       "      <td>7707</td>\n",
       "      <td>1</td>\n",
       "    </tr>\n",
       "    <tr>\n",
       "      <th>3</th>\n",
       "      <td>260244156729942016</td>\n",
       "      <td>703352862</td>\n",
       "      <td>0</td>\n",
       "      <td>2012-10-22 05:00:17</td>\n",
       "      <td>-80.907470</td>\n",
       "      <td>39.618102</td>\n",
       "      <td>West Virginia</td>\n",
       "      <td>Tyler County</td>\n",
       "      <td>175</td>\n",
       "      <td>1</td>\n",
       "    </tr>\n",
       "    <tr>\n",
       "      <th>4</th>\n",
       "      <td>260244145694728192</td>\n",
       "      <td>581488152</td>\n",
       "      <td>0</td>\n",
       "      <td>2012-10-22 05:00:14</td>\n",
       "      <td>-76.579826</td>\n",
       "      <td>39.816450</td>\n",
       "      <td>Pennsylvania</td>\n",
       "      <td>York County</td>\n",
       "      <td>20191</td>\n",
       "      <td>0</td>\n",
       "    </tr>\n",
       "  </tbody>\n",
       "</table>\n",
       "</div>"
      ],
      "text/plain": [
       "             tweet_id    user_id  retweet_count           time_stamp  \\\n",
       "0  260244125050363904  295902181              0  2012-10-22 05:00:09   \n",
       "1  260244177412042752   85314436              0  2012-10-22 05:00:21   \n",
       "2  260244177105850368  239968255              0  2012-10-22 05:00:21   \n",
       "3  260244156729942016  703352862              0  2012-10-22 05:00:17   \n",
       "4  260244145694728192  581488152              0  2012-10-22 05:00:14   \n",
       "\n",
       "   longitude   latitude           state           county  county_tweet_count  \\\n",
       "0 -74.078101  40.735218      New Jersey    Hudson County               52264   \n",
       "1 -81.505790  33.460462  South Carolina  Barnwell County                1375   \n",
       "2 -77.099999  39.344184        Maryland   Carroll County                7707   \n",
       "3 -80.907470  39.618102   West Virginia     Tyler County                 175   \n",
       "4 -76.579826  39.816450    Pennsylvania      York County               20191   \n",
       "\n",
       "   sentiment  \n",
       "0          1  \n",
       "1          0  \n",
       "2          1  \n",
       "3          1  \n",
       "4          0  "
      ]
     },
     "execution_count": 8,
     "metadata": {},
     "output_type": "execute_result"
    }
   ],
   "source": [
    "#df = df.drop('text', 1)\n",
    "#df.head()\n",
    "#df.to_csv('sandy_tweets_attributes_rev_geocoded_formatted_timestamps.csv')"
   ]
  },
  {
   "cell_type": "code",
   "execution_count": 9,
   "metadata": {
    "collapsed": true
   },
   "outputs": [],
   "source": [
    "#df.to_csv('sandy_tweets_attributes_rev_geocoded_formatted_timestamps.csv')"
   ]
  },
  {
   "cell_type": "code",
   "execution_count": null,
   "metadata": {
    "collapsed": true
   },
   "outputs": [],
   "source": []
  },
  {
   "cell_type": "code",
   "execution_count": null,
   "metadata": {
    "collapsed": true
   },
   "outputs": [],
   "source": []
  },
  {
   "cell_type": "markdown",
   "metadata": {},
   "source": [
    "## Normalize tweets counts by total number tweets from that each county"
   ]
  },
  {
   "cell_type": "code",
   "execution_count": null,
   "metadata": {
    "collapsed": false
   },
   "outputs": [],
   "source": [
    "weights = 1.0/df_filt['county_tweet_count'].values\n",
    "weights = weights/max(weights)\n",
    "weights"
   ]
  },
  {
   "cell_type": "markdown",
   "metadata": {
    "collapsed": false
   },
   "source": [
    "## Geospatial map"
   ]
  },
  {
   "cell_type": "code",
   "execution_count": null,
   "metadata": {
    "collapsed": false
   },
   "outputs": [],
   "source": [
    "lats = df_filt['latitude'].values\n",
    "lons = df_filt['longitude'].values\n",
    "#np.mean(lats), np.mean(lons)\n",
    "\n",
    "m = folium.Map(location=[np.mean(lats), np.mean(lons)], zoom_start=5)\n",
    "m.add_children(plugins.HeatMap(zip(lats, lons, 100000*weights), radius = 6))\n",
    "m.save(os.path.join('results', 'sandy_tweet_map_folium.html'))\n",
    "m"
   ]
  },
  {
   "cell_type": "code",
   "execution_count": null,
   "metadata": {
    "collapsed": true
   },
   "outputs": [],
   "source": []
  }
 ],
 "metadata": {
  "kernelspec": {
   "display_name": "Python 2",
   "language": "python",
   "name": "python2"
  },
  "language_info": {
   "codemirror_mode": {
    "name": "ipython",
    "version": 2
   },
   "file_extension": ".py",
   "mimetype": "text/x-python",
   "name": "python",
   "nbconvert_exporter": "python",
   "pygments_lexer": "ipython2",
   "version": "2.7.12"
  }
 },
 "nbformat": 4,
 "nbformat_minor": 2
}
