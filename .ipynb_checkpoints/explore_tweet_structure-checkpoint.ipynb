{
 "cells": [
  {
   "cell_type": "code",
   "execution_count": 8,
   "metadata": {
    "collapsed": false,
    "scrolled": true
   },
   "outputs": [],
   "source": [
    "import json\n",
    "import pandas as pd\n",
    "import numpy as np\n",
    "import csv\n",
    "import re\n",
    "from time import sleep\n",
    "import sys\n",
    "import tweepy"
   ]
  },
  {
   "cell_type": "code",
   "execution_count": 9,
   "metadata": {
    "collapsed": true
   },
   "outputs": [],
   "source": [
    "def load_api_keys(keyfile, delimiter):\n",
    "    '''Reads API keys from a file and stores them in a dictionary. Returns dictionary'''\n",
    "    keydict = {}\n",
    "    with open(keyfile, 'r') as f:\n",
    "        for line in f:\n",
    "            if line:\n",
    "                lst = line.split(delimiter)\n",
    "                if len(lst)==2:\n",
    "                    key, val = [item.strip() for item in lst]\n",
    "                    keydict[key] = val\n",
    "    return keydict"
   ]
  },
  {
   "cell_type": "code",
   "execution_count": 10,
   "metadata": {
    "collapsed": false
   },
   "outputs": [],
   "source": [
    "# Load API keys\n",
    "keyfile = 'retrieve_tweets/TWITTER_API_KEYS'\n",
    "delimiter = '='\n",
    "keydict = load_api_keys(keyfile, delimiter)\n",
    "\n",
    "# connect to twitter\n",
    "auth = tweepy.OAuthHandler(keydict['CONSUMER_KEY'], keydict['CONSUMER_SECRET'])\n",
    "auth.set_access_token(keydict['OAUTH_TOKEN'], keydict['OAUTH_TOKEN_SECRET'])\n",
    "twapi = tweepy.API(auth)"
   ]
  },
  {
   "cell_type": "code",
   "execution_count": 18,
   "metadata": {
    "collapsed": false
   },
   "outputs": [
    {
     "name": "stdout",
     "output_type": "stream",
     "text": [
      "{\n",
      "    \"contributors\": null, \n",
      "    \"truncated\": false, \n",
      "    \"text\": \"Hello, Twitter! It's Barack. Really! Six years in, they're finally giving me my own account.\", \n",
      "    \"is_quote_status\": false, \n",
      "    \"in_reply_to_status_id\": null, \n",
      "    \"id\": 600324682190053376, \n",
      "    \"favorite_count\": 421380, \n",
      "    \"source\": \"<a href=\\\"http://twitter.com/download/iphone\\\" rel=\\\"nofollow\\\">Twitter for iPhone</a>\", \n",
      "    \"retweeted\": false, \n",
      "    \"coordinates\": null, \n",
      "    \"entities\": {\n",
      "        \"symbols\": [], \n",
      "        \"user_mentions\": [], \n",
      "        \"hashtags\": [], \n",
      "        \"urls\": []\n",
      "    }, \n",
      "    \"in_reply_to_screen_name\": null, \n",
      "    \"in_reply_to_user_id\": null, \n",
      "    \"retweet_count\": 279654, \n",
      "    \"id_str\": \"600324682190053376\", \n",
      "    \"favorited\": false, \n",
      "    \"user\": {\n",
      "        \"follow_request_sent\": false, \n",
      "        \"has_extended_profile\": true, \n",
      "        \"profile_use_background_image\": true, \n",
      "        \"default_profile_image\": false, \n",
      "        \"id\": 1536791610, \n",
      "        \"profile_background_image_url_https\": \"https://abs.twimg.com/images/themes/theme1/bg.png\", \n",
      "        \"verified\": true, \n",
      "        \"translator_type\": \"regular\", \n",
      "        \"profile_text_color\": \"333333\", \n",
      "        \"profile_image_url_https\": \"https://pbs.twimg.com/profile_images/600314410003865600/laIuu4bB_normal.jpg\", \n",
      "        \"profile_sidebar_fill_color\": \"DDEEF6\", \n",
      "        \"entities\": {\n",
      "            \"url\": {\n",
      "                \"urls\": [\n",
      "                    {\n",
      "                        \"url\": \"http://t.co/IxLjEAKXX4\", \n",
      "                        \"indices\": [\n",
      "                            0, \n",
      "                            22\n",
      "                        ], \n",
      "                        \"expanded_url\": \"http://WhiteHouse.gov\", \n",
      "                        \"display_url\": \"WhiteHouse.gov\"\n",
      "                    }\n",
      "                ]\n",
      "            }, \n",
      "            \"description\": {\n",
      "                \"urls\": [\n",
      "                    {\n",
      "                        \"url\": \"http://t.co/eVVzoATsAR\", \n",
      "                        \"indices\": [\n",
      "                            79, \n",
      "                            101\n",
      "                        ], \n",
      "                        \"expanded_url\": \"http://wh.gov/privacy\", \n",
      "                        \"display_url\": \"wh.gov/privacy\"\n",
      "                    }\n",
      "                ]\n",
      "            }\n",
      "        }, \n",
      "        \"followers_count\": 12867856, \n",
      "        \"profile_sidebar_border_color\": \"C0DEED\", \n",
      "        \"id_str\": \"1536791610\", \n",
      "        \"profile_background_color\": \"C0DEED\", \n",
      "        \"listed_count\": 22158, \n",
      "        \"is_translation_enabled\": false, \n",
      "        \"utc_offset\": -14400, \n",
      "        \"statuses_count\": 333, \n",
      "        \"description\": \"Dad, husband, and 44th President of the United States. Tweets may be archived: http://t.co/eVVzoATsAR.\", \n",
      "        \"friends_count\": 72, \n",
      "        \"location\": \"Washington, D.C.\", \n",
      "        \"profile_link_color\": \"1DA1F2\", \n",
      "        \"profile_image_url\": \"http://pbs.twimg.com/profile_images/600314410003865600/laIuu4bB_normal.jpg\", \n",
      "        \"following\": false, \n",
      "        \"geo_enabled\": false, \n",
      "        \"profile_banner_url\": \"https://pbs.twimg.com/profile_banners/1536791610/1431961112\", \n",
      "        \"profile_background_image_url\": \"http://abs.twimg.com/images/themes/theme1/bg.png\", \n",
      "        \"screen_name\": \"POTUS\", \n",
      "        \"lang\": \"en\", \n",
      "        \"profile_background_tile\": false, \n",
      "        \"favourites_count\": 3, \n",
      "        \"name\": \"President Obama\", \n",
      "        \"notifications\": false, \n",
      "        \"url\": \"http://t.co/IxLjEAKXX4\", \n",
      "        \"created_at\": \"Fri Jun 21 16:02:21 +0000 2013\", \n",
      "        \"contributors_enabled\": false, \n",
      "        \"time_zone\": \"Atlantic Time (Canada)\", \n",
      "        \"protected\": false, \n",
      "        \"default_profile\": true, \n",
      "        \"is_translator\": false\n",
      "    }, \n",
      "    \"geo\": null, \n",
      "    \"in_reply_to_user_id_str\": null, \n",
      "    \"lang\": \"en\", \n",
      "    \"created_at\": \"Mon May 18 15:38:52 +0000 2015\", \n",
      "    \"in_reply_to_status_id_str\": null, \n",
      "    \"place\": null\n",
      "}\n"
     ]
    }
   ],
   "source": [
    "tweet_id = 600324682190053376 #260244125050363904\n",
    "tweet = twapi.get_status(tweet_id)\n",
    "#print (tweet._json)\n",
    "json_str = json.dumps(tweet._json, indent=4)\n",
    "print (json_str)"
   ]
  },
  {
   "cell_type": "code",
   "execution_count": null,
   "metadata": {
    "collapsed": true
   },
   "outputs": [],
   "source": []
  }
 ],
 "metadata": {
  "kernelspec": {
   "display_name": "Python 2",
   "language": "python",
   "name": "python2"
  },
  "language_info": {
   "codemirror_mode": {
    "name": "ipython",
    "version": 2
   },
   "file_extension": ".py",
   "mimetype": "text/x-python",
   "name": "python",
   "nbconvert_exporter": "python",
   "pygments_lexer": "ipython2",
   "version": "2.7.12"
  }
 },
 "nbformat": 4,
 "nbformat_minor": 0
}
