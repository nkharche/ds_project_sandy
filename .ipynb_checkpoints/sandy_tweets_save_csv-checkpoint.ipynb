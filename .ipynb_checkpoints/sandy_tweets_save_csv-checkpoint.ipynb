{
 "cells": [
  {
   "cell_type": "code",
   "execution_count": 1,
   "metadata": {
    "collapsed": false,
    "scrolled": true
   },
   "outputs": [],
   "source": [
    "import json\n",
    "import pandas as pd\n",
    "import numpy as np\n",
    "import csv\n",
    "import re\n",
    "from time import sleep\n",
    "import sys"
   ]
  },
  {
   "cell_type": "code",
   "execution_count": 2,
   "metadata": {
    "collapsed": false
   },
   "outputs": [
    {
     "name": "stdout",
     "output_type": "stream",
     "text": [
      "4889408\n"
     ]
    }
   ],
   "source": [
    "# Total number of lines/tweets\n",
    "num_lines = sum(1 for line in open('sandy_corpus_tweets_newline.json'))\n",
    "print (num_lines)"
   ]
  },
  {
   "cell_type": "code",
   "execution_count": 27,
   "metadata": {
    "collapsed": false
   },
   "outputs": [
    {
     "name": "stdout",
     "output_type": "stream",
     "text": [
      "[==================================================] 100%"
     ]
    }
   ],
   "source": [
    "#'tweet_id', 'user_id', 'text', 'time_stamp', 'longitude', 'latitude'\n",
    "\n",
    "# regex pattern to match numbers in a string\n",
    "match_number = re.compile('-?\\ *[0-9]+\\.?[0-9]*(?:[Ee]\\ *-?\\ *[0-9]+)?')\n",
    "   # http://stackoverflow.com/questions/18152597/extract-scientific-number-from-string\n",
    "\n",
    "def tweets_json_to_csv(json_infile, tweet_attributes_outfile, tweet_text_outfile):\n",
    "    with open(tweet_attributes_outfile, 'w') as attribute_file, \\\n",
    "         open(tweet_text_outfile, 'w') as text_file:\n",
    "        csvwriter = csv.writer(attribute_file, delimiter=',')#, quotechar='|', quoting=csv.QUOTE_MINIMAL)\n",
    "        \n",
    "        attributes_row = ['tweet_id', 'user_id', 'time_stamp', 'longitude', 'latitude']\n",
    "        csvwriter.writerow(attributes_row)\n",
    "        with open(json_infile, 'r') as f:\n",
    "            count = 0\n",
    "            for line in f:\n",
    "                count += 1                    \n",
    "            \n",
    "                tweet = json.loads(json.loads(line)) # load it as Python dict\n",
    "                #json_str = json.dumps(tweet, indent=4) # pretty-print\n",
    "                #print (json_str)\n",
    "    \n",
    "                coord_list = re.findall(match_number, str(tweet['coordinates']))                                                   \n",
    "                if coord_list and len(coord_list)==2:\n",
    "                    lat_lon = coord_list\n",
    "                elif tweet['place']:\n",
    "                    bounding_box = np.array(tweet['place']['bounding_box']['coordinates'][0])\n",
    "                    coord_list_1 = np.mean(bounding_box, axis=0)                    \n",
    "                    if coord_list_1.size==2:\n",
    "                        lat_lon = coord_list_1\n",
    "                    else:\n",
    "                        continue\n",
    "                else:\n",
    "                    continue\n",
    "\n",
    "                attributes_row = [tweet['id'], tweet['user']['id'], tweet['created_at'], lat_lon[0], lat_lon[1]]\n",
    "                csvwriter.writerow(attributes_row)\n",
    "                #csvwriter.writerow([unicode(s).encode(\"utf-8\") for s in attributes_row])\n",
    "                text = tweet['text'].encode('utf-8')\n",
    "                text = text.replace('\\n', '. ').replace('\\r', '. ')\n",
    "                text_file.write(text)\n",
    "                text_file.write('\\n')\n",
    "                \n",
    "                if (not count % 5000):\n",
    "                    #print (count, count*100/num_lines)\n",
    "                    sys.stdout.write('\\r')\n",
    "                    sys.stdout.write(\"[%-50s] %d%%\" % ('='*np.int(count*50.0/num_lines), np.int(count*100.0/num_lines)))\n",
    "                    sys.stdout.flush()\n",
    "                    \n",
    "                #if (count > 2000):\n",
    "                #    break\n",
    "            sys.stdout.write('\\r')\n",
    "            sys.stdout.write(\"[%-50s] %d%%\" % ('='*50, 100))\n",
    "\n",
    "\n",
    "json_infile = 'sandy_corpus_tweets_newline.json'\n",
    "tweet_attributes_outfile = 'sandy_tweets_attributes.csv'\n",
    "tweet_text_outfile = 'sandy_tweets_text.txt'\n",
    "tweets_json_to_csv(json_infile, tweet_attributes_outfile, tweet_text_outfile)"
   ]
  }
 ],
 "metadata": {
  "kernelspec": {
   "display_name": "Python 2",
   "language": "python",
   "name": "python2"
  },
  "language_info": {
   "codemirror_mode": {
    "name": "ipython",
    "version": 2
   },
   "file_extension": ".py",
   "mimetype": "text/x-python",
   "name": "python",
   "nbconvert_exporter": "python",
   "pygments_lexer": "ipython2",
   "version": "2.7.12"
  }
 },
 "nbformat": 4,
 "nbformat_minor": 0
}
