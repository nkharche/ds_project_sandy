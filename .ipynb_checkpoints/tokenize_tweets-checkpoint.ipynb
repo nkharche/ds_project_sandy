{
 "cells": [
  {
   "cell_type": "code",
   "execution_count": null,
   "metadata": {
    "collapsed": true
   },
   "outputs": [],
   "source": [
    "import pandas as pd\n",
    "import numpy as np\n",
    "\n",
    "import tweet_tokenizer"
   ]
  },
  {
   "cell_type": "code",
   "execution_count": null,
   "metadata": {
    "collapsed": false
   },
   "outputs": [],
   "source": [
    "def read_tweet_text(tweets_text_file):\n",
    "    df = pd.DataFrame()\n",
    "    text = []\n",
    "    with open(tweets_text_file, 'r') as f:\n",
    "        for line in f:\n",
    "            text.append(line)\n",
    "    df['text'] = text\n",
    "    return df"
   ]
  },
  {
   "cell_type": "code",
   "execution_count": null,
   "metadata": {
    "collapsed": false
   },
   "outputs": [],
   "source": [
    "tweets_text_file = 'sandy_tweets_text.txt'\n",
    "df = read_tweet_text(tweets_text_file)\n",
    "df.head()"
   ]
  },
  {
   "cell_type": "code",
   "execution_count": null,
   "metadata": {
    "collapsed": true
   },
   "outputs": [],
   "source": [
    "# Preprocess all tweets. Separate out punctuation keeping usernames, hashtages, and urls \n",
    "preprocess_tweet = lambda x: \" \".join(tweet_tokenizer.preprocess(x))\n",
    "df['text'] = df['text'].map(preprocess_tweet)"
   ]
  },
  {
   "cell_type": "code",
   "execution_count": null,
   "metadata": {
    "collapsed": false
   },
   "outputs": [],
   "source": [
    "df['text'].head()\n",
    "# Save tokenized tweets in a text file\n",
    "df['text'].to_csv('sandy_tweets_text_tokenized.txt', header=None, index=None)"
   ]
  },
  {
   "cell_type": "code",
   "execution_count": null,
   "metadata": {
    "collapsed": true
   },
   "outputs": [],
   "source": []
  }
 ],
 "metadata": {
  "kernelspec": {
   "display_name": "Python 2",
   "language": "python",
   "name": "python2"
  },
  "language_info": {
   "codemirror_mode": {
    "name": "ipython",
    "version": 2
   },
   "file_extension": ".py",
   "mimetype": "text/x-python",
   "name": "python",
   "nbconvert_exporter": "python",
   "pygments_lexer": "ipython2",
   "version": "2.7.12"
  }
 },
 "nbformat": 4,
 "nbformat_minor": 0
}
