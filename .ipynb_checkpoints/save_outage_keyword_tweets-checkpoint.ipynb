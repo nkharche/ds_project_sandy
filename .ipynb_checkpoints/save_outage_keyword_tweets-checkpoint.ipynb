{
 "cells": [
  {
   "cell_type": "code",
   "execution_count": 6,
   "metadata": {
    "collapsed": true
   },
   "outputs": [],
   "source": [
    "import pandas as pd\n",
    "import numpy as np"
   ]
  },
  {
   "cell_type": "code",
   "execution_count": 2,
   "metadata": {
    "collapsed": false
   },
   "outputs": [],
   "source": [
    "def load_tweets(tweets_attributes_file, tweets_text_file):\n",
    "    df = pd.read_csv(tweets_attributes_file, index_col=0)\n",
    "    text = []\n",
    "    with open(tweets_text_file, 'r') as f:\n",
    "        for line in f:\n",
    "            text.append(line)\n",
    "    df['text'] = text\n",
    "    return df"
   ]
  },
  {
   "cell_type": "code",
   "execution_count": 3,
   "metadata": {
    "collapsed": false
   },
   "outputs": [
    {
     "data": {
      "text/html": [
       "<div>\n",
       "<table border=\"1\" class=\"dataframe\">\n",
       "  <thead>\n",
       "    <tr style=\"text-align: right;\">\n",
       "      <th></th>\n",
       "      <th>tweet_id</th>\n",
       "      <th>user_id</th>\n",
       "      <th>retweet_count</th>\n",
       "      <th>time_stamp</th>\n",
       "      <th>longitude</th>\n",
       "      <th>latitude</th>\n",
       "      <th>state</th>\n",
       "      <th>county</th>\n",
       "      <th>text</th>\n",
       "    </tr>\n",
       "  </thead>\n",
       "  <tbody>\n",
       "    <tr>\n",
       "      <th>0</th>\n",
       "      <td>260244125050363904</td>\n",
       "      <td>295902181</td>\n",
       "      <td>0</td>\n",
       "      <td>2012-10-22 05:00:09</td>\n",
       "      <td>-74.078101</td>\n",
       "      <td>40.735218</td>\n",
       "      <td>New Jersey</td>\n",
       "      <td>Hudson County</td>\n",
       "      <td>all i wish is to be better than yesterday and ...</td>\n",
       "    </tr>\n",
       "    <tr>\n",
       "      <th>1</th>\n",
       "      <td>260244177412042752</td>\n",
       "      <td>85314436</td>\n",
       "      <td>0</td>\n",
       "      <td>2012-10-22 05:00:21</td>\n",
       "      <td>-81.505790</td>\n",
       "      <td>33.460462</td>\n",
       "      <td>South Carolina</td>\n",
       "      <td>Barnwell County</td>\n",
       "      <td>@imSunnyAF yesssss lawd\\n</td>\n",
       "    </tr>\n",
       "    <tr>\n",
       "      <th>2</th>\n",
       "      <td>260244177105850368</td>\n",
       "      <td>239968255</td>\n",
       "      <td>0</td>\n",
       "      <td>2012-10-22 05:00:21</td>\n",
       "      <td>-77.099999</td>\n",
       "      <td>39.344184</td>\n",
       "      <td>Maryland</td>\n",
       "      <td>Carroll County</td>\n",
       "      <td>\"Waiting for something better , a better you ....</td>\n",
       "    </tr>\n",
       "    <tr>\n",
       "      <th>3</th>\n",
       "      <td>260244156729942016</td>\n",
       "      <td>703352862</td>\n",
       "      <td>0</td>\n",
       "      <td>2012-10-22 05:00:17</td>\n",
       "      <td>-80.907470</td>\n",
       "      <td>39.618102</td>\n",
       "      <td>West Virginia</td>\n",
       "      <td>Tyler County</td>\n",
       "      <td>Cool right ? #plainoldshirt http://t.co/B55dMS...</td>\n",
       "    </tr>\n",
       "    <tr>\n",
       "      <th>4</th>\n",
       "      <td>260244145694728192</td>\n",
       "      <td>581488152</td>\n",
       "      <td>0</td>\n",
       "      <td>2012-10-22 05:00:14</td>\n",
       "      <td>-76.579826</td>\n",
       "      <td>39.816450</td>\n",
       "      <td>Pennsylvania</td>\n",
       "      <td>York County</td>\n",
       "      <td>#10PeopleYouTrulyLove My son\\n</td>\n",
       "    </tr>\n",
       "  </tbody>\n",
       "</table>\n",
       "</div>"
      ],
      "text/plain": [
       "             tweet_id    user_id  retweet_count           time_stamp  \\\n",
       "0  260244125050363904  295902181              0  2012-10-22 05:00:09   \n",
       "1  260244177412042752   85314436              0  2012-10-22 05:00:21   \n",
       "2  260244177105850368  239968255              0  2012-10-22 05:00:21   \n",
       "3  260244156729942016  703352862              0  2012-10-22 05:00:17   \n",
       "4  260244145694728192  581488152              0  2012-10-22 05:00:14   \n",
       "\n",
       "   longitude   latitude           state           county  \\\n",
       "0 -74.078101  40.735218      New Jersey    Hudson County   \n",
       "1 -81.505790  33.460462  South Carolina  Barnwell County   \n",
       "2 -77.099999  39.344184        Maryland   Carroll County   \n",
       "3 -80.907470  39.618102   West Virginia     Tyler County   \n",
       "4 -76.579826  39.816450    Pennsylvania      York County   \n",
       "\n",
       "                                                text  \n",
       "0  all i wish is to be better than yesterday and ...  \n",
       "1                          @imSunnyAF yesssss lawd\\n  \n",
       "2  \"Waiting for something better , a better you ....  \n",
       "3  Cool right ? #plainoldshirt http://t.co/B55dMS...  \n",
       "4                     #10PeopleYouTrulyLove My son\\n  "
      ]
     },
     "execution_count": 3,
     "metadata": {},
     "output_type": "execute_result"
    }
   ],
   "source": [
    "# Load tweet data\n",
    "tweets_attributes_file = 'sandy_tweets_attributes_rev_geocoded_formatted_timestamps.csv'\n",
    "tweets_text_file = 'sandy_tweets_text_tokenized.txt'\n",
    "\n",
    "df = load_tweets(tweets_attributes_file, tweets_text_file)\n",
    "#df = pd.read_csv(open('sandy_tweets_1.csv'), encoding='utf-8', engine='c')\n",
    "df.head()"
   ]
  },
  {
   "cell_type": "code",
   "execution_count": 4,
   "metadata": {
    "collapsed": false
   },
   "outputs": [
    {
     "data": {
      "text/plain": [
       "4779087"
      ]
     },
     "execution_count": 4,
     "metadata": {},
     "output_type": "execute_result"
    }
   ],
   "source": [
    "len(df)"
   ]
  },
  {
   "cell_type": "code",
   "execution_count": 7,
   "metadata": {
    "collapsed": false
   },
   "outputs": [],
   "source": [
    "# Replace missing value in 'county' column by empty string. e.g. Washington D.C.\n",
    "df['county'] = df['county'].replace(np.nan,'', regex=True)"
   ]
  },
  {
   "cell_type": "code",
   "execution_count": 8,
   "metadata": {
    "collapsed": false
   },
   "outputs": [
    {
     "name": "stdout",
     "output_type": "stream",
     "text": [
      "52264\n"
     ]
    },
    {
     "data": {
      "text/html": [
       "<div>\n",
       "<table border=\"1\" class=\"dataframe\">\n",
       "  <thead>\n",
       "    <tr style=\"text-align: right;\">\n",
       "      <th></th>\n",
       "      <th>tweet_id</th>\n",
       "      <th>user_id</th>\n",
       "      <th>retweet_count</th>\n",
       "      <th>time_stamp</th>\n",
       "      <th>longitude</th>\n",
       "      <th>latitude</th>\n",
       "      <th>state</th>\n",
       "      <th>county</th>\n",
       "      <th>text</th>\n",
       "      <th>county_tweet_count</th>\n",
       "    </tr>\n",
       "  </thead>\n",
       "  <tbody>\n",
       "    <tr>\n",
       "      <th>0</th>\n",
       "      <td>260244125050363904</td>\n",
       "      <td>295902181</td>\n",
       "      <td>0</td>\n",
       "      <td>2012-10-22 05:00:09</td>\n",
       "      <td>-74.078101</td>\n",
       "      <td>40.735218</td>\n",
       "      <td>New Jersey</td>\n",
       "      <td>Hudson County</td>\n",
       "      <td>all i wish is to be better than yesterday and ...</td>\n",
       "      <td>52264</td>\n",
       "    </tr>\n",
       "    <tr>\n",
       "      <th>1</th>\n",
       "      <td>260244177412042752</td>\n",
       "      <td>85314436</td>\n",
       "      <td>0</td>\n",
       "      <td>2012-10-22 05:00:21</td>\n",
       "      <td>-81.505790</td>\n",
       "      <td>33.460462</td>\n",
       "      <td>South Carolina</td>\n",
       "      <td>Barnwell County</td>\n",
       "      <td>@imSunnyAF yesssss lawd\\n</td>\n",
       "      <td>1375</td>\n",
       "    </tr>\n",
       "    <tr>\n",
       "      <th>2</th>\n",
       "      <td>260244177105850368</td>\n",
       "      <td>239968255</td>\n",
       "      <td>0</td>\n",
       "      <td>2012-10-22 05:00:21</td>\n",
       "      <td>-77.099999</td>\n",
       "      <td>39.344184</td>\n",
       "      <td>Maryland</td>\n",
       "      <td>Carroll County</td>\n",
       "      <td>\"Waiting for something better , a better you ....</td>\n",
       "      <td>7707</td>\n",
       "    </tr>\n",
       "    <tr>\n",
       "      <th>3</th>\n",
       "      <td>260244156729942016</td>\n",
       "      <td>703352862</td>\n",
       "      <td>0</td>\n",
       "      <td>2012-10-22 05:00:17</td>\n",
       "      <td>-80.907470</td>\n",
       "      <td>39.618102</td>\n",
       "      <td>West Virginia</td>\n",
       "      <td>Tyler County</td>\n",
       "      <td>Cool right ? #plainoldshirt http://t.co/B55dMS...</td>\n",
       "      <td>175</td>\n",
       "    </tr>\n",
       "    <tr>\n",
       "      <th>4</th>\n",
       "      <td>260244145694728192</td>\n",
       "      <td>581488152</td>\n",
       "      <td>0</td>\n",
       "      <td>2012-10-22 05:00:14</td>\n",
       "      <td>-76.579826</td>\n",
       "      <td>39.816450</td>\n",
       "      <td>Pennsylvania</td>\n",
       "      <td>York County</td>\n",
       "      <td>#10PeopleYouTrulyLove My son\\n</td>\n",
       "      <td>20191</td>\n",
       "    </tr>\n",
       "    <tr>\n",
       "      <th>5</th>\n",
       "      <td>260244141139701760</td>\n",
       "      <td>80608282</td>\n",
       "      <td>1</td>\n",
       "      <td>2012-10-22 05:00:13</td>\n",
       "      <td>-84.472785</td>\n",
       "      <td>39.147755</td>\n",
       "      <td>Ohio</td>\n",
       "      <td>Hamilton County</td>\n",
       "      <td>Mortal kombat ! ! ! ! ! ! @JoeMoDavis #happybi...</td>\n",
       "      <td>51632</td>\n",
       "    </tr>\n",
       "  </tbody>\n",
       "</table>\n",
       "</div>"
      ],
      "text/plain": [
       "             tweet_id    user_id  retweet_count           time_stamp  \\\n",
       "0  260244125050363904  295902181              0  2012-10-22 05:00:09   \n",
       "1  260244177412042752   85314436              0  2012-10-22 05:00:21   \n",
       "2  260244177105850368  239968255              0  2012-10-22 05:00:21   \n",
       "3  260244156729942016  703352862              0  2012-10-22 05:00:17   \n",
       "4  260244145694728192  581488152              0  2012-10-22 05:00:14   \n",
       "5  260244141139701760   80608282              1  2012-10-22 05:00:13   \n",
       "\n",
       "   longitude   latitude           state           county  \\\n",
       "0 -74.078101  40.735218      New Jersey    Hudson County   \n",
       "1 -81.505790  33.460462  South Carolina  Barnwell County   \n",
       "2 -77.099999  39.344184        Maryland   Carroll County   \n",
       "3 -80.907470  39.618102   West Virginia     Tyler County   \n",
       "4 -76.579826  39.816450    Pennsylvania      York County   \n",
       "5 -84.472785  39.147755            Ohio  Hamilton County   \n",
       "\n",
       "                                                text  county_tweet_count  \n",
       "0  all i wish is to be better than yesterday and ...               52264  \n",
       "1                          @imSunnyAF yesssss lawd\\n                1375  \n",
       "2  \"Waiting for something better , a better you ....                7707  \n",
       "3  Cool right ? #plainoldshirt http://t.co/B55dMS...                 175  \n",
       "4                     #10PeopleYouTrulyLove My son\\n               20191  \n",
       "5  Mortal kombat ! ! ! ! ! ! @JoeMoDavis #happybi...               51632  "
      ]
     },
     "execution_count": 8,
     "metadata": {},
     "output_type": "execute_result"
    }
   ],
   "source": [
    "# Groupby state-conunty pairs and save counts in a new column\n",
    "# See http://stackoverflow.com/questions/17432944/python-pandas-error-when-doing-groupby-counts\n",
    "\n",
    "#df['county_tweet_count'] = df.groupby(['state', 'county']).transform('count')\n",
    "df['county_tweet_count'] = df.groupby(['state', 'county'])['tweet_id'].transform('count')\n",
    "\n",
    "# Test print\n",
    "print (len(df[df['state']+df['county'] == 'New JerseyHudson County']))\n",
    "df.head(6)"
   ]
  },
  {
   "cell_type": "code",
   "execution_count": 10,
   "metadata": {
    "collapsed": false
   },
   "outputs": [],
   "source": [
    "# Filter out Tweets with power outage related keywords'\n",
    "keywords = ['power', 'outage', 'light', 'electricity', 'blackout']\n",
    "keywords = keywords + ['#'+kw for kw in keywords]\n",
    "\n",
    "pattern = ' ' + ' | '.join(keywords) + ' '\n",
    "pattern\n",
    "df_filt = df[df['text'].str.contains(pattern)]"
   ]
  },
  {
   "cell_type": "code",
   "execution_count": 12,
   "metadata": {
    "collapsed": false
   },
   "outputs": [
    {
     "name": "stdout",
     "output_type": "stream",
     "text": [
      "Total number of potential power outage related tweets: 38543\n"
     ]
    }
   ],
   "source": [
    "print ('Total number of potential power outage related tweets: %d' % len(df_filt))"
   ]
  },
  {
   "cell_type": "code",
   "execution_count": 13,
   "metadata": {
    "collapsed": false
   },
   "outputs": [
    {
     "data": {
      "text/html": [
       "<div>\n",
       "<table border=\"1\" class=\"dataframe\">\n",
       "  <thead>\n",
       "    <tr style=\"text-align: right;\">\n",
       "      <th></th>\n",
       "      <th>tweet_id</th>\n",
       "      <th>user_id</th>\n",
       "      <th>retweet_count</th>\n",
       "      <th>time_stamp</th>\n",
       "      <th>longitude</th>\n",
       "      <th>latitude</th>\n",
       "      <th>state</th>\n",
       "      <th>county</th>\n",
       "      <th>text</th>\n",
       "      <th>county_tweet_count</th>\n",
       "    </tr>\n",
       "  </thead>\n",
       "  <tbody>\n",
       "    <tr>\n",
       "      <th>736</th>\n",
       "      <td>260244843123576832</td>\n",
       "      <td>524749508</td>\n",
       "      <td>0</td>\n",
       "      <td>2012-10-22 05:03:00</td>\n",
       "      <td>-74.921427</td>\n",
       "      <td>40.159876</td>\n",
       "      <td>Pennsylvania</td>\n",
       "      <td>Bucks County</td>\n",
       "      <td>When people at this school get some lil piece ...</td>\n",
       "      <td>23185</td>\n",
       "    </tr>\n",
       "    <tr>\n",
       "      <th>1057</th>\n",
       "      <td>260245338907111424</td>\n",
       "      <td>466097841</td>\n",
       "      <td>0</td>\n",
       "      <td>2012-10-22 05:04:58</td>\n",
       "      <td>-73.507984</td>\n",
       "      <td>40.666003</td>\n",
       "      <td>New York</td>\n",
       "      <td>Nassau County</td>\n",
       "      <td>I keep an L light upp like an elevator\\n</td>\n",
       "      <td>45917</td>\n",
       "    </tr>\n",
       "    <tr>\n",
       "      <th>1304</th>\n",
       "      <td>260245604121329664</td>\n",
       "      <td>32974914</td>\n",
       "      <td>0</td>\n",
       "      <td>2012-10-22 05:06:01</td>\n",
       "      <td>-82.044413</td>\n",
       "      <td>33.402851</td>\n",
       "      <td>Georgia</td>\n",
       "      <td>Richmond County</td>\n",
       "      <td>@Lisa_Bhadd001 hold home &amp; amp ; power .\\n</td>\n",
       "      <td>13727</td>\n",
       "    </tr>\n",
       "    <tr>\n",
       "      <th>2695</th>\n",
       "      <td>260260436497272833</td>\n",
       "      <td>253410333</td>\n",
       "      <td>0</td>\n",
       "      <td>2012-10-22 06:04:58</td>\n",
       "      <td>-76.350705</td>\n",
       "      <td>37.027736</td>\n",
       "      <td>Virginia</td>\n",
       "      <td>City of Hampton</td>\n",
       "      <td>Because they're fags RT @ZombieRedskin @viteez...</td>\n",
       "      <td>9904</td>\n",
       "    </tr>\n",
       "    <tr>\n",
       "      <th>3814</th>\n",
       "      <td>260289758947852288</td>\n",
       "      <td>131390980</td>\n",
       "      <td>0</td>\n",
       "      <td>2012-10-22 08:01:29</td>\n",
       "      <td>-77.169024</td>\n",
       "      <td>39.155509</td>\n",
       "      <td>Maryland</td>\n",
       "      <td>Montgomery County</td>\n",
       "      <td>\"The power blew . After playing mark of the ni...</td>\n",
       "      <td>52999</td>\n",
       "    </tr>\n",
       "  </tbody>\n",
       "</table>\n",
       "</div>"
      ],
      "text/plain": [
       "                tweet_id    user_id  retweet_count           time_stamp  \\\n",
       "736   260244843123576832  524749508              0  2012-10-22 05:03:00   \n",
       "1057  260245338907111424  466097841              0  2012-10-22 05:04:58   \n",
       "1304  260245604121329664   32974914              0  2012-10-22 05:06:01   \n",
       "2695  260260436497272833  253410333              0  2012-10-22 06:04:58   \n",
       "3814  260289758947852288  131390980              0  2012-10-22 08:01:29   \n",
       "\n",
       "      longitude   latitude         state             county  \\\n",
       "736  -74.921427  40.159876  Pennsylvania       Bucks County   \n",
       "1057 -73.507984  40.666003      New York      Nassau County   \n",
       "1304 -82.044413  33.402851       Georgia    Richmond County   \n",
       "2695 -76.350705  37.027736      Virginia    City of Hampton   \n",
       "3814 -77.169024  39.155509      Maryland  Montgomery County   \n",
       "\n",
       "                                                   text  county_tweet_count  \n",
       "736   When people at this school get some lil piece ...               23185  \n",
       "1057           I keep an L light upp like an elevator\\n               45917  \n",
       "1304         @Lisa_Bhadd001 hold home & amp ; power .\\n               13727  \n",
       "2695  Because they're fags RT @ZombieRedskin @viteez...                9904  \n",
       "3814  \"The power blew . After playing mark of the ni...               52999  "
      ]
     },
     "execution_count": 13,
     "metadata": {},
     "output_type": "execute_result"
    }
   ],
   "source": [
    "df_filt.head()"
   ]
  },
  {
   "cell_type": "code",
   "execution_count": 23,
   "metadata": {
    "collapsed": false
   },
   "outputs": [],
   "source": [
    "import random \n",
    "idx = random.sample(xrange(len(df_filt)), 2000)\n",
    "#idx"
   ]
  },
  {
   "cell_type": "code",
   "execution_count": 31,
   "metadata": {
    "collapsed": false
   },
   "outputs": [],
   "source": [
    "df_filt[['tweet_id', 'user_id', 'retweet_count', 'time_stamp', 'longitude', 'latitude', 'state', 'county', 'county_tweet_count']].iloc[idx].to_csv('power_outage_keyword_tweets_0.csv')"
   ]
  },
  {
   "cell_type": "code",
   "execution_count": 32,
   "metadata": {
    "collapsed": true
   },
   "outputs": [],
   "source": [
    "#df_filt[['text']].iloc[idx].to_csv('power_outage_keyword_tweets_1.csv')"
   ]
  },
  {
   "cell_type": "code",
   "execution_count": null,
   "metadata": {
    "collapsed": true
   },
   "outputs": [],
   "source": []
  }
 ],
 "metadata": {
  "kernelspec": {
   "display_name": "Python 2",
   "language": "python",
   "name": "python2"
  },
  "language_info": {
   "codemirror_mode": {
    "name": "ipython",
    "version": 2
   },
   "file_extension": ".py",
   "mimetype": "text/x-python",
   "name": "python",
   "nbconvert_exporter": "python",
   "pygments_lexer": "ipython2",
   "version": "2.7.12"
  }
 },
 "nbformat": 4,
 "nbformat_minor": 0
}
