{
 "cells": [
  {
   "cell_type": "code",
   "execution_count": 1,
   "metadata": {
    "collapsed": true
   },
   "outputs": [],
   "source": [
    "import pandas as pd\n",
    "import numpy as np\n",
    "from scipy import stats\n",
    "\n",
    "from weighted_kde import *\n",
    "import tweet_tokenizer"
   ]
  },
  {
   "cell_type": "code",
   "execution_count": 2,
   "metadata": {
    "collapsed": false
   },
   "outputs": [],
   "source": [
    "def load_tweets(tweets_attributes_file, tweets_text_file):\n",
    "    df = pd.read_csv(tweets_attributes_file, index_col=0)\n",
    "    text = []\n",
    "    with open(tweets_text_file, 'r') as f:\n",
    "        for line in f:\n",
    "            text.append(line)\n",
    "    df['text'] = text\n",
    "    return df"
   ]
  },
  {
   "cell_type": "code",
   "execution_count": 3,
   "metadata": {
    "collapsed": false
   },
   "outputs": [
    {
     "data": {
      "text/html": [
       "<div>\n",
       "<table border=\"1\" class=\"dataframe\">\n",
       "  <thead>\n",
       "    <tr style=\"text-align: right;\">\n",
       "      <th></th>\n",
       "      <th>tweet_id</th>\n",
       "      <th>user_id</th>\n",
       "      <th>retweet_count</th>\n",
       "      <th>time_stamp</th>\n",
       "      <th>longitude</th>\n",
       "      <th>latitude</th>\n",
       "      <th>state</th>\n",
       "      <th>county</th>\n",
       "      <th>text</th>\n",
       "    </tr>\n",
       "  </thead>\n",
       "  <tbody>\n",
       "    <tr>\n",
       "      <th>0</th>\n",
       "      <td>260244125050363904</td>\n",
       "      <td>295902181</td>\n",
       "      <td>0</td>\n",
       "      <td>2012-10-22 05:00:09</td>\n",
       "      <td>-74.078101</td>\n",
       "      <td>40.735218</td>\n",
       "      <td>New Jersey</td>\n",
       "      <td>Hudson County</td>\n",
       "      <td>all i wish is to be better than yesterday and ...</td>\n",
       "    </tr>\n",
       "    <tr>\n",
       "      <th>1</th>\n",
       "      <td>260244177412042752</td>\n",
       "      <td>85314436</td>\n",
       "      <td>0</td>\n",
       "      <td>2012-10-22 05:00:21</td>\n",
       "      <td>-81.505790</td>\n",
       "      <td>33.460462</td>\n",
       "      <td>South Carolina</td>\n",
       "      <td>Barnwell County</td>\n",
       "      <td>@imSunnyAF yesssss lawd\\n</td>\n",
       "    </tr>\n",
       "    <tr>\n",
       "      <th>2</th>\n",
       "      <td>260244177105850368</td>\n",
       "      <td>239968255</td>\n",
       "      <td>0</td>\n",
       "      <td>2012-10-22 05:00:21</td>\n",
       "      <td>-77.099999</td>\n",
       "      <td>39.344184</td>\n",
       "      <td>Maryland</td>\n",
       "      <td>Carroll County</td>\n",
       "      <td>\"Waiting for something better , a better you ....</td>\n",
       "    </tr>\n",
       "    <tr>\n",
       "      <th>3</th>\n",
       "      <td>260244156729942016</td>\n",
       "      <td>703352862</td>\n",
       "      <td>0</td>\n",
       "      <td>2012-10-22 05:00:17</td>\n",
       "      <td>-80.907470</td>\n",
       "      <td>39.618102</td>\n",
       "      <td>West Virginia</td>\n",
       "      <td>Tyler County</td>\n",
       "      <td>Cool right ? #plainoldshirt http://t.co/B55dMS...</td>\n",
       "    </tr>\n",
       "    <tr>\n",
       "      <th>4</th>\n",
       "      <td>260244145694728192</td>\n",
       "      <td>581488152</td>\n",
       "      <td>0</td>\n",
       "      <td>2012-10-22 05:00:14</td>\n",
       "      <td>-76.579826</td>\n",
       "      <td>39.816450</td>\n",
       "      <td>Pennsylvania</td>\n",
       "      <td>York County</td>\n",
       "      <td>#10PeopleYouTrulyLove My son\\n</td>\n",
       "    </tr>\n",
       "  </tbody>\n",
       "</table>\n",
       "</div>"
      ],
      "text/plain": [
       "             tweet_id    user_id  retweet_count           time_stamp  \\\n",
       "0  260244125050363904  295902181              0  2012-10-22 05:00:09   \n",
       "1  260244177412042752   85314436              0  2012-10-22 05:00:21   \n",
       "2  260244177105850368  239968255              0  2012-10-22 05:00:21   \n",
       "3  260244156729942016  703352862              0  2012-10-22 05:00:17   \n",
       "4  260244145694728192  581488152              0  2012-10-22 05:00:14   \n",
       "\n",
       "   longitude   latitude           state           county  \\\n",
       "0 -74.078101  40.735218      New Jersey    Hudson County   \n",
       "1 -81.505790  33.460462  South Carolina  Barnwell County   \n",
       "2 -77.099999  39.344184        Maryland   Carroll County   \n",
       "3 -80.907470  39.618102   West Virginia     Tyler County   \n",
       "4 -76.579826  39.816450    Pennsylvania      York County   \n",
       "\n",
       "                                                text  \n",
       "0  all i wish is to be better than yesterday and ...  \n",
       "1                          @imSunnyAF yesssss lawd\\n  \n",
       "2  \"Waiting for something better , a better you ....  \n",
       "3  Cool right ? #plainoldshirt http://t.co/B55dMS...  \n",
       "4                     #10PeopleYouTrulyLove My son\\n  "
      ]
     },
     "execution_count": 3,
     "metadata": {},
     "output_type": "execute_result"
    }
   ],
   "source": [
    "# Load tweet data\n",
    "tweets_attributes_file = 'sandy_tweets_attributes_rev_geocoded_formatted_timestamps.csv'\n",
    "tweets_text_file = 'sandy_tweets_text_tokenized.txt'\n",
    "\n",
    "df = load_tweets(tweets_attributes_file, tweets_text_file)\n",
    "#df = pd.read_csv(open('sandy_tweets_1.csv'), encoding='utf-8', engine='c')\n",
    "df.head()"
   ]
  },
  {
   "cell_type": "code",
   "execution_count": 4,
   "metadata": {
    "collapsed": false
   },
   "outputs": [
    {
     "data": {
      "text/plain": [
       "4779087"
      ]
     },
     "execution_count": 4,
     "metadata": {},
     "output_type": "execute_result"
    }
   ],
   "source": [
    "len(df)"
   ]
  },
  {
   "cell_type": "code",
   "execution_count": 5,
   "metadata": {
    "collapsed": true
   },
   "outputs": [],
   "source": [
    "# Replace missing value in 'county' column by empty string. e.g. Washington D.C.\n",
    "df['county'] = df['county'].replace(np.nan,'', regex=True)"
   ]
  },
  {
   "cell_type": "code",
   "execution_count": 6,
   "metadata": {
    "collapsed": false
   },
   "outputs": [
    {
     "name": "stdout",
     "output_type": "stream",
     "text": [
      "52264\n"
     ]
    },
    {
     "data": {
      "text/html": [
       "<div>\n",
       "<table border=\"1\" class=\"dataframe\">\n",
       "  <thead>\n",
       "    <tr style=\"text-align: right;\">\n",
       "      <th></th>\n",
       "      <th>tweet_id</th>\n",
       "      <th>user_id</th>\n",
       "      <th>retweet_count</th>\n",
       "      <th>time_stamp</th>\n",
       "      <th>longitude</th>\n",
       "      <th>latitude</th>\n",
       "      <th>state</th>\n",
       "      <th>county</th>\n",
       "      <th>text</th>\n",
       "      <th>county_tweet_count</th>\n",
       "    </tr>\n",
       "  </thead>\n",
       "  <tbody>\n",
       "    <tr>\n",
       "      <th>0</th>\n",
       "      <td>260244125050363904</td>\n",
       "      <td>295902181</td>\n",
       "      <td>0</td>\n",
       "      <td>2012-10-22 05:00:09</td>\n",
       "      <td>-74.078101</td>\n",
       "      <td>40.735218</td>\n",
       "      <td>New Jersey</td>\n",
       "      <td>Hudson County</td>\n",
       "      <td>all i wish is to be better than yesterday and ...</td>\n",
       "      <td>52264</td>\n",
       "    </tr>\n",
       "    <tr>\n",
       "      <th>1</th>\n",
       "      <td>260244177412042752</td>\n",
       "      <td>85314436</td>\n",
       "      <td>0</td>\n",
       "      <td>2012-10-22 05:00:21</td>\n",
       "      <td>-81.505790</td>\n",
       "      <td>33.460462</td>\n",
       "      <td>South Carolina</td>\n",
       "      <td>Barnwell County</td>\n",
       "      <td>@imSunnyAF yesssss lawd\\n</td>\n",
       "      <td>1375</td>\n",
       "    </tr>\n",
       "    <tr>\n",
       "      <th>2</th>\n",
       "      <td>260244177105850368</td>\n",
       "      <td>239968255</td>\n",
       "      <td>0</td>\n",
       "      <td>2012-10-22 05:00:21</td>\n",
       "      <td>-77.099999</td>\n",
       "      <td>39.344184</td>\n",
       "      <td>Maryland</td>\n",
       "      <td>Carroll County</td>\n",
       "      <td>\"Waiting for something better , a better you ....</td>\n",
       "      <td>7707</td>\n",
       "    </tr>\n",
       "    <tr>\n",
       "      <th>3</th>\n",
       "      <td>260244156729942016</td>\n",
       "      <td>703352862</td>\n",
       "      <td>0</td>\n",
       "      <td>2012-10-22 05:00:17</td>\n",
       "      <td>-80.907470</td>\n",
       "      <td>39.618102</td>\n",
       "      <td>West Virginia</td>\n",
       "      <td>Tyler County</td>\n",
       "      <td>Cool right ? #plainoldshirt http://t.co/B55dMS...</td>\n",
       "      <td>175</td>\n",
       "    </tr>\n",
       "    <tr>\n",
       "      <th>4</th>\n",
       "      <td>260244145694728192</td>\n",
       "      <td>581488152</td>\n",
       "      <td>0</td>\n",
       "      <td>2012-10-22 05:00:14</td>\n",
       "      <td>-76.579826</td>\n",
       "      <td>39.816450</td>\n",
       "      <td>Pennsylvania</td>\n",
       "      <td>York County</td>\n",
       "      <td>#10PeopleYouTrulyLove My son\\n</td>\n",
       "      <td>20191</td>\n",
       "    </tr>\n",
       "    <tr>\n",
       "      <th>5</th>\n",
       "      <td>260244141139701760</td>\n",
       "      <td>80608282</td>\n",
       "      <td>1</td>\n",
       "      <td>2012-10-22 05:00:13</td>\n",
       "      <td>-84.472785</td>\n",
       "      <td>39.147755</td>\n",
       "      <td>Ohio</td>\n",
       "      <td>Hamilton County</td>\n",
       "      <td>Mortal kombat ! ! ! ! ! ! @JoeMoDavis #happybi...</td>\n",
       "      <td>51632</td>\n",
       "    </tr>\n",
       "  </tbody>\n",
       "</table>\n",
       "</div>"
      ],
      "text/plain": [
       "             tweet_id    user_id  retweet_count           time_stamp  \\\n",
       "0  260244125050363904  295902181              0  2012-10-22 05:00:09   \n",
       "1  260244177412042752   85314436              0  2012-10-22 05:00:21   \n",
       "2  260244177105850368  239968255              0  2012-10-22 05:00:21   \n",
       "3  260244156729942016  703352862              0  2012-10-22 05:00:17   \n",
       "4  260244145694728192  581488152              0  2012-10-22 05:00:14   \n",
       "5  260244141139701760   80608282              1  2012-10-22 05:00:13   \n",
       "\n",
       "   longitude   latitude           state           county  \\\n",
       "0 -74.078101  40.735218      New Jersey    Hudson County   \n",
       "1 -81.505790  33.460462  South Carolina  Barnwell County   \n",
       "2 -77.099999  39.344184        Maryland   Carroll County   \n",
       "3 -80.907470  39.618102   West Virginia     Tyler County   \n",
       "4 -76.579826  39.816450    Pennsylvania      York County   \n",
       "5 -84.472785  39.147755            Ohio  Hamilton County   \n",
       "\n",
       "                                                text  county_tweet_count  \n",
       "0  all i wish is to be better than yesterday and ...               52264  \n",
       "1                          @imSunnyAF yesssss lawd\\n                1375  \n",
       "2  \"Waiting for something better , a better you ....                7707  \n",
       "3  Cool right ? #plainoldshirt http://t.co/B55dMS...                 175  \n",
       "4                     #10PeopleYouTrulyLove My son\\n               20191  \n",
       "5  Mortal kombat ! ! ! ! ! ! @JoeMoDavis #happybi...               51632  "
      ]
     },
     "execution_count": 6,
     "metadata": {},
     "output_type": "execute_result"
    }
   ],
   "source": [
    "# Groupby state-conunty pairs and save counts in a new column\n",
    "# See http://stackoverflow.com/questions/17432944/python-pandas-error-when-doing-groupby-counts\n",
    "\n",
    "#df['county_tweet_count'] = df.groupby(['state', 'county']).transform('count')\n",
    "df['county_tweet_count'] = df.groupby(['state', 'county'])['tweet_id'].transform('count')\n",
    "\n",
    "# Test print\n",
    "print (len(df[df['state']+df['county'] == 'New JerseyHudson County']))\n",
    "df.head(6)"
   ]
  },
  {
   "cell_type": "code",
   "execution_count": 7,
   "metadata": {
    "collapsed": false
   },
   "outputs": [],
   "source": [
    "# Filter out Sandy related tweets'\n",
    "#sandy_keywords = ['sandy', 'hurricane', 'storm', 'frankenstorm', \n",
    "#                  'power', 'no power', 'blackout',\n",
    "#                  'gas', 'flooding', 'recovery', \n",
    "#                  'weather', 'climate', 'climate change', 'stay safe', 'FEMA']\n",
    "#sandy_keywords = ['sandy', 'hurricane', 'hurricanesandy', 'frankenstorm', \n",
    "#                  'power outage', 'no power', 'blackout', 'no electricity', 'no light',\n",
    "#                  'no gas', 'flooding',\n",
    "#                  'climate change', 'fema', 'red cross']\n",
    "sandy_keywords = ['sandy', 'hurricane', 'hurricanesandy', 'storm', 'frankenstorm']\n",
    "sandy_keywords = sandy_keywords + ['#'+kw for kw in sandy_keywords]\n",
    "\n",
    "pattern = ' ' + ' | '.join(sandy_keywords) + ' '\n",
    "pattern\n",
    "df_filt = df[df['text'].str.contains(pattern)]"
   ]
  },
  {
   "cell_type": "code",
   "execution_count": 8,
   "metadata": {
    "collapsed": false
   },
   "outputs": [
    {
     "name": "stdout",
     "output_type": "stream",
     "text": [
      "Total number of Sandy related tweets: 54105\n"
     ]
    }
   ],
   "source": [
    "print ('Total number of Sandy related tweets: %d' % len(df_filt))"
   ]
  },
  {
   "cell_type": "code",
   "execution_count": 9,
   "metadata": {
    "collapsed": false
   },
   "outputs": [
    {
     "data": {
      "text/html": [
       "<div>\n",
       "<table border=\"1\" class=\"dataframe\">\n",
       "  <thead>\n",
       "    <tr style=\"text-align: right;\">\n",
       "      <th></th>\n",
       "      <th>tweet_id</th>\n",
       "      <th>user_id</th>\n",
       "      <th>retweet_count</th>\n",
       "      <th>time_stamp</th>\n",
       "      <th>longitude</th>\n",
       "      <th>latitude</th>\n",
       "      <th>state</th>\n",
       "      <th>county</th>\n",
       "      <th>text</th>\n",
       "      <th>county_tweet_count</th>\n",
       "    </tr>\n",
       "  </thead>\n",
       "  <tbody>\n",
       "    <tr>\n",
       "      <th>2233</th>\n",
       "      <td>260259374579204096</td>\n",
       "      <td>555599291</td>\n",
       "      <td>0</td>\n",
       "      <td>2012-10-22 06:00:44</td>\n",
       "      <td>-77.383514</td>\n",
       "      <td>37.129962</td>\n",
       "      <td>Virginia</td>\n",
       "      <td>City of Petersburg</td>\n",
       "      <td>Tribe storm :)\\n</td>\n",
       "      <td>2307</td>\n",
       "    </tr>\n",
       "    <tr>\n",
       "      <th>3719</th>\n",
       "      <td>260276715958464512</td>\n",
       "      <td>741091694</td>\n",
       "      <td>0</td>\n",
       "      <td>2012-10-22 07:09:39</td>\n",
       "      <td>-79.147932</td>\n",
       "      <td>37.402037</td>\n",
       "      <td>Virginia</td>\n",
       "      <td>City of Lynchburg</td>\n",
       "      <td>\"Talkin to these kids , making laugh up a stor...</td>\n",
       "      <td>9961</td>\n",
       "    </tr>\n",
       "    <tr>\n",
       "      <th>3943</th>\n",
       "      <td>260290515403145216</td>\n",
       "      <td>360388255</td>\n",
       "      <td>0</td>\n",
       "      <td>2012-10-22 08:04:29</td>\n",
       "      <td>-80.015212</td>\n",
       "      <td>40.430596</td>\n",
       "      <td>Pennsylvania</td>\n",
       "      <td>Allegheny County</td>\n",
       "      <td>All I see is a storm that you'll get lost in ....</td>\n",
       "      <td>77561</td>\n",
       "    </tr>\n",
       "    <tr>\n",
       "      <th>7303</th>\n",
       "      <td>260350662867562497</td>\n",
       "      <td>529698640</td>\n",
       "      <td>0</td>\n",
       "      <td>2012-10-22 12:03:29</td>\n",
       "      <td>-75.238252</td>\n",
       "      <td>39.953538</td>\n",
       "      <td>Pennsylvania</td>\n",
       "      <td>Delaware County</td>\n",
       "      <td>http://t.co/BhhL8usJ praise GOD n the storm . ...</td>\n",
       "      <td>53618</td>\n",
       "    </tr>\n",
       "    <tr>\n",
       "      <th>10147</th>\n",
       "      <td>260366743153823745</td>\n",
       "      <td>39651540</td>\n",
       "      <td>0</td>\n",
       "      <td>2012-10-22 13:07:23</td>\n",
       "      <td>-75.586010</td>\n",
       "      <td>39.945970</td>\n",
       "      <td>Pennsylvania</td>\n",
       "      <td>Chester County</td>\n",
       "      <td>@BigJoeBastardi what are water temps off e coa...</td>\n",
       "      <td>20863</td>\n",
       "    </tr>\n",
       "  </tbody>\n",
       "</table>\n",
       "</div>"
      ],
      "text/plain": [
       "                 tweet_id    user_id  retweet_count           time_stamp  \\\n",
       "2233   260259374579204096  555599291              0  2012-10-22 06:00:44   \n",
       "3719   260276715958464512  741091694              0  2012-10-22 07:09:39   \n",
       "3943   260290515403145216  360388255              0  2012-10-22 08:04:29   \n",
       "7303   260350662867562497  529698640              0  2012-10-22 12:03:29   \n",
       "10147  260366743153823745   39651540              0  2012-10-22 13:07:23   \n",
       "\n",
       "       longitude   latitude         state              county  \\\n",
       "2233  -77.383514  37.129962      Virginia  City of Petersburg   \n",
       "3719  -79.147932  37.402037      Virginia   City of Lynchburg   \n",
       "3943  -80.015212  40.430596  Pennsylvania    Allegheny County   \n",
       "7303  -75.238252  39.953538  Pennsylvania     Delaware County   \n",
       "10147 -75.586010  39.945970  Pennsylvania      Chester County   \n",
       "\n",
       "                                                    text  county_tweet_count  \n",
       "2233                                    Tribe storm :)\\n                2307  \n",
       "3719   \"Talkin to these kids , making laugh up a stor...                9961  \n",
       "3943   All I see is a storm that you'll get lost in ....               77561  \n",
       "7303   http://t.co/BhhL8usJ praise GOD n the storm . ...               53618  \n",
       "10147  @BigJoeBastardi what are water temps off e coa...               20863  "
      ]
     },
     "execution_count": 9,
     "metadata": {},
     "output_type": "execute_result"
    }
   ],
   "source": [
    "df_filt.head()"
   ]
  },
  {
   "cell_type": "markdown",
   "metadata": {},
   "source": [
    "### Bokeh plots"
   ]
  },
  {
   "cell_type": "code",
   "execution_count": 10,
   "metadata": {
    "collapsed": false
   },
   "outputs": [],
   "source": [
    "from bokeh.io import show\n",
    "#from bokeh.io import output_notebook, show\n",
    "#output_notebook()"
   ]
  },
  {
   "cell_type": "code",
   "execution_count": 11,
   "metadata": {
    "collapsed": true
   },
   "outputs": [],
   "source": [
    "from bokeh.plotting import figure\n",
    "from bokeh.tile_providers import WMTSTileSource\n",
    "from bokeh.plotting import Figure, show, output_file\n",
    "\n",
    "#import matplotlib as mpl\n",
    "#import matplotlib.pyplot as plt\n",
    "import matplotlib.cm as cm\n",
    "#import numpy as np"
   ]
  },
  {
   "cell_type": "code",
   "execution_count": 12,
   "metadata": {
    "collapsed": false
   },
   "outputs": [],
   "source": [
    "def wgs84_to_web_mercator(lon, lat):\n",
    "    \"\"\"Converts decimal longitude/latitude to Web Mercator format\"\"\"\n",
    "    k = 6378137\n",
    "    x = lon * (k * np.pi/180.0)\n",
    "    y = np.log(np.tan((90 + lat) * np.pi/360.0)) * k\n",
    "    return x, y\n",
    "\n",
    "#df_test = pd.DataFrame(dict(name=[\"Austin\",\"NYC\"],lon=[-97.7431,-74.0059],lat=[30.2672,40.7128]))\n",
    "#x, y = wgs84_to_web_mercator(df_test['lon'].values, df_test['lat'].values)\n",
    "#df_test['x'], df_test['y'] = x, y\n",
    "#df_test"
   ]
  },
  {
   "cell_type": "code",
   "execution_count": 13,
   "metadata": {
    "collapsed": true
   },
   "outputs": [],
   "source": [
    "def plot_geo_distbn_points_bokeh(lon_min, lon_max, lat_min, lat_max, filtered_lon_vals, filtered_lat_vals):\n",
    "\n",
    "    # save to a html file\n",
    "    output_file('sandy_tweet_map_scatter_bokeh.html',title='Contour Plot')\n",
    "    \n",
    "    x_range, y_range = wgs84_to_web_mercator(np.array([lon_min, lon_max]), np.array([lat_min, lat_max]))\n",
    "        \n",
    "    #fig = figure(tools='pan, wheel_zoom', x_range=tuple(x_range), y_range=tuple(y_range))\n",
    "    fig = figure(x_range=tuple(x_range), y_range=tuple(y_range))\n",
    "    fig.axis.visible = False\n",
    "\n",
    "    # WMTS tile sources. See http://geo.holoviews.org/Working_with_Bokeh.html\n",
    "    url = 'http://a.basemaps.cartocdn.com/light_all/{Z}/{X}/{Y}.png'\n",
    "    #url = 'http://a.tile.openstreetmap.org/{Z}/{X}/{Y}.png'\n",
    "    #attribution = \"Map tiles by Carto, under CC BY 3.0. Data by OpenStreetMap, under ODbL\"\n",
    "    fig.add_tile(WMTSTileSource(url=url))#, attribution=attribution))\n",
    "    \n",
    "    # Define our longitude and latitude points\n",
    "    x,y = wgs84_to_web_mercator(filtered_lon_vals, filtered_lat_vals)\n",
    "\n",
    "    alpha = 0.01 \n",
    "\n",
    "    r = fig.circle(x=x, y=y, fill_color=\"red\", fill_alpha = alpha, line_color=None)\n",
    "    glyph = r.glyph\n",
    "    glyph.size = 5\n",
    "    show(fig)\n",
    "\n",
    "    \n",
    "    \n",
    "def plot_geo_distbn_kde_bokeh(lon_min, lon_max, lat_min, lat_max, filtered_lon_vals, filtered_lat_vals, weights):\n",
    "\n",
    "    # save to a html file\n",
    "    output_file('sandy_tweet_map_2d_kde_bokeh.html',title='Contour Plot')\n",
    "\n",
    "    x_range, y_range = wgs84_to_web_mercator(np.array([lon_min, lon_max]), np.array([lat_min, lat_max]))\n",
    "        \n",
    "    #fig = figure(tools='pan, wheel_zoom', x_range=tuple(x_range), y_range=tuple(y_range))\n",
    "    fig = figure(x_range=tuple(x_range), y_range=tuple(y_range))\n",
    "    fig.axis.visible = False\n",
    "\n",
    "    # WMTS tile sources. See http://geo.holoviews.org/Working_with_Bokeh.html\n",
    "    url = 'http://a.basemaps.cartocdn.com/light_all/{Z}/{X}/{Y}.png'\n",
    "    #url = 'http://a.tile.openstreetmap.org/{Z}/{X}/{Y}.png'\n",
    "    #attribution = \"Map tiles by Carto, under CC BY 3.0. Data by OpenStreetMap, under ODbL\"\n",
    "    fig.add_tile(WMTSTileSource(url=url))#, attribution=attribution))\n",
    "    \n",
    "    # Define our longitude and latitude points\n",
    "    x,y = wgs84_to_web_mercator(filtered_lon_vals, filtered_lat_vals)\n",
    "\n",
    "    # Compute 2D KDE\n",
    "    nx, ny = 100, 100\n",
    "    x_all_min, y_all_min = min(x_range), min(y_range)\n",
    "    x_all_max, y_all_max = max(x_range), max(y_range)\n",
    "    x_bins = np.linspace(x_all_min, x_all_max, nx)\n",
    "    y_bins = np.linspace(y_all_min, y_all_max, ny)\n",
    "\n",
    "    data = np.vstack([x, y])\n",
    "    #kdensity = gaussian_kde(data, weights=weights)#, bw_method = 'silverman')\n",
    "    kdensity = gaussian_kde(data, weights=weights)\n",
    "    \n",
    "    X, Y = np.meshgrid(x_bins, y_bins)\n",
    "    grid = np.vstack([X.ravel(), Y.ravel()])\n",
    "    Z = kdensity(grid)\n",
    "    Z = np.reshape(Z, X.shape)\n",
    "\n",
    "    img_rgba = cm.ScalarMappable(cmap = 'Reds').to_rgba(Z, bytes = True)\n",
    "\n",
    "    xdim, ydim = nx, ny\n",
    "    img = np.empty((ny, nx), dtype=np.uint32)\n",
    "    view = img.view(dtype=np.uint8).reshape((ny, nx, 4))\n",
    "    # Copy the RGBA image into view, flipping it so it comes right-side up\n",
    "    # with a lower-left origin\n",
    "    view[:,:,:] = np.asarray(img_rgba)#np.flipud(np.asarray(img_rgba))\n",
    "    dist_from_white = np.linalg.norm(view[:,:,0:3] - [255, 255, 255], axis=2)\n",
    "    dist_from_white /= np.linalg.norm([255, 255, 255])\n",
    "    view[:,:,3] = dist_from_white*255 #0.5*255\n",
    "\n",
    "    fig.image_rgba(image=[img], x=x_all_min, y=y_all_min, dw=x_all_max-x_all_min, dh=y_all_max-y_all_min) \n",
    "    show(fig)"
   ]
  },
  {
   "cell_type": "code",
   "execution_count": null,
   "metadata": {
    "collapsed": false
   },
   "outputs": [
    {
     "ename": "KeyboardInterrupt",
     "evalue": "",
     "output_type": "error",
     "traceback": [
      "\u001b[0;31m---------------------------------------------------------------------------\u001b[0m",
      "\u001b[0;31mKeyboardInterrupt\u001b[0m                         Traceback (most recent call last)",
      "\u001b[0;32m<ipython-input-14-6e1623c23d48>\u001b[0m in \u001b[0;36m<module>\u001b[0;34m()\u001b[0m\n\u001b[1;32m     18\u001b[0m \u001b[0;34m\u001b[0m\u001b[0m\n\u001b[1;32m     19\u001b[0m \u001b[0;31m#vmin, vmax = 0, 1E-11\u001b[0m\u001b[0;34m\u001b[0m\u001b[0;34m\u001b[0m\u001b[0m\n\u001b[0;32m---> 20\u001b[0;31m \u001b[0mplot_geo_distbn_kde_bokeh\u001b[0m\u001b[0;34m(\u001b[0m\u001b[0mlon_min\u001b[0m\u001b[0;34m,\u001b[0m \u001b[0mlon_max\u001b[0m\u001b[0;34m,\u001b[0m \u001b[0mlat_min\u001b[0m\u001b[0;34m,\u001b[0m \u001b[0mlat_max\u001b[0m\u001b[0;34m,\u001b[0m \u001b[0mfiltered_lon_vals\u001b[0m\u001b[0;34m,\u001b[0m \u001b[0mfiltered_lat_vals\u001b[0m\u001b[0;34m,\u001b[0m \u001b[0mweights\u001b[0m\u001b[0;34m)\u001b[0m\u001b[0;34m\u001b[0m\u001b[0m\n\u001b[0m",
      "\u001b[0;32m<ipython-input-13-1017e3d132e3>\u001b[0m in \u001b[0;36mplot_geo_distbn_kde_bokeh\u001b[0;34m(lon_min, lon_max, lat_min, lat_max, filtered_lon_vals, filtered_lat_vals, weights)\u001b[0m\n\u001b[1;32m     77\u001b[0m \u001b[0;34m\u001b[0m\u001b[0m\n\u001b[1;32m     78\u001b[0m     \u001b[0mfig\u001b[0m\u001b[0;34m.\u001b[0m\u001b[0mimage_rgba\u001b[0m\u001b[0;34m(\u001b[0m\u001b[0mimage\u001b[0m\u001b[0;34m=\u001b[0m\u001b[0;34m[\u001b[0m\u001b[0mimg\u001b[0m\u001b[0;34m]\u001b[0m\u001b[0;34m,\u001b[0m \u001b[0mx\u001b[0m\u001b[0;34m=\u001b[0m\u001b[0mx_all_min\u001b[0m\u001b[0;34m,\u001b[0m \u001b[0my\u001b[0m\u001b[0;34m=\u001b[0m\u001b[0my_all_min\u001b[0m\u001b[0;34m,\u001b[0m \u001b[0mdw\u001b[0m\u001b[0;34m=\u001b[0m\u001b[0mx_all_max\u001b[0m\u001b[0;34m-\u001b[0m\u001b[0mx_all_min\u001b[0m\u001b[0;34m,\u001b[0m \u001b[0mdh\u001b[0m\u001b[0;34m=\u001b[0m\u001b[0my_all_max\u001b[0m\u001b[0;34m-\u001b[0m\u001b[0my_all_min\u001b[0m\u001b[0;34m)\u001b[0m\u001b[0;34m\u001b[0m\u001b[0m\n\u001b[0;32m---> 79\u001b[0;31m     \u001b[0mshow\u001b[0m\u001b[0;34m(\u001b[0m\u001b[0mfig\u001b[0m\u001b[0;34m)\u001b[0m\u001b[0;34m\u001b[0m\u001b[0m\n\u001b[0m",
      "\u001b[0;32m/opt/conda/lib/python2.7/site-packages/bokeh/io.pyc\u001b[0m in \u001b[0;36mshow\u001b[0;34m(obj, browser, new, notebook_handle)\u001b[0m\n\u001b[1;32m    312\u001b[0m     \u001b[0;32mif\u001b[0m \u001b[0mobj\u001b[0m \u001b[0;32mnot\u001b[0m \u001b[0;32min\u001b[0m \u001b[0m_state\u001b[0m\u001b[0;34m.\u001b[0m\u001b[0mdocument\u001b[0m\u001b[0;34m.\u001b[0m\u001b[0mroots\u001b[0m\u001b[0;34m:\u001b[0m\u001b[0;34m\u001b[0m\u001b[0m\n\u001b[1;32m    313\u001b[0m         \u001b[0m_state\u001b[0m\u001b[0;34m.\u001b[0m\u001b[0mdocument\u001b[0m\u001b[0;34m.\u001b[0m\u001b[0madd_root\u001b[0m\u001b[0;34m(\u001b[0m\u001b[0mobj\u001b[0m\u001b[0;34m)\u001b[0m\u001b[0;34m\u001b[0m\u001b[0m\n\u001b[0;32m--> 314\u001b[0;31m     \u001b[0;32mreturn\u001b[0m \u001b[0m_show_with_state\u001b[0m\u001b[0;34m(\u001b[0m\u001b[0mobj\u001b[0m\u001b[0;34m,\u001b[0m \u001b[0m_state\u001b[0m\u001b[0;34m,\u001b[0m \u001b[0mbrowser\u001b[0m\u001b[0;34m,\u001b[0m \u001b[0mnew\u001b[0m\u001b[0;34m,\u001b[0m \u001b[0mnotebook_handle\u001b[0m\u001b[0;34m=\u001b[0m\u001b[0mnotebook_handle\u001b[0m\u001b[0;34m)\u001b[0m\u001b[0;34m\u001b[0m\u001b[0m\n\u001b[0m\u001b[1;32m    315\u001b[0m \u001b[0;34m\u001b[0m\u001b[0m\n\u001b[1;32m    316\u001b[0m \u001b[0;34m\u001b[0m\u001b[0m\n",
      "\u001b[0;32m/opt/conda/lib/python2.7/site-packages/bokeh/io.pyc\u001b[0m in \u001b[0;36m_show_with_state\u001b[0;34m(obj, state, browser, new, notebook_handle)\u001b[0m\n\u001b[1;32m    330\u001b[0m \u001b[0;34m\u001b[0m\u001b[0m\n\u001b[1;32m    331\u001b[0m     \u001b[0;32mif\u001b[0m \u001b[0mstate\u001b[0m\u001b[0;34m.\u001b[0m\u001b[0mfile\u001b[0m \u001b[0;32mor\u001b[0m \u001b[0;32mnot\u001b[0m \u001b[0mshown\u001b[0m\u001b[0;34m:\u001b[0m\u001b[0;34m\u001b[0m\u001b[0m\n\u001b[0;32m--> 332\u001b[0;31m         \u001b[0m_show_file_with_state\u001b[0m\u001b[0;34m(\u001b[0m\u001b[0mobj\u001b[0m\u001b[0;34m,\u001b[0m \u001b[0mstate\u001b[0m\u001b[0;34m,\u001b[0m \u001b[0mnew\u001b[0m\u001b[0;34m,\u001b[0m \u001b[0mcontroller\u001b[0m\u001b[0;34m)\u001b[0m\u001b[0;34m\u001b[0m\u001b[0m\n\u001b[0m\u001b[1;32m    333\u001b[0m \u001b[0;34m\u001b[0m\u001b[0m\n\u001b[1;32m    334\u001b[0m     \u001b[0;32mreturn\u001b[0m \u001b[0mcomms_handle\u001b[0m\u001b[0;34m\u001b[0m\u001b[0m\n",
      "\u001b[0;32m/opt/conda/lib/python2.7/site-packages/bokeh/io.pyc\u001b[0m in \u001b[0;36m_show_file_with_state\u001b[0;34m(obj, state, new, controller)\u001b[0m\n\u001b[1;32m    336\u001b[0m \u001b[0;32mdef\u001b[0m \u001b[0m_show_file_with_state\u001b[0m\u001b[0;34m(\u001b[0m\u001b[0mobj\u001b[0m\u001b[0;34m,\u001b[0m \u001b[0mstate\u001b[0m\u001b[0;34m,\u001b[0m \u001b[0mnew\u001b[0m\u001b[0;34m,\u001b[0m \u001b[0mcontroller\u001b[0m\u001b[0;34m)\u001b[0m\u001b[0;34m:\u001b[0m\u001b[0;34m\u001b[0m\u001b[0m\n\u001b[1;32m    337\u001b[0m     \u001b[0mfilename\u001b[0m \u001b[0;34m=\u001b[0m \u001b[0msave\u001b[0m\u001b[0;34m(\u001b[0m\u001b[0mobj\u001b[0m\u001b[0;34m,\u001b[0m \u001b[0mstate\u001b[0m\u001b[0;34m=\u001b[0m\u001b[0mstate\u001b[0m\u001b[0;34m)\u001b[0m\u001b[0;34m\u001b[0m\u001b[0m\n\u001b[0;32m--> 338\u001b[0;31m     \u001b[0mcontroller\u001b[0m\u001b[0;34m.\u001b[0m\u001b[0mopen\u001b[0m\u001b[0;34m(\u001b[0m\u001b[0;34m\"file://\"\u001b[0m \u001b[0;34m+\u001b[0m \u001b[0mfilename\u001b[0m\u001b[0;34m,\u001b[0m \u001b[0mnew\u001b[0m\u001b[0;34m=\u001b[0m\u001b[0m_new_param\u001b[0m\u001b[0;34m[\u001b[0m\u001b[0mnew\u001b[0m\u001b[0;34m]\u001b[0m\u001b[0;34m)\u001b[0m\u001b[0;34m\u001b[0m\u001b[0m\n\u001b[0m\u001b[1;32m    339\u001b[0m \u001b[0;34m\u001b[0m\u001b[0m\n\u001b[1;32m    340\u001b[0m \u001b[0;32mdef\u001b[0m \u001b[0m_show_notebook_with_state\u001b[0m\u001b[0;34m(\u001b[0m\u001b[0mobj\u001b[0m\u001b[0;34m,\u001b[0m \u001b[0mstate\u001b[0m\u001b[0;34m,\u001b[0m \u001b[0mnotebook_handle\u001b[0m\u001b[0;34m)\u001b[0m\u001b[0;34m:\u001b[0m\u001b[0;34m\u001b[0m\u001b[0m\n",
      "\u001b[0;32m/opt/conda/lib/python2.7/webbrowser.pyc\u001b[0m in \u001b[0;36mopen\u001b[0;34m(url, new, autoraise)\u001b[0m\n\u001b[1;32m     59\u001b[0m     \u001b[0;32mfor\u001b[0m \u001b[0mname\u001b[0m \u001b[0;32min\u001b[0m \u001b[0m_tryorder\u001b[0m\u001b[0;34m:\u001b[0m\u001b[0;34m\u001b[0m\u001b[0m\n\u001b[1;32m     60\u001b[0m         \u001b[0mbrowser\u001b[0m \u001b[0;34m=\u001b[0m \u001b[0mget\u001b[0m\u001b[0;34m(\u001b[0m\u001b[0mname\u001b[0m\u001b[0;34m)\u001b[0m\u001b[0;34m\u001b[0m\u001b[0m\n\u001b[0;32m---> 61\u001b[0;31m         \u001b[0;32mif\u001b[0m \u001b[0mbrowser\u001b[0m\u001b[0;34m.\u001b[0m\u001b[0mopen\u001b[0m\u001b[0;34m(\u001b[0m\u001b[0murl\u001b[0m\u001b[0;34m,\u001b[0m \u001b[0mnew\u001b[0m\u001b[0;34m,\u001b[0m \u001b[0mautoraise\u001b[0m\u001b[0;34m)\u001b[0m\u001b[0;34m:\u001b[0m\u001b[0;34m\u001b[0m\u001b[0m\n\u001b[0m\u001b[1;32m     62\u001b[0m             \u001b[0;32mreturn\u001b[0m \u001b[0mTrue\u001b[0m\u001b[0;34m\u001b[0m\u001b[0m\n\u001b[1;32m     63\u001b[0m     \u001b[0;32mreturn\u001b[0m \u001b[0mFalse\u001b[0m\u001b[0;34m\u001b[0m\u001b[0m\n",
      "\u001b[0;32m/opt/conda/lib/python2.7/webbrowser.pyc\u001b[0m in \u001b[0;36mopen\u001b[0;34m(self, url, new, autoraise)\u001b[0m\n\u001b[1;32m    177\u001b[0m             \u001b[0;32melse\u001b[0m\u001b[0;34m:\u001b[0m\u001b[0;34m\u001b[0m\u001b[0m\n\u001b[1;32m    178\u001b[0m                 \u001b[0mp\u001b[0m \u001b[0;34m=\u001b[0m \u001b[0msubprocess\u001b[0m\u001b[0;34m.\u001b[0m\u001b[0mPopen\u001b[0m\u001b[0;34m(\u001b[0m\u001b[0mcmdline\u001b[0m\u001b[0;34m,\u001b[0m \u001b[0mclose_fds\u001b[0m\u001b[0;34m=\u001b[0m\u001b[0mTrue\u001b[0m\u001b[0;34m)\u001b[0m\u001b[0;34m\u001b[0m\u001b[0m\n\u001b[0;32m--> 179\u001b[0;31m             \u001b[0;32mreturn\u001b[0m \u001b[0;32mnot\u001b[0m \u001b[0mp\u001b[0m\u001b[0;34m.\u001b[0m\u001b[0mwait\u001b[0m\u001b[0;34m(\u001b[0m\u001b[0;34m)\u001b[0m\u001b[0;34m\u001b[0m\u001b[0m\n\u001b[0m\u001b[1;32m    180\u001b[0m         \u001b[0;32mexcept\u001b[0m \u001b[0mOSError\u001b[0m\u001b[0;34m:\u001b[0m\u001b[0;34m\u001b[0m\u001b[0m\n\u001b[1;32m    181\u001b[0m             \u001b[0;32mreturn\u001b[0m \u001b[0mFalse\u001b[0m\u001b[0;34m\u001b[0m\u001b[0m\n",
      "\u001b[0;32m/opt/conda/lib/python2.7/subprocess.pyc\u001b[0m in \u001b[0;36mwait\u001b[0;34m(self)\u001b[0m\n\u001b[1;32m   1390\u001b[0m             \u001b[0;32mwhile\u001b[0m \u001b[0mself\u001b[0m\u001b[0;34m.\u001b[0m\u001b[0mreturncode\u001b[0m \u001b[0;32mis\u001b[0m \u001b[0mNone\u001b[0m\u001b[0;34m:\u001b[0m\u001b[0;34m\u001b[0m\u001b[0m\n\u001b[1;32m   1391\u001b[0m                 \u001b[0;32mtry\u001b[0m\u001b[0;34m:\u001b[0m\u001b[0;34m\u001b[0m\u001b[0m\n\u001b[0;32m-> 1392\u001b[0;31m                     \u001b[0mpid\u001b[0m\u001b[0;34m,\u001b[0m \u001b[0msts\u001b[0m \u001b[0;34m=\u001b[0m \u001b[0m_eintr_retry_call\u001b[0m\u001b[0;34m(\u001b[0m\u001b[0mos\u001b[0m\u001b[0;34m.\u001b[0m\u001b[0mwaitpid\u001b[0m\u001b[0;34m,\u001b[0m \u001b[0mself\u001b[0m\u001b[0;34m.\u001b[0m\u001b[0mpid\u001b[0m\u001b[0;34m,\u001b[0m \u001b[0;36m0\u001b[0m\u001b[0;34m)\u001b[0m\u001b[0;34m\u001b[0m\u001b[0m\n\u001b[0m\u001b[1;32m   1393\u001b[0m                 \u001b[0;32mexcept\u001b[0m \u001b[0mOSError\u001b[0m \u001b[0;32mas\u001b[0m \u001b[0me\u001b[0m\u001b[0;34m:\u001b[0m\u001b[0;34m\u001b[0m\u001b[0m\n\u001b[1;32m   1394\u001b[0m                     \u001b[0;32mif\u001b[0m \u001b[0me\u001b[0m\u001b[0;34m.\u001b[0m\u001b[0merrno\u001b[0m \u001b[0;34m!=\u001b[0m \u001b[0merrno\u001b[0m\u001b[0;34m.\u001b[0m\u001b[0mECHILD\u001b[0m\u001b[0;34m:\u001b[0m\u001b[0;34m\u001b[0m\u001b[0m\n",
      "\u001b[0;32m/opt/conda/lib/python2.7/subprocess.pyc\u001b[0m in \u001b[0;36m_eintr_retry_call\u001b[0;34m(func, *args)\u001b[0m\n\u001b[1;32m    474\u001b[0m     \u001b[0;32mwhile\u001b[0m \u001b[0mTrue\u001b[0m\u001b[0;34m:\u001b[0m\u001b[0;34m\u001b[0m\u001b[0m\n\u001b[1;32m    475\u001b[0m         \u001b[0;32mtry\u001b[0m\u001b[0;34m:\u001b[0m\u001b[0;34m\u001b[0m\u001b[0m\n\u001b[0;32m--> 476\u001b[0;31m             \u001b[0;32mreturn\u001b[0m \u001b[0mfunc\u001b[0m\u001b[0;34m(\u001b[0m\u001b[0;34m*\u001b[0m\u001b[0margs\u001b[0m\u001b[0;34m)\u001b[0m\u001b[0;34m\u001b[0m\u001b[0m\n\u001b[0m\u001b[1;32m    477\u001b[0m         \u001b[0;32mexcept\u001b[0m \u001b[0;34m(\u001b[0m\u001b[0mOSError\u001b[0m\u001b[0;34m,\u001b[0m \u001b[0mIOError\u001b[0m\u001b[0;34m)\u001b[0m \u001b[0;32mas\u001b[0m \u001b[0me\u001b[0m\u001b[0;34m:\u001b[0m\u001b[0;34m\u001b[0m\u001b[0m\n\u001b[1;32m    478\u001b[0m             \u001b[0;32mif\u001b[0m \u001b[0me\u001b[0m\u001b[0;34m.\u001b[0m\u001b[0merrno\u001b[0m \u001b[0;34m==\u001b[0m \u001b[0merrno\u001b[0m\u001b[0;34m.\u001b[0m\u001b[0mEINTR\u001b[0m\u001b[0;34m:\u001b[0m\u001b[0;34m\u001b[0m\u001b[0m\n",
      "\u001b[0;31mKeyboardInterrupt\u001b[0m: "
     ]
    }
   ],
   "source": [
    "# Min and max lat-lon for whole dataset\n",
    "lon_min, lon_max = df['longitude'].values.min(), df['longitude'].values.max()\n",
    "lat_min, lat_max = df['latitude'].values.min(), df['latitude'].values.max()\n",
    "\n",
    "# Map Sandy related Twitter activity using basemap\n",
    "# Define our longitude and latitude points\n",
    "# Here we use only power outage related data\n",
    "filtered_lon_vals, filtered_lat_vals = df_filt['longitude'].values, df_filt['latitude'].values\n",
    "\n",
    "median_flit_lon, median_flit_lat = np.median(filtered_lon_vals), np.median(filtered_lat_vals)\n",
    "#lon_min, lon_max = median_flit_lon - 1, median_flit_lon + 1\n",
    "#lat_min, lat_max = median_flit_lat - 1, median_flit_lat + 1\n",
    "\n",
    "weights = 1.0/df_filt['county_tweet_count'].values\n",
    "\n",
    "#colormap =cm.get_cmap(\"Blues\") #choose any matplotlib colormap here\n",
    "#bokehpalette = [mpl.colors.rgb2hex(m) for m in colormap(np.arange(colormap.N))]\n",
    "\n",
    "#vmin, vmax = 0, 1E-11\n",
    "plot_geo_distbn_kde_bokeh(lon_min, lon_max, lat_min, lat_max, filtered_lon_vals, filtered_lat_vals, weights)"
   ]
  },
  {
   "cell_type": "code",
   "execution_count": null,
   "metadata": {
    "collapsed": false
   },
   "outputs": [],
   "source": [
    "plot_geo_distbn_points_bokeh(lon_min, lon_max, lat_min, lat_max, filtered_lon_vals, filtered_lat_vals)"
   ]
  },
  {
   "cell_type": "code",
   "execution_count": null,
   "metadata": {
    "collapsed": true
   },
   "outputs": [],
   "source": []
  }
 ],
 "metadata": {
  "kernelspec": {
   "display_name": "Python 2",
   "language": "python",
   "name": "python2"
  },
  "language_info": {
   "codemirror_mode": {
    "name": "ipython",
    "version": 2
   },
   "file_extension": ".py",
   "mimetype": "text/x-python",
   "name": "python",
   "nbconvert_exporter": "python",
   "pygments_lexer": "ipython2",
   "version": "2.7.12"
  }
 },
 "nbformat": 4,
 "nbformat_minor": 0
}
