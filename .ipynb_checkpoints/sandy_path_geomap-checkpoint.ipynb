{
 "cells": [
  {
   "cell_type": "markdown",
   "metadata": {},
   "source": [
    "### Parse KMZ \n",
    "http://programmingadvent.blogspot.com/2013/06/kmzkml-file-parsing-with-python.html"
   ]
  },
  {
   "cell_type": "code",
   "execution_count": 1,
   "metadata": {
    "collapsed": false
   },
   "outputs": [],
   "source": [
    "from zipfile import ZipFile\n",
    "from bs4 import BeautifulSoup\n",
    "\n",
    "kmz_filename = 'al182012_best_track.kmz'\n",
    "kml_filename = 'al182012.kml'\n",
    "\n",
    "archive = ZipFile(kmz_filename, 'r')\n",
    "with archive.open(kml_filename, 'r') as content_file:\n",
    "    content = content_file.read()\n",
    "    \n",
    "soup = BeautifulSoup(content, 'html.parser')\n",
    "\n",
    "#print (soup.prettify())"
   ]
  },
  {
   "cell_type": "code",
   "execution_count": 2,
   "metadata": {
    "collapsed": false
   },
   "outputs": [],
   "source": [
    "path = []\n",
    "for pm in soup.find_all('placemark'):\n",
    "    timestamp = pm.find('dtg').get_text().encode('utf-8')\n",
    "    yr = pm.find('atcfdtg').get_text().encode('utf-8')[:4]\n",
    "    timestamp = yr + ' ' + timestamp\n",
    "    lat = pm.find('lat').get_text().encode('utf-8')\n",
    "    lon = pm.find('lon').get_text().encode('utf-8')\n",
    "    path.append([timestamp, lat, lon])\n",
    "    \n",
    "#path"
   ]
  },
  {
   "cell_type": "markdown",
   "metadata": {
    "collapsed": true
   },
   "source": [
    "### Save data in a Pandas dataframe"
   ]
  },
  {
   "cell_type": "code",
   "execution_count": 3,
   "metadata": {
    "collapsed": false
   },
   "outputs": [],
   "source": [
    "import numpy as np\n",
    "import pandas as pd\n",
    "\n",
    "def format_kml_utc_date_string(dstr):\n",
    "    dstr = dstr.replace('UTC','')\n",
    "    dstr = dstr.split()\n",
    "    dstr_t = dstr[1]\n",
    "    dstr_t = ':'.join([dstr_t[i:i+2] for i in xrange(0,len(dstr_t),2)])\n",
    "    dstr[1] = dstr_t\n",
    "    return ' '.join([dstr[0], dstr[2], dstr[3], dstr[1]])"
   ]
  },
  {
   "cell_type": "code",
   "execution_count": 4,
   "metadata": {
    "collapsed": false
   },
   "outputs": [
    {
     "data": {
      "text/html": [
       "<div>\n",
       "<table border=\"1\" class=\"dataframe\">\n",
       "  <thead>\n",
       "    <tr style=\"text-align: right;\">\n",
       "      <th></th>\n",
       "      <th>timestamp</th>\n",
       "      <th>lat</th>\n",
       "      <th>lon</th>\n",
       "    </tr>\n",
       "  </thead>\n",
       "  <tbody>\n",
       "    <tr>\n",
       "      <th>0</th>\n",
       "      <td>2012-10-21 18:00:00</td>\n",
       "      <td>14.3</td>\n",
       "      <td>-77.4</td>\n",
       "    </tr>\n",
       "    <tr>\n",
       "      <th>1</th>\n",
       "      <td>2012-10-22 00:00:00</td>\n",
       "      <td>13.9</td>\n",
       "      <td>-77.8</td>\n",
       "    </tr>\n",
       "    <tr>\n",
       "      <th>2</th>\n",
       "      <td>2012-10-22 06:00:00</td>\n",
       "      <td>13.5</td>\n",
       "      <td>-78.2</td>\n",
       "    </tr>\n",
       "    <tr>\n",
       "      <th>3</th>\n",
       "      <td>2012-10-22 12:00:00</td>\n",
       "      <td>13.1</td>\n",
       "      <td>-78.6</td>\n",
       "    </tr>\n",
       "    <tr>\n",
       "      <th>4</th>\n",
       "      <td>2012-10-22 18:00:00</td>\n",
       "      <td>12.7</td>\n",
       "      <td>-78.7</td>\n",
       "    </tr>\n",
       "  </tbody>\n",
       "</table>\n",
       "</div>"
      ],
      "text/plain": [
       "            timestamp   lat   lon\n",
       "0 2012-10-21 18:00:00  14.3 -77.4\n",
       "1 2012-10-22 00:00:00  13.9 -77.8\n",
       "2 2012-10-22 06:00:00  13.5 -78.2\n",
       "3 2012-10-22 12:00:00  13.1 -78.6\n",
       "4 2012-10-22 18:00:00  12.7 -78.7"
      ]
     },
     "execution_count": 4,
     "metadata": {},
     "output_type": "execute_result"
    }
   ],
   "source": [
    "path_df = pd.DataFrame(path, columns=['timestamp', 'lat', 'lon'])\n",
    "path_df['lat'] = path_df['lat'].astype('float64')\n",
    "path_df['lon'] = path_df['lon'].astype('float64')\n",
    "path_df['timestamp'] = path_df['timestamp'].map(format_kml_utc_date_string)\n",
    "path_df['timestamp'] = pd.to_datetime(path_df['timestamp'], format='%Y %b %d %H:%M')\n",
    "path_df.head()"
   ]
  },
  {
   "cell_type": "code",
   "execution_count": 5,
   "metadata": {
    "collapsed": false
   },
   "outputs": [
    {
     "data": {
      "text/html": [
       "\n",
       "    <div class=\"bk-root\">\n",
       "        <a href=\"http://bokeh.pydata.org\" target=\"_blank\" class=\"bk-logo bk-logo-small bk-logo-notebook\"></a>\n",
       "        <span id=\"cb44b227-ba94-412e-8815-8a91f0420e52\">Loading BokehJS ...</span>\n",
       "    </div>"
      ]
     },
     "metadata": {},
     "output_type": "display_data"
    },
    {
     "data": {
      "application/javascript": [
       "\n",
       "(function(global) {\n",
       "  function now() {\n",
       "    return new Date();\n",
       "  }\n",
       "\n",
       "  var force = \"1\";\n",
       "\n",
       "  if (typeof (window._bokeh_onload_callbacks) === \"undefined\" || force !== \"\") {\n",
       "    window._bokeh_onload_callbacks = [];\n",
       "    window._bokeh_is_loading = undefined;\n",
       "  }\n",
       "\n",
       "\n",
       "  \n",
       "  if (typeof (window._bokeh_timeout) === \"undefined\" || force !== \"\") {\n",
       "    window._bokeh_timeout = Date.now() + 5000;\n",
       "    window._bokeh_failed_load = false;\n",
       "  }\n",
       "\n",
       "  var NB_LOAD_WARNING = {'data': {'text/html':\n",
       "     \"<div style='background-color: #fdd'>\\n\"+\n",
       "     \"<p>\\n\"+\n",
       "     \"BokehJS does not appear to have successfully loaded. If loading BokehJS from CDN, this \\n\"+\n",
       "     \"may be due to a slow or bad network connection. Possible fixes:\\n\"+\n",
       "     \"</p>\\n\"+\n",
       "     \"<ul>\\n\"+\n",
       "     \"<li>re-rerun `output_notebook()` to attempt to load from CDN again, or</li>\\n\"+\n",
       "     \"<li>use INLINE resources instead, as so:</li>\\n\"+\n",
       "     \"</ul>\\n\"+\n",
       "     \"<code>\\n\"+\n",
       "     \"from bokeh.resources import INLINE\\n\"+\n",
       "     \"output_notebook(resources=INLINE)\\n\"+\n",
       "     \"</code>\\n\"+\n",
       "     \"</div>\"}};\n",
       "\n",
       "  function display_loaded() {\n",
       "    if (window.Bokeh !== undefined) {\n",
       "      Bokeh.$(\"#cb44b227-ba94-412e-8815-8a91f0420e52\").text(\"BokehJS successfully loaded.\");\n",
       "    } else if (Date.now() < window._bokeh_timeout) {\n",
       "      setTimeout(display_loaded, 100)\n",
       "    }\n",
       "  }\n",
       "\n",
       "  function run_callbacks() {\n",
       "    window._bokeh_onload_callbacks.forEach(function(callback) { callback() });\n",
       "    delete window._bokeh_onload_callbacks\n",
       "    console.info(\"Bokeh: all callbacks have finished\");\n",
       "  }\n",
       "\n",
       "  function load_libs(js_urls, callback) {\n",
       "    window._bokeh_onload_callbacks.push(callback);\n",
       "    if (window._bokeh_is_loading > 0) {\n",
       "      console.log(\"Bokeh: BokehJS is being loaded, scheduling callback at\", now());\n",
       "      return null;\n",
       "    }\n",
       "    if (js_urls == null || js_urls.length === 0) {\n",
       "      run_callbacks();\n",
       "      return null;\n",
       "    }\n",
       "    console.log(\"Bokeh: BokehJS not loaded, scheduling load and callback at\", now());\n",
       "    window._bokeh_is_loading = js_urls.length;\n",
       "    for (var i = 0; i < js_urls.length; i++) {\n",
       "      var url = js_urls[i];\n",
       "      var s = document.createElement('script');\n",
       "      s.src = url;\n",
       "      s.async = false;\n",
       "      s.onreadystatechange = s.onload = function() {\n",
       "        window._bokeh_is_loading--;\n",
       "        if (window._bokeh_is_loading === 0) {\n",
       "          console.log(\"Bokeh: all BokehJS libraries loaded\");\n",
       "          run_callbacks()\n",
       "        }\n",
       "      };\n",
       "      s.onerror = function() {\n",
       "        console.warn(\"failed to load library \" + url);\n",
       "      };\n",
       "      console.log(\"Bokeh: injecting script tag for BokehJS library: \", url);\n",
       "      document.getElementsByTagName(\"head\")[0].appendChild(s);\n",
       "    }\n",
       "  };var element = document.getElementById(\"cb44b227-ba94-412e-8815-8a91f0420e52\");\n",
       "  if (element == null) {\n",
       "    console.log(\"Bokeh: ERROR: autoload.js configured with elementid 'cb44b227-ba94-412e-8815-8a91f0420e52' but no matching script tag was found. \")\n",
       "    return false;\n",
       "  }\n",
       "\n",
       "  var js_urls = ['https://cdn.pydata.org/bokeh/release/bokeh-0.12.3.min.js', 'https://cdn.pydata.org/bokeh/release/bokeh-widgets-0.12.3.min.js'];\n",
       "\n",
       "  var inline_js = [\n",
       "    function(Bokeh) {\n",
       "      Bokeh.set_log_level(\"info\");\n",
       "    },\n",
       "    \n",
       "    function(Bokeh) {\n",
       "      \n",
       "      Bokeh.$(\"#cb44b227-ba94-412e-8815-8a91f0420e52\").text(\"BokehJS is loading...\");\n",
       "    },\n",
       "    function(Bokeh) {\n",
       "      console.log(\"Bokeh: injecting CSS: https://cdn.pydata.org/bokeh/release/bokeh-0.12.3.min.css\");\n",
       "      Bokeh.embed.inject_css(\"https://cdn.pydata.org/bokeh/release/bokeh-0.12.3.min.css\");\n",
       "      console.log(\"Bokeh: injecting CSS: https://cdn.pydata.org/bokeh/release/bokeh-widgets-0.12.3.min.css\");\n",
       "      Bokeh.embed.inject_css(\"https://cdn.pydata.org/bokeh/release/bokeh-widgets-0.12.3.min.css\");\n",
       "    }\n",
       "  ];\n",
       "\n",
       "  function run_inline_js() {\n",
       "    \n",
       "    if ((window.Bokeh !== undefined) || (force === \"1\")) {\n",
       "      for (var i = 0; i < inline_js.length; i++) {\n",
       "        inline_js[i](window.Bokeh);\n",
       "      }if (force === \"1\") {\n",
       "        display_loaded();\n",
       "      }} else if (Date.now() < window._bokeh_timeout) {\n",
       "      setTimeout(run_inline_js, 100);\n",
       "    } else if (!window._bokeh_failed_load) {\n",
       "      console.log(\"Bokeh: BokehJS failed to load within specified timeout.\");\n",
       "      window._bokeh_failed_load = true;\n",
       "    } else if (!force) {\n",
       "      var cell = $(\"#cb44b227-ba94-412e-8815-8a91f0420e52\").parents('.cell').data().cell;\n",
       "      cell.output_area.append_execute_result(NB_LOAD_WARNING)\n",
       "    }\n",
       "\n",
       "  }\n",
       "\n",
       "  if (window._bokeh_is_loading === 0) {\n",
       "    console.log(\"Bokeh: BokehJS loaded, going straight to plotting\");\n",
       "    run_inline_js();\n",
       "  } else {\n",
       "    load_libs(js_urls, function() {\n",
       "      console.log(\"Bokeh: BokehJS plotting callback run at\", now());\n",
       "      run_inline_js();\n",
       "    });\n",
       "  }\n",
       "}(this));"
      ]
     },
     "metadata": {},
     "output_type": "display_data"
    }
   ],
   "source": [
    "from bokeh.io import output_notebook, show\n",
    "output_notebook()\n",
    "\n",
    "from bokeh.plotting import figure, ColumnDataSource\n",
    "from bokeh.tile_providers import WMTSTileSource\n",
    "from bokeh.plotting import Figure, show, output_file\n",
    "\n",
    "from bokeh.models import HoverTool, BoxSelectTool\n",
    "\n",
    "#import matplotlib as mpl\n",
    "#import matplotlib.pyplot as plt\n",
    "import matplotlib.cm as cm\n",
    "#import numpy as np"
   ]
  },
  {
   "cell_type": "code",
   "execution_count": 6,
   "metadata": {
    "collapsed": false
   },
   "outputs": [],
   "source": [
    "import pandas as pd\n",
    "import numpy as np\n",
    "\n",
    "def wgs84_to_web_mercator(lon, lat):\n",
    "    \"\"\"Converts decimal longitude/latitude to Web Mercator format\"\"\"\n",
    "    k = 6378137\n",
    "    x = lon * (k * np.pi/180.0)\n",
    "    y = np.log(np.tan((90 + lat) * np.pi/360.0)) * k\n",
    "    return x, y\n",
    "\n",
    "#df_test = pd.DataFrame(dict(name=[\"Austin\",\"NYC\"],lon=[-97.7431,-74.0059],lat=[30.2672,40.7128]))\n",
    "#x, y = wgs84_to_web_mercator(df_test['lon'].values, df_test['lat'].values)\n",
    "#df_test['x'], df_test['y'] = x, y\n",
    "#df_test"
   ]
  },
  {
   "cell_type": "code",
   "execution_count": 20,
   "metadata": {
    "collapsed": false
   },
   "outputs": [],
   "source": [
    "#def plot_geo_distbn_points_bokeh(lon_min, lon_max, lat_min, lat_max, lon, lat, timestamp):\n",
    "def plot_geo_distbn_points_bokeh(path_df):\n",
    "\n",
    "    # Min and max lat-lon for whole dataset\n",
    "    lat, lon = path_df['lat'].values, path_df['lon'].values\n",
    "    lon_min, lon_max = path_df['lon'].values.min(), path_df['lon'].values.max()\n",
    "    lat_min, lat_max = path_df['lat'].values.min(), path_df['lat'].values.max()\n",
    "\n",
    "\n",
    "    # save to a html file\n",
    "    output_file('sandy_path_bokeh.html',title='Contour Plot')\n",
    "\n",
    "    # Define our longitude and latitude points\n",
    "    x,y = wgs84_to_web_mercator(lon, lat)\n",
    "    \n",
    "    source = ColumnDataSource(\n",
    "        data=dict(\n",
    "            x=list(x),\n",
    "            y=list(y),\n",
    "            desc=path_df['timestamp'].map(lambda x: x.strftime('%a %b %d %Y %H:%M')),\n",
    "                 #http://stackoverflow.com/questions/35128934/bokeh-hover-tool-format-date-variable-in-custom-html\n",
    "        )\n",
    "    )\n",
    "    \n",
    "    hover = HoverTool(\n",
    "        tooltips=[\n",
    "            #(\"index\", \"$index\"),\n",
    "            #(\"(x,y)\", \"($x, $y)\"),\n",
    "            (\"Time\", \"@desc\"),\n",
    "        ]\n",
    "    )        \n",
    "    \n",
    "    x_range, y_range = wgs84_to_web_mercator(np.array([lon_min, lon_max]), np.array([lat_min, lat_max]))\n",
    "        \n",
    "    #fig = figure(tools='pan, wheel_zoom', x_range=tuple(x_range), y_range=tuple(y_range))\n",
    "    fig = figure(x_range=tuple(x_range), y_range=tuple(y_range), tools=\"hover,save,pan,box_zoom,wheel_zoom,reset\")\n",
    "    fig.axis.visible = False\n",
    "\n",
    "    # WMTS tile sources. See http://geo.holoviews.org/Working_with_Bokeh.html\n",
    "    url = 'http://a.basemaps.cartocdn.com/light_all/{Z}/{X}/{Y}.png'\n",
    "    #url = 'http://a.tile.openstreetmap.org/{Z}/{X}/{Y}.png'\n",
    "    #attribution = \"Map tiles by Carto, under CC BY 3.0. Data by OpenStreetMap, under ODbL\"\n",
    "    fig.add_tile(WMTSTileSource(url=url))#, attribution=attribution))\n",
    "    \n",
    "    #r = fig.circle(x=x, y=y, fill_color=\"red\", fill_alpha = .8, line_color=None)\n",
    "    fig.circle('x', 'y', fill_color='red', line_color='red', \n",
    "               fill_alpha=.5, line_alpha=.5,\n",
    "               size=10, \n",
    "               source=source)\n",
    "\n",
    "    #glyph = r.glyph\n",
    "    #glyph.size = 50\n",
    "    \n",
    "    fig.select_one(HoverTool).tooltips = [\n",
    "        #(\"index\", \"$index\"),\n",
    "        #(\"(x,y)\", \"($x, $y)\"),\n",
    "        (\"Time\", \"@desc\"),\n",
    "    ]\n",
    "    \n",
    "    show(fig)"
   ]
  },
  {
   "cell_type": "code",
   "execution_count": 21,
   "metadata": {
    "collapsed": false,
    "scrolled": true
   },
   "outputs": [
    {
     "name": "stderr",
     "output_type": "stream",
     "text": [
      "INFO:bokeh.core.state:Session output file 'sandy_path_bokeh.html' already exists, will be overwritten.\n"
     ]
    },
    {
     "data": {
      "text/html": [
       "\n",
       "\n",
       "    <div class=\"bk-root\">\n",
       "        <div class=\"plotdiv\" id=\"dfaa9238-07db-4cfd-9872-cedb5f92535a\"></div>\n",
       "    </div>\n",
       "<script type=\"text/javascript\">\n",
       "  \n",
       "  (function(global) {\n",
       "    function now() {\n",
       "      return new Date();\n",
       "    }\n",
       "  \n",
       "    var force = \"\";\n",
       "  \n",
       "    if (typeof (window._bokeh_onload_callbacks) === \"undefined\" || force !== \"\") {\n",
       "      window._bokeh_onload_callbacks = [];\n",
       "      window._bokeh_is_loading = undefined;\n",
       "    }\n",
       "  \n",
       "  \n",
       "    \n",
       "    if (typeof (window._bokeh_timeout) === \"undefined\" || force !== \"\") {\n",
       "      window._bokeh_timeout = Date.now() + 0;\n",
       "      window._bokeh_failed_load = false;\n",
       "    }\n",
       "  \n",
       "    var NB_LOAD_WARNING = {'data': {'text/html':\n",
       "       \"<div style='background-color: #fdd'>\\n\"+\n",
       "       \"<p>\\n\"+\n",
       "       \"BokehJS does not appear to have successfully loaded. If loading BokehJS from CDN, this \\n\"+\n",
       "       \"may be due to a slow or bad network connection. Possible fixes:\\n\"+\n",
       "       \"</p>\\n\"+\n",
       "       \"<ul>\\n\"+\n",
       "       \"<li>re-rerun `output_notebook()` to attempt to load from CDN again, or</li>\\n\"+\n",
       "       \"<li>use INLINE resources instead, as so:</li>\\n\"+\n",
       "       \"</ul>\\n\"+\n",
       "       \"<code>\\n\"+\n",
       "       \"from bokeh.resources import INLINE\\n\"+\n",
       "       \"output_notebook(resources=INLINE)\\n\"+\n",
       "       \"</code>\\n\"+\n",
       "       \"</div>\"}};\n",
       "  \n",
       "    function display_loaded() {\n",
       "      if (window.Bokeh !== undefined) {\n",
       "        Bokeh.$(\"#dfaa9238-07db-4cfd-9872-cedb5f92535a\").text(\"BokehJS successfully loaded.\");\n",
       "      } else if (Date.now() < window._bokeh_timeout) {\n",
       "        setTimeout(display_loaded, 100)\n",
       "      }\n",
       "    }\n",
       "  \n",
       "    function run_callbacks() {\n",
       "      window._bokeh_onload_callbacks.forEach(function(callback) { callback() });\n",
       "      delete window._bokeh_onload_callbacks\n",
       "      console.info(\"Bokeh: all callbacks have finished\");\n",
       "    }\n",
       "  \n",
       "    function load_libs(js_urls, callback) {\n",
       "      window._bokeh_onload_callbacks.push(callback);\n",
       "      if (window._bokeh_is_loading > 0) {\n",
       "        console.log(\"Bokeh: BokehJS is being loaded, scheduling callback at\", now());\n",
       "        return null;\n",
       "      }\n",
       "      if (js_urls == null || js_urls.length === 0) {\n",
       "        run_callbacks();\n",
       "        return null;\n",
       "      }\n",
       "      console.log(\"Bokeh: BokehJS not loaded, scheduling load and callback at\", now());\n",
       "      window._bokeh_is_loading = js_urls.length;\n",
       "      for (var i = 0; i < js_urls.length; i++) {\n",
       "        var url = js_urls[i];\n",
       "        var s = document.createElement('script');\n",
       "        s.src = url;\n",
       "        s.async = false;\n",
       "        s.onreadystatechange = s.onload = function() {\n",
       "          window._bokeh_is_loading--;\n",
       "          if (window._bokeh_is_loading === 0) {\n",
       "            console.log(\"Bokeh: all BokehJS libraries loaded\");\n",
       "            run_callbacks()\n",
       "          }\n",
       "        };\n",
       "        s.onerror = function() {\n",
       "          console.warn(\"failed to load library \" + url);\n",
       "        };\n",
       "        console.log(\"Bokeh: injecting script tag for BokehJS library: \", url);\n",
       "        document.getElementsByTagName(\"head\")[0].appendChild(s);\n",
       "      }\n",
       "    };var element = document.getElementById(\"dfaa9238-07db-4cfd-9872-cedb5f92535a\");\n",
       "    if (element == null) {\n",
       "      console.log(\"Bokeh: ERROR: autoload.js configured with elementid 'dfaa9238-07db-4cfd-9872-cedb5f92535a' but no matching script tag was found. \")\n",
       "      return false;\n",
       "    }\n",
       "  \n",
       "    var js_urls = [];\n",
       "  \n",
       "    var inline_js = [\n",
       "      function(Bokeh) {\n",
       "        Bokeh.$(function() {\n",
       "            var docs_json = {\"d4ad9892-968d-4ac5-bc53-55d355b4b2d1\":{\"roots\":{\"references\":[{\"attributes\":{\"overlay\":{\"id\":\"93d9a99d-003b-4158-a4a0-151b4a8ad915\",\"type\":\"BoxAnnotation\"},\"plot\":{\"id\":\"a4595b1d-ae55-46d0-ad45-a8039b1d7741\",\"subtype\":\"Figure\",\"type\":\"Plot\"}},\"id\":\"7e0b7cb0-f01f-401a-a792-ad1ffd1d9c14\",\"type\":\"BoxZoomTool\"},{\"attributes\":{\"callback\":null,\"plot\":{\"id\":\"a4595b1d-ae55-46d0-ad45-a8039b1d7741\",\"subtype\":\"Figure\",\"type\":\"Plot\"},\"tooltips\":[[\"Time\",\"@desc\"]]},\"id\":\"d8b76bfb-1e3d-432f-afb0-7cda01633bc8\",\"type\":\"HoverTool\"},{\"attributes\":{\"callback\":null,\"end\":5086373.649287362,\"start\":1414069.6296580816},\"id\":\"30951aac-7836-4303-8d47-d2e85aec62e4\",\"type\":\"Range1d\"},{\"attributes\":{},\"id\":\"67508afc-6226-4d4b-94d8-1214cee08e7f\",\"type\":\"BasicTickFormatter\"},{\"attributes\":{\"bottom_units\":\"screen\",\"fill_alpha\":{\"value\":0.5},\"fill_color\":{\"value\":\"lightgrey\"},\"left_units\":\"screen\",\"level\":\"overlay\",\"line_alpha\":{\"value\":1.0},\"line_color\":{\"value\":\"black\"},\"line_dash\":[4,4],\"line_width\":{\"value\":2},\"plot\":null,\"render_mode\":\"css\",\"right_units\":\"screen\",\"top_units\":\"screen\"},\"id\":\"93d9a99d-003b-4158-a4a0-151b4a8ad915\",\"type\":\"BoxAnnotation\"},{\"attributes\":{\"url\":\"http://a.basemaps.cartocdn.com/light_all/{Z}/{X}/{Y}.png\"},\"id\":\"0b07f3a8-7c9a-4d95-abea-f629f42bdfb8\",\"type\":\"WMTSTileSource\"},{\"attributes\":{\"plot\":{\"id\":\"a4595b1d-ae55-46d0-ad45-a8039b1d7741\",\"subtype\":\"Figure\",\"type\":\"Plot\"},\"ticker\":{\"id\":\"321fd167-83c3-4b7c-af2a-7dc9c41cc3d6\",\"type\":\"BasicTicker\"}},\"id\":\"738f063d-e62f-4314-aec7-66139cd17b5f\",\"type\":\"Grid\"},{\"attributes\":{\"plot\":{\"id\":\"a4595b1d-ae55-46d0-ad45-a8039b1d7741\",\"subtype\":\"Figure\",\"type\":\"Plot\"}},\"id\":\"8634e1dc-a2f6-4d3e-9c54-6e8daa625482\",\"type\":\"WheelZoomTool\"},{\"attributes\":{\"active_drag\":\"auto\",\"active_scroll\":\"auto\",\"active_tap\":\"auto\",\"tools\":[{\"id\":\"d8b76bfb-1e3d-432f-afb0-7cda01633bc8\",\"type\":\"HoverTool\"},{\"id\":\"56db4244-60e0-4f7b-9a34-75385d8d1b16\",\"type\":\"SaveTool\"},{\"id\":\"f2ac4668-5a1d-415d-a47d-b88645c5922e\",\"type\":\"PanTool\"},{\"id\":\"7e0b7cb0-f01f-401a-a792-ad1ffd1d9c14\",\"type\":\"BoxZoomTool\"},{\"id\":\"8634e1dc-a2f6-4d3e-9c54-6e8daa625482\",\"type\":\"WheelZoomTool\"},{\"id\":\"9925ddac-8633-49b8-8529-f0e4de973c0b\",\"type\":\"ResetTool\"}]},\"id\":\"f7fff69f-65d4-44c3-b659-da88c1ce851b\",\"type\":\"Toolbar\"},{\"attributes\":{\"fill_alpha\":{\"value\":0.1},\"fill_color\":{\"value\":\"#1f77b4\"},\"line_alpha\":{\"value\":0.1},\"line_color\":{\"value\":\"#1f77b4\"},\"size\":{\"units\":\"screen\",\"value\":10},\"x\":{\"field\":\"x\"},\"y\":{\"field\":\"y\"}},\"id\":\"5f8f7b8d-f1c3-494b-8c7a-525f50a6c665\",\"type\":\"Circle\"},{\"attributes\":{},\"id\":\"321fd167-83c3-4b7c-af2a-7dc9c41cc3d6\",\"type\":\"BasicTicker\"},{\"attributes\":{\"callback\":null,\"end\":-7848024.100925787,\"start\":-8983482.907017179},\"id\":\"2270e945-85a6-4e0b-975f-a2c1b57161f9\",\"type\":\"Range1d\"},{\"attributes\":{\"data_source\":{\"id\":\"5a643969-94e6-4ec7-a151-e6a940b8023a\",\"type\":\"ColumnDataSource\"},\"glyph\":{\"id\":\"3eb90e97-4085-4ef2-98e9-3922bb2b6c87\",\"type\":\"Circle\"},\"hover_glyph\":null,\"nonselection_glyph\":{\"id\":\"5f8f7b8d-f1c3-494b-8c7a-525f50a6c665\",\"type\":\"Circle\"},\"selection_glyph\":null},\"id\":\"0f7ba7e3-d670-4ded-87b2-7565246c3b4c\",\"type\":\"GlyphRenderer\"},{\"attributes\":{\"plot\":null,\"text\":null},\"id\":\"6fd3f988-b520-4d4e-b4ef-846cceb5aa52\",\"type\":\"Title\"},{\"attributes\":{\"dimension\":1,\"plot\":{\"id\":\"a4595b1d-ae55-46d0-ad45-a8039b1d7741\",\"subtype\":\"Figure\",\"type\":\"Plot\"},\"ticker\":{\"id\":\"3980cd4a-8af5-46a9-974a-4283e5ded4b2\",\"type\":\"BasicTicker\"}},\"id\":\"9ebd4cb1-9176-4a75-8f85-b8360815cd9f\",\"type\":\"Grid\"},{\"attributes\":{\"tile_source\":{\"id\":\"0b07f3a8-7c9a-4d95-abea-f629f42bdfb8\",\"type\":\"WMTSTileSource\"}},\"id\":\"aa89f8c9-0236-4ec8-aa2c-ef3afe3b20ba\",\"type\":\"TileRenderer\"},{\"attributes\":{\"formatter\":{\"id\":\"67508afc-6226-4d4b-94d8-1214cee08e7f\",\"type\":\"BasicTickFormatter\"},\"plot\":{\"id\":\"a4595b1d-ae55-46d0-ad45-a8039b1d7741\",\"subtype\":\"Figure\",\"type\":\"Plot\"},\"ticker\":{\"id\":\"3980cd4a-8af5-46a9-974a-4283e5ded4b2\",\"type\":\"BasicTicker\"},\"visible\":false},\"id\":\"472ac185-2ebc-4669-84da-84cca81d016c\",\"type\":\"LinearAxis\"},{\"attributes\":{\"plot\":{\"id\":\"a4595b1d-ae55-46d0-ad45-a8039b1d7741\",\"subtype\":\"Figure\",\"type\":\"Plot\"}},\"id\":\"f2ac4668-5a1d-415d-a47d-b88645c5922e\",\"type\":\"PanTool\"},{\"attributes\":{},\"id\":\"3980cd4a-8af5-46a9-974a-4283e5ded4b2\",\"type\":\"BasicTicker\"},{\"attributes\":{\"plot\":{\"id\":\"a4595b1d-ae55-46d0-ad45-a8039b1d7741\",\"subtype\":\"Figure\",\"type\":\"Plot\"}},\"id\":\"56db4244-60e0-4f7b-9a34-75385d8d1b16\",\"type\":\"SaveTool\"},{\"attributes\":{},\"id\":\"a3f35607-6370-4c77-bfbf-965f5cfee83a\",\"type\":\"BasicTickFormatter\"},{\"attributes\":{\"plot\":{\"id\":\"a4595b1d-ae55-46d0-ad45-a8039b1d7741\",\"subtype\":\"Figure\",\"type\":\"Plot\"}},\"id\":\"9925ddac-8633-49b8-8529-f0e4de973c0b\",\"type\":\"ResetTool\"},{\"attributes\":{\"fill_alpha\":{\"value\":0.5},\"fill_color\":{\"value\":\"red\"},\"line_alpha\":{\"value\":0.5},\"line_color\":{\"value\":\"red\"},\"size\":{\"units\":\"screen\",\"value\":10},\"x\":{\"field\":\"x\"},\"y\":{\"field\":\"y\"}},\"id\":\"3eb90e97-4085-4ef2-98e9-3922bb2b6c87\",\"type\":\"Circle\"},{\"attributes\":{\"formatter\":{\"id\":\"a3f35607-6370-4c77-bfbf-965f5cfee83a\",\"type\":\"BasicTickFormatter\"},\"plot\":{\"id\":\"a4595b1d-ae55-46d0-ad45-a8039b1d7741\",\"subtype\":\"Figure\",\"type\":\"Plot\"},\"ticker\":{\"id\":\"321fd167-83c3-4b7c-af2a-7dc9c41cc3d6\",\"type\":\"BasicTicker\"},\"visible\":false},\"id\":\"633d268e-e328-4456-969d-9ab899013760\",\"type\":\"LinearAxis\"},{\"attributes\":{},\"id\":\"da93e9d9-462f-48e5-b353-10d16c19e0dc\",\"type\":\"ToolEvents\"},{\"attributes\":{\"below\":[{\"id\":\"633d268e-e328-4456-969d-9ab899013760\",\"type\":\"LinearAxis\"}],\"left\":[{\"id\":\"472ac185-2ebc-4669-84da-84cca81d016c\",\"type\":\"LinearAxis\"}],\"renderers\":[{\"id\":\"633d268e-e328-4456-969d-9ab899013760\",\"type\":\"LinearAxis\"},{\"id\":\"738f063d-e62f-4314-aec7-66139cd17b5f\",\"type\":\"Grid\"},{\"id\":\"472ac185-2ebc-4669-84da-84cca81d016c\",\"type\":\"LinearAxis\"},{\"id\":\"9ebd4cb1-9176-4a75-8f85-b8360815cd9f\",\"type\":\"Grid\"},{\"id\":\"93d9a99d-003b-4158-a4a0-151b4a8ad915\",\"type\":\"BoxAnnotation\"},{\"id\":\"aa89f8c9-0236-4ec8-aa2c-ef3afe3b20ba\",\"type\":\"TileRenderer\"},{\"id\":\"0f7ba7e3-d670-4ded-87b2-7565246c3b4c\",\"type\":\"GlyphRenderer\"}],\"title\":{\"id\":\"6fd3f988-b520-4d4e-b4ef-846cceb5aa52\",\"type\":\"Title\"},\"tool_events\":{\"id\":\"da93e9d9-462f-48e5-b353-10d16c19e0dc\",\"type\":\"ToolEvents\"},\"toolbar\":{\"id\":\"f7fff69f-65d4-44c3-b659-da88c1ce851b\",\"type\":\"Toolbar\"},\"x_range\":{\"id\":\"2270e945-85a6-4e0b-975f-a2c1b57161f9\",\"type\":\"Range1d\"},\"y_range\":{\"id\":\"30951aac-7836-4303-8d47-d2e85aec62e4\",\"type\":\"Range1d\"}},\"id\":\"a4595b1d-ae55-46d0-ad45-a8039b1d7741\",\"subtype\":\"Figure\",\"type\":\"Plot\"},{\"attributes\":{\"callback\":null,\"column_names\":[\"y\",\"x\",\"desc\"],\"data\":{\"desc\":[\"Sun Oct 21 2012 18:00\",\"Mon Oct 22 2012 00:00\",\"Mon Oct 22 2012 06:00\",\"Mon Oct 22 2012 12:00\",\"Mon Oct 22 2012 18:00\",\"Tue Oct 23 2012 00:00\",\"Tue Oct 23 2012 06:00\",\"Tue Oct 23 2012 12:00\",\"Tue Oct 23 2012 18:00\",\"Wed Oct 24 2012 00:00\",\"Wed Oct 24 2012 06:00\",\"Wed Oct 24 2012 12:00\",\"Wed Oct 24 2012 18:00\",\"Wed Oct 24 2012 19:00\",\"Thu Oct 25 2012 00:00\",\"Thu Oct 25 2012 05:00\",\"Thu Oct 25 2012 06:00\",\"Thu Oct 25 2012 09:00\",\"Thu Oct 25 2012 12:00\",\"Thu Oct 25 2012 18:00\",\"Fri Oct 26 2012 00:00\",\"Fri Oct 26 2012 06:00\",\"Fri Oct 26 2012 12:00\",\"Fri Oct 26 2012 18:00\",\"Sat Oct 27 2012 00:00\",\"Sat Oct 27 2012 06:00\",\"Sat Oct 27 2012 12:00\",\"Sat Oct 27 2012 18:00\",\"Sun Oct 28 2012 00:00\",\"Sun Oct 28 2012 06:00\",\"Sun Oct 28 2012 12:00\",\"Sun Oct 28 2012 18:00\",\"Mon Oct 29 2012 00:00\",\"Mon Oct 29 2012 06:00\",\"Mon Oct 29 2012 12:00\",\"Mon Oct 29 2012 18:00\",\"Mon Oct 29 2012 21:00\",\"Mon Oct 29 2012 23:00\",\"Tue Oct 30 2012 00:00\",\"Tue Oct 30 2012 06:00\",\"Tue Oct 30 2012 12:00\",\"Tue Oct 30 2012 18:00\",\"Wed Oct 31 2012 00:00\",\"Wed Oct 31 2012 06:00\",\"Wed Oct 31 2012 12:00\"],\"x\":[-8616128.587399377,-8660656.383716684,-8705184.180033995,-8749711.976351302,-8760843.925430631,-8727448.07819265,-8694052.230954666,-8671788.332796013,-8638392.48555803,-8604996.638320047,-8582732.740161393,-8560468.842002738,-8538204.943844084,-8527072.994764756,-8504809.096606102,-8460281.300288793,-8460281.300288793,-8426885.45305081,-8404621.554892154,-8382357.6567335,-8449149.351209465,-8504809.096606102,-8560468.842002738,-8593864.68924072,-8582732.740161393,-8560468.842002738,-8515941.04568543,-8415753.503971482,-8315565.962257537,-8226510.369622918,-8126322.827908971,-8015003.337115698,-7903683.846322424,-7848024.100925787,-7903683.846322424,-8148586.726067627,-8237642.318702245,-8282170.115019555,-8293302.064098882,-8482545.198447447,-8660656.383716684,-8783107.823589286,-8883295.365303231,-8938955.110699868,-8983482.907017179],\"y\":[1608657.4067022006,1562746.299408961,1516914.4453372373,1471159.3451232612,1425478.519403155,1414069.6296580816,1448309.802150294,1505468.571795933,1574216.548161465,1654650.287315491,1758446.4530675344,1874311.934414086,2002463.7486873388,2025847.0324741958,2143166.0658230092,2273030.926987689,2284881.0700673275,2379958.6429197565,2475544.533776697,2668339.105750191,2851199.0521615394,2961971.8533237535,3048707.5973286973,3123471.749104576,3186080.233365009,3261587.3618431184,3350215.060088937,3465045.634728215,3567983.4559358223,3671771.4487971356,3763310.6271446524,3868787.2980985106,4015382.36007316,4204725.050936375,4425177.227865093,4621892.867064265,4693063.644295792,4779131.18122614,4793547.459104806,4851421.175183355,4880484.665662283,4924240.587205196,4968191.930188201,5027102.849122582,5086373.649287362]}},\"id\":\"5a643969-94e6-4ec7-a151-e6a940b8023a\",\"type\":\"ColumnDataSource\"}],\"root_ids\":[\"a4595b1d-ae55-46d0-ad45-a8039b1d7741\"]},\"title\":\"Bokeh Application\",\"version\":\"0.12.3\"}};\n",
       "            var render_items = [{\"docid\":\"d4ad9892-968d-4ac5-bc53-55d355b4b2d1\",\"elementid\":\"dfaa9238-07db-4cfd-9872-cedb5f92535a\",\"modelid\":\"a4595b1d-ae55-46d0-ad45-a8039b1d7741\"}];\n",
       "            \n",
       "            Bokeh.embed.embed_items(docs_json, render_items);\n",
       "        });\n",
       "      },\n",
       "      function(Bokeh) {\n",
       "      }\n",
       "    ];\n",
       "  \n",
       "    function run_inline_js() {\n",
       "      \n",
       "      if ((window.Bokeh !== undefined) || (force === \"1\")) {\n",
       "        for (var i = 0; i < inline_js.length; i++) {\n",
       "          inline_js[i](window.Bokeh);\n",
       "        }if (force === \"1\") {\n",
       "          display_loaded();\n",
       "        }} else if (Date.now() < window._bokeh_timeout) {\n",
       "        setTimeout(run_inline_js, 100);\n",
       "      } else if (!window._bokeh_failed_load) {\n",
       "        console.log(\"Bokeh: BokehJS failed to load within specified timeout.\");\n",
       "        window._bokeh_failed_load = true;\n",
       "      } else if (!force) {\n",
       "        var cell = $(\"#dfaa9238-07db-4cfd-9872-cedb5f92535a\").parents('.cell').data().cell;\n",
       "        cell.output_area.append_execute_result(NB_LOAD_WARNING)\n",
       "      }\n",
       "  \n",
       "    }\n",
       "  \n",
       "    if (window._bokeh_is_loading === 0) {\n",
       "      console.log(\"Bokeh: BokehJS loaded, going straight to plotting\");\n",
       "      run_inline_js();\n",
       "    } else {\n",
       "      load_libs(js_urls, function() {\n",
       "        console.log(\"Bokeh: BokehJS plotting callback run at\", now());\n",
       "        run_inline_js();\n",
       "      });\n",
       "    }\n",
       "  }(this));\n",
       "</script>"
      ]
     },
     "metadata": {},
     "output_type": "display_data"
    },
    {
     "ename": "KeyboardInterrupt",
     "evalue": "",
     "output_type": "error",
     "traceback": [
      "\u001b[0;31m---------------------------------------------------------------------------\u001b[0m",
      "\u001b[0;31mKeyboardInterrupt\u001b[0m                         Traceback (most recent call last)",
      "\u001b[0;32m<ipython-input-21-9000f4af48e5>\u001b[0m in \u001b[0;36m<module>\u001b[0;34m()\u001b[0m\n\u001b[0;32m----> 1\u001b[0;31m \u001b[0mplot_geo_distbn_points_bokeh\u001b[0m\u001b[0;34m(\u001b[0m\u001b[0mpath_df\u001b[0m\u001b[0;34m)\u001b[0m\u001b[0;34m\u001b[0m\u001b[0m\n\u001b[0m",
      "\u001b[0;32m<ipython-input-20-6e1efecb3ec2>\u001b[0m in \u001b[0;36mplot_geo_distbn_points_bokeh\u001b[0;34m(path_df)\u001b[0m\n\u001b[1;32m     58\u001b[0m     ]\n\u001b[1;32m     59\u001b[0m \u001b[0;34m\u001b[0m\u001b[0m\n\u001b[0;32m---> 60\u001b[0;31m     \u001b[0mshow\u001b[0m\u001b[0;34m(\u001b[0m\u001b[0mfig\u001b[0m\u001b[0;34m)\u001b[0m\u001b[0;34m\u001b[0m\u001b[0m\n\u001b[0m",
      "\u001b[0;32m/opt/conda/lib/python2.7/site-packages/bokeh/io.pyc\u001b[0m in \u001b[0;36mshow\u001b[0;34m(obj, browser, new, notebook_handle)\u001b[0m\n\u001b[1;32m    312\u001b[0m     \u001b[0;32mif\u001b[0m \u001b[0mobj\u001b[0m \u001b[0;32mnot\u001b[0m \u001b[0;32min\u001b[0m \u001b[0m_state\u001b[0m\u001b[0;34m.\u001b[0m\u001b[0mdocument\u001b[0m\u001b[0;34m.\u001b[0m\u001b[0mroots\u001b[0m\u001b[0;34m:\u001b[0m\u001b[0;34m\u001b[0m\u001b[0m\n\u001b[1;32m    313\u001b[0m         \u001b[0m_state\u001b[0m\u001b[0;34m.\u001b[0m\u001b[0mdocument\u001b[0m\u001b[0;34m.\u001b[0m\u001b[0madd_root\u001b[0m\u001b[0;34m(\u001b[0m\u001b[0mobj\u001b[0m\u001b[0;34m)\u001b[0m\u001b[0;34m\u001b[0m\u001b[0m\n\u001b[0;32m--> 314\u001b[0;31m     \u001b[0;32mreturn\u001b[0m \u001b[0m_show_with_state\u001b[0m\u001b[0;34m(\u001b[0m\u001b[0mobj\u001b[0m\u001b[0;34m,\u001b[0m \u001b[0m_state\u001b[0m\u001b[0;34m,\u001b[0m \u001b[0mbrowser\u001b[0m\u001b[0;34m,\u001b[0m \u001b[0mnew\u001b[0m\u001b[0;34m,\u001b[0m \u001b[0mnotebook_handle\u001b[0m\u001b[0;34m=\u001b[0m\u001b[0mnotebook_handle\u001b[0m\u001b[0;34m)\u001b[0m\u001b[0;34m\u001b[0m\u001b[0m\n\u001b[0m\u001b[1;32m    315\u001b[0m \u001b[0;34m\u001b[0m\u001b[0m\n\u001b[1;32m    316\u001b[0m \u001b[0;34m\u001b[0m\u001b[0m\n",
      "\u001b[0;32m/opt/conda/lib/python2.7/site-packages/bokeh/io.pyc\u001b[0m in \u001b[0;36m_show_with_state\u001b[0;34m(obj, state, browser, new, notebook_handle)\u001b[0m\n\u001b[1;32m    330\u001b[0m \u001b[0;34m\u001b[0m\u001b[0m\n\u001b[1;32m    331\u001b[0m     \u001b[0;32mif\u001b[0m \u001b[0mstate\u001b[0m\u001b[0;34m.\u001b[0m\u001b[0mfile\u001b[0m \u001b[0;32mor\u001b[0m \u001b[0;32mnot\u001b[0m \u001b[0mshown\u001b[0m\u001b[0;34m:\u001b[0m\u001b[0;34m\u001b[0m\u001b[0m\n\u001b[0;32m--> 332\u001b[0;31m         \u001b[0m_show_file_with_state\u001b[0m\u001b[0;34m(\u001b[0m\u001b[0mobj\u001b[0m\u001b[0;34m,\u001b[0m \u001b[0mstate\u001b[0m\u001b[0;34m,\u001b[0m \u001b[0mnew\u001b[0m\u001b[0;34m,\u001b[0m \u001b[0mcontroller\u001b[0m\u001b[0;34m)\u001b[0m\u001b[0;34m\u001b[0m\u001b[0m\n\u001b[0m\u001b[1;32m    333\u001b[0m \u001b[0;34m\u001b[0m\u001b[0m\n\u001b[1;32m    334\u001b[0m     \u001b[0;32mreturn\u001b[0m \u001b[0mcomms_handle\u001b[0m\u001b[0;34m\u001b[0m\u001b[0m\n",
      "\u001b[0;32m/opt/conda/lib/python2.7/site-packages/bokeh/io.pyc\u001b[0m in \u001b[0;36m_show_file_with_state\u001b[0;34m(obj, state, new, controller)\u001b[0m\n\u001b[1;32m    336\u001b[0m \u001b[0;32mdef\u001b[0m \u001b[0m_show_file_with_state\u001b[0m\u001b[0;34m(\u001b[0m\u001b[0mobj\u001b[0m\u001b[0;34m,\u001b[0m \u001b[0mstate\u001b[0m\u001b[0;34m,\u001b[0m \u001b[0mnew\u001b[0m\u001b[0;34m,\u001b[0m \u001b[0mcontroller\u001b[0m\u001b[0;34m)\u001b[0m\u001b[0;34m:\u001b[0m\u001b[0;34m\u001b[0m\u001b[0m\n\u001b[1;32m    337\u001b[0m     \u001b[0mfilename\u001b[0m \u001b[0;34m=\u001b[0m \u001b[0msave\u001b[0m\u001b[0;34m(\u001b[0m\u001b[0mobj\u001b[0m\u001b[0;34m,\u001b[0m \u001b[0mstate\u001b[0m\u001b[0;34m=\u001b[0m\u001b[0mstate\u001b[0m\u001b[0;34m)\u001b[0m\u001b[0;34m\u001b[0m\u001b[0m\n\u001b[0;32m--> 338\u001b[0;31m     \u001b[0mcontroller\u001b[0m\u001b[0;34m.\u001b[0m\u001b[0mopen\u001b[0m\u001b[0;34m(\u001b[0m\u001b[0;34m\"file://\"\u001b[0m \u001b[0;34m+\u001b[0m \u001b[0mfilename\u001b[0m\u001b[0;34m,\u001b[0m \u001b[0mnew\u001b[0m\u001b[0;34m=\u001b[0m\u001b[0m_new_param\u001b[0m\u001b[0;34m[\u001b[0m\u001b[0mnew\u001b[0m\u001b[0;34m]\u001b[0m\u001b[0;34m)\u001b[0m\u001b[0;34m\u001b[0m\u001b[0m\n\u001b[0m\u001b[1;32m    339\u001b[0m \u001b[0;34m\u001b[0m\u001b[0m\n\u001b[1;32m    340\u001b[0m \u001b[0;32mdef\u001b[0m \u001b[0m_show_notebook_with_state\u001b[0m\u001b[0;34m(\u001b[0m\u001b[0mobj\u001b[0m\u001b[0;34m,\u001b[0m \u001b[0mstate\u001b[0m\u001b[0;34m,\u001b[0m \u001b[0mnotebook_handle\u001b[0m\u001b[0;34m)\u001b[0m\u001b[0;34m:\u001b[0m\u001b[0;34m\u001b[0m\u001b[0m\n",
      "\u001b[0;32m/opt/conda/lib/python2.7/webbrowser.pyc\u001b[0m in \u001b[0;36mopen\u001b[0;34m(url, new, autoraise)\u001b[0m\n\u001b[1;32m     59\u001b[0m     \u001b[0;32mfor\u001b[0m \u001b[0mname\u001b[0m \u001b[0;32min\u001b[0m \u001b[0m_tryorder\u001b[0m\u001b[0;34m:\u001b[0m\u001b[0;34m\u001b[0m\u001b[0m\n\u001b[1;32m     60\u001b[0m         \u001b[0mbrowser\u001b[0m \u001b[0;34m=\u001b[0m \u001b[0mget\u001b[0m\u001b[0;34m(\u001b[0m\u001b[0mname\u001b[0m\u001b[0;34m)\u001b[0m\u001b[0;34m\u001b[0m\u001b[0m\n\u001b[0;32m---> 61\u001b[0;31m         \u001b[0;32mif\u001b[0m \u001b[0mbrowser\u001b[0m\u001b[0;34m.\u001b[0m\u001b[0mopen\u001b[0m\u001b[0;34m(\u001b[0m\u001b[0murl\u001b[0m\u001b[0;34m,\u001b[0m \u001b[0mnew\u001b[0m\u001b[0;34m,\u001b[0m \u001b[0mautoraise\u001b[0m\u001b[0;34m)\u001b[0m\u001b[0;34m:\u001b[0m\u001b[0;34m\u001b[0m\u001b[0m\n\u001b[0m\u001b[1;32m     62\u001b[0m             \u001b[0;32mreturn\u001b[0m \u001b[0mTrue\u001b[0m\u001b[0;34m\u001b[0m\u001b[0m\n\u001b[1;32m     63\u001b[0m     \u001b[0;32mreturn\u001b[0m \u001b[0mFalse\u001b[0m\u001b[0;34m\u001b[0m\u001b[0m\n",
      "\u001b[0;32m/opt/conda/lib/python2.7/webbrowser.pyc\u001b[0m in \u001b[0;36mopen\u001b[0;34m(self, url, new, autoraise)\u001b[0m\n\u001b[1;32m    177\u001b[0m             \u001b[0;32melse\u001b[0m\u001b[0;34m:\u001b[0m\u001b[0;34m\u001b[0m\u001b[0m\n\u001b[1;32m    178\u001b[0m                 \u001b[0mp\u001b[0m \u001b[0;34m=\u001b[0m \u001b[0msubprocess\u001b[0m\u001b[0;34m.\u001b[0m\u001b[0mPopen\u001b[0m\u001b[0;34m(\u001b[0m\u001b[0mcmdline\u001b[0m\u001b[0;34m,\u001b[0m \u001b[0mclose_fds\u001b[0m\u001b[0;34m=\u001b[0m\u001b[0mTrue\u001b[0m\u001b[0;34m)\u001b[0m\u001b[0;34m\u001b[0m\u001b[0m\n\u001b[0;32m--> 179\u001b[0;31m             \u001b[0;32mreturn\u001b[0m \u001b[0;32mnot\u001b[0m \u001b[0mp\u001b[0m\u001b[0;34m.\u001b[0m\u001b[0mwait\u001b[0m\u001b[0;34m(\u001b[0m\u001b[0;34m)\u001b[0m\u001b[0;34m\u001b[0m\u001b[0m\n\u001b[0m\u001b[1;32m    180\u001b[0m         \u001b[0;32mexcept\u001b[0m \u001b[0mOSError\u001b[0m\u001b[0;34m:\u001b[0m\u001b[0;34m\u001b[0m\u001b[0m\n\u001b[1;32m    181\u001b[0m             \u001b[0;32mreturn\u001b[0m \u001b[0mFalse\u001b[0m\u001b[0;34m\u001b[0m\u001b[0m\n",
      "\u001b[0;32m/opt/conda/lib/python2.7/subprocess.pyc\u001b[0m in \u001b[0;36mwait\u001b[0;34m(self)\u001b[0m\n\u001b[1;32m   1390\u001b[0m             \u001b[0;32mwhile\u001b[0m \u001b[0mself\u001b[0m\u001b[0;34m.\u001b[0m\u001b[0mreturncode\u001b[0m \u001b[0;32mis\u001b[0m \u001b[0mNone\u001b[0m\u001b[0;34m:\u001b[0m\u001b[0;34m\u001b[0m\u001b[0m\n\u001b[1;32m   1391\u001b[0m                 \u001b[0;32mtry\u001b[0m\u001b[0;34m:\u001b[0m\u001b[0;34m\u001b[0m\u001b[0m\n\u001b[0;32m-> 1392\u001b[0;31m                     \u001b[0mpid\u001b[0m\u001b[0;34m,\u001b[0m \u001b[0msts\u001b[0m \u001b[0;34m=\u001b[0m \u001b[0m_eintr_retry_call\u001b[0m\u001b[0;34m(\u001b[0m\u001b[0mos\u001b[0m\u001b[0;34m.\u001b[0m\u001b[0mwaitpid\u001b[0m\u001b[0;34m,\u001b[0m \u001b[0mself\u001b[0m\u001b[0;34m.\u001b[0m\u001b[0mpid\u001b[0m\u001b[0;34m,\u001b[0m \u001b[0;36m0\u001b[0m\u001b[0;34m)\u001b[0m\u001b[0;34m\u001b[0m\u001b[0m\n\u001b[0m\u001b[1;32m   1393\u001b[0m                 \u001b[0;32mexcept\u001b[0m \u001b[0mOSError\u001b[0m \u001b[0;32mas\u001b[0m \u001b[0me\u001b[0m\u001b[0;34m:\u001b[0m\u001b[0;34m\u001b[0m\u001b[0m\n\u001b[1;32m   1394\u001b[0m                     \u001b[0;32mif\u001b[0m \u001b[0me\u001b[0m\u001b[0;34m.\u001b[0m\u001b[0merrno\u001b[0m \u001b[0;34m!=\u001b[0m \u001b[0merrno\u001b[0m\u001b[0;34m.\u001b[0m\u001b[0mECHILD\u001b[0m\u001b[0;34m:\u001b[0m\u001b[0;34m\u001b[0m\u001b[0m\n",
      "\u001b[0;32m/opt/conda/lib/python2.7/subprocess.pyc\u001b[0m in \u001b[0;36m_eintr_retry_call\u001b[0;34m(func, *args)\u001b[0m\n\u001b[1;32m    474\u001b[0m     \u001b[0;32mwhile\u001b[0m \u001b[0mTrue\u001b[0m\u001b[0;34m:\u001b[0m\u001b[0;34m\u001b[0m\u001b[0m\n\u001b[1;32m    475\u001b[0m         \u001b[0;32mtry\u001b[0m\u001b[0;34m:\u001b[0m\u001b[0;34m\u001b[0m\u001b[0m\n\u001b[0;32m--> 476\u001b[0;31m             \u001b[0;32mreturn\u001b[0m \u001b[0mfunc\u001b[0m\u001b[0;34m(\u001b[0m\u001b[0;34m*\u001b[0m\u001b[0margs\u001b[0m\u001b[0;34m)\u001b[0m\u001b[0;34m\u001b[0m\u001b[0m\n\u001b[0m\u001b[1;32m    477\u001b[0m         \u001b[0;32mexcept\u001b[0m \u001b[0;34m(\u001b[0m\u001b[0mOSError\u001b[0m\u001b[0;34m,\u001b[0m \u001b[0mIOError\u001b[0m\u001b[0;34m)\u001b[0m \u001b[0;32mas\u001b[0m \u001b[0me\u001b[0m\u001b[0;34m:\u001b[0m\u001b[0;34m\u001b[0m\u001b[0m\n\u001b[1;32m    478\u001b[0m             \u001b[0;32mif\u001b[0m \u001b[0me\u001b[0m\u001b[0;34m.\u001b[0m\u001b[0merrno\u001b[0m \u001b[0;34m==\u001b[0m \u001b[0merrno\u001b[0m\u001b[0;34m.\u001b[0m\u001b[0mEINTR\u001b[0m\u001b[0;34m:\u001b[0m\u001b[0;34m\u001b[0m\u001b[0m\n",
      "\u001b[0;31mKeyboardInterrupt\u001b[0m: "
     ]
    }
   ],
   "source": [
    "plot_geo_distbn_points_bokeh(path_df)"
   ]
  },
  {
   "cell_type": "code",
   "execution_count": null,
   "metadata": {
    "collapsed": true
   },
   "outputs": [],
   "source": []
  },
  {
   "cell_type": "code",
   "execution_count": null,
   "metadata": {
    "collapsed": true
   },
   "outputs": [],
   "source": []
  },
  {
   "cell_type": "code",
   "execution_count": null,
   "metadata": {
    "collapsed": true
   },
   "outputs": [],
   "source": []
  },
  {
   "cell_type": "code",
   "execution_count": null,
   "metadata": {
    "collapsed": true
   },
   "outputs": [],
   "source": []
  },
  {
   "cell_type": "code",
   "execution_count": null,
   "metadata": {
    "collapsed": true
   },
   "outputs": [],
   "source": []
  },
  {
   "cell_type": "code",
   "execution_count": null,
   "metadata": {
    "collapsed": true
   },
   "outputs": [],
   "source": []
  },
  {
   "cell_type": "markdown",
   "metadata": {},
   "source": [
    "### Save to csv"
   ]
  },
  {
   "cell_type": "code",
   "execution_count": null,
   "metadata": {
    "collapsed": true
   },
   "outputs": [],
   "source": [
    "#import csv\n",
    "#import sys\n",
    "\n",
    "#with open('sandy_path.csv', 'wb') as csvfile:\n",
    "#    writer = csv.writer(csvfile)\n",
    "#    writer.writerow(['timestamp', 'lat', 'lon'])\n",
    "#    writer.writerows(path)\n",
    "\n",
    "path_df.to_csv('sandy_path.csv', index=False)"
   ]
  },
  {
   "cell_type": "markdown",
   "metadata": {},
   "source": [
    "### Add a new colum containing elapsed time in seconds"
   ]
  },
  {
   "cell_type": "code",
   "execution_count": null,
   "metadata": {
    "collapsed": false
   },
   "outputs": [],
   "source": [
    "startTime = path_df['timestamp'].iloc[0]\n",
    "elapsed_time = (path_df['timestamp'] - startTime) / np.timedelta64(1, 's')\n",
    "#print (zip(elapsed_time, elapsed_time / np.timedelta64(1, 's')))\n",
    "\n",
    "path_df['elapsed_time_seconds'] = elapsed_time\n",
    "path_df.head()"
   ]
  },
  {
   "cell_type": "markdown",
   "metadata": {},
   "source": [
    "### Iterpolate\n",
    "Input path is sampled every 6 hr interval. Interpolate on a finer 1/2 hr grid and save to a CSV file. Then, use linear interpolation."
   ]
  },
  {
   "cell_type": "code",
   "execution_count": null,
   "metadata": {
    "collapsed": false
   },
   "outputs": [],
   "source": [
    "# http://stackoverflow.com/questions/19101864/find-minimum-distance-from-point-to-complicated-curve\n",
    "# x(t), y(t)\n",
    "# https://docs.scipy.org/doc/scipy/reference/tutorial/interpolate.html\n",
    "\n",
    "from scipy.interpolate import interp1d\n",
    "\n",
    "import matplotlib.pyplot as plt\n",
    "from scipy.interpolate import UnivariateSpline\n",
    "%matplotlib inline"
   ]
  },
  {
   "cell_type": "code",
   "execution_count": null,
   "metadata": {
    "collapsed": false
   },
   "outputs": [],
   "source": [
    "tmin, tmax = path_df['elapsed_time_seconds'].min(), path_df['elapsed_time_seconds'].max()\n",
    "#t = np.linspace(tmin, tmax, 100)\n",
    "dt = 30*60 # seconds, 1/2 hr\n",
    "t = np.arange(tmin, tmax+dt, dt)\n",
    "\n",
    "spl_lat = UnivariateSpline(path_df['elapsed_time_seconds'], path_df['lat'])\n",
    "spl_lat.set_smoothing_factor(0.1)\n",
    "spl_lon = UnivariateSpline(path_df['elapsed_time_seconds'], path_df['lon'])\n",
    "spl_lon.set_smoothing_factor(0.1)\n",
    "\n",
    "plt.plot(path_df['lat'], path_df['lon'], 'ro', ms=5)\n",
    "plt.plot(spl_lat(t), spl_lon(t), 'g', lw=3)\n",
    "plt.xlabel('Lat')\n",
    "plt.ylabel('Lon')"
   ]
  },
  {
   "cell_type": "markdown",
   "metadata": {
    "collapsed": true
   },
   "source": [
    "### Save interpolated lat, lon"
   ]
  },
  {
   "cell_type": "code",
   "execution_count": null,
   "metadata": {
    "collapsed": false
   },
   "outputs": [],
   "source": [
    "# Create new date time column with interval 1/2 hr.\n",
    "# Or convert t in seconds to datetime, using appropritate start time\n",
    "# Save as csv"
   ]
  },
  {
   "cell_type": "code",
   "execution_count": null,
   "metadata": {
    "collapsed": false
   },
   "outputs": [],
   "source": [
    "path_finer_grid_df = pd.DataFrame()\n",
    "t_start = path_df['timestamp'].min()\n",
    "path_finer_grid_df['timestamp'] = [t_start + pd.DateOffset(seconds=td) for td in t]\n",
    "path_finer_grid_df['lat'] = spl_lat(t)\n",
    "path_finer_grid_df['lon'] = spl_lon(t)\n",
    "\n",
    "path_finer_grid_df.head()"
   ]
  },
  {
   "cell_type": "code",
   "execution_count": null,
   "metadata": {
    "collapsed": false
   },
   "outputs": [],
   "source": [
    "plt.plot(path_df['lat'], path_df['lon'], 'ro', ms=10)\n",
    "plt.plot(path_finer_grid_df['lat'], path_finer_grid_df['lon'], 'gd', ms=5)#, lw=3)\n",
    "plt.xlabel('Lat')\n",
    "plt.ylabel('Lon')"
   ]
  },
  {
   "cell_type": "markdown",
   "metadata": {},
   "source": [
    "### Save to csv"
   ]
  },
  {
   "cell_type": "code",
   "execution_count": null,
   "metadata": {
    "collapsed": true
   },
   "outputs": [],
   "source": [
    "path_finer_grid_df.to_csv('sandy_path_finer_grid.csv', index=False)"
   ]
  },
  {
   "cell_type": "markdown",
   "metadata": {},
   "source": [
    "## Bokeh plot"
   ]
  },
  {
   "cell_type": "code",
   "execution_count": null,
   "metadata": {
    "collapsed": false
   },
   "outputs": [],
   "source": [
    "from bokeh.io import output_notebook, show\n",
    "output_notebook()"
   ]
  },
  {
   "cell_type": "code",
   "execution_count": null,
   "metadata": {
    "collapsed": true
   },
   "outputs": [],
   "source": [
    "from bokeh.plotting import figure\n",
    "from bokeh.tile_providers import WMTSTileSource\n",
    "from bokeh.plotting import Figure, show, output_file\n",
    "\n",
    "#import matplotlib as mpl\n",
    "#import matplotlib.pyplot as plt\n",
    "import matplotlib.cm as cm\n",
    "#import numpy as np"
   ]
  },
  {
   "cell_type": "code",
   "execution_count": null,
   "metadata": {
    "collapsed": true
   },
   "outputs": [],
   "source": [
    "import pandas as pd\n",
    "import numpy as np\n",
    "\n",
    "def wgs84_to_web_mercator(lon, lat):\n",
    "    \"\"\"Converts decimal longitude/latitude to Web Mercator format\"\"\"\n",
    "    k = 6378137\n",
    "    x = lon * (k * np.pi/180.0)\n",
    "    y = np.log(np.tan((90 + lat) * np.pi/360.0)) * k\n",
    "    return x, y\n",
    "\n",
    "#df_test = pd.DataFrame(dict(name=[\"Austin\",\"NYC\"],lon=[-97.7431,-74.0059],lat=[30.2672,40.7128]))\n",
    "#x, y = wgs84_to_web_mercator(df_test['lon'].values, df_test['lat'].values)\n",
    "#df_test['x'], df_test['y'] = x, y\n",
    "#df_test"
   ]
  },
  {
   "cell_type": "code",
   "execution_count": null,
   "metadata": {
    "collapsed": true
   },
   "outputs": [],
   "source": [
    "def plot_geo_distbn_points_bokeh(lon_min, lon_max, lat_min, lat_max, lon, lat):\n",
    "\n",
    "    # save to a html file\n",
    "    output_file('sandy_path_bokeh.html',title='Contour Plot')\n",
    "    \n",
    "    x_range, y_range = wgs84_to_web_mercator(np.array([lon_min, lon_max]), np.array([lat_min, lat_max]))\n",
    "        \n",
    "    #fig = figure(tools='pan, wheel_zoom', x_range=tuple(x_range), y_range=tuple(y_range))\n",
    "    fig = figure(x_range=tuple(x_range), y_range=tuple(y_range))\n",
    "    fig.axis.visible = False\n",
    "\n",
    "    # WMTS tile sources. See http://geo.holoviews.org/Working_with_Bokeh.html\n",
    "    url = 'http://a.basemaps.cartocdn.com/light_all/{Z}/{X}/{Y}.png'\n",
    "    #url = 'http://a.tile.openstreetmap.org/{Z}/{X}/{Y}.png'\n",
    "    #attribution = \"Map tiles by Carto, under CC BY 3.0. Data by OpenStreetMap, under ODbL\"\n",
    "    fig.add_tile(WMTSTileSource(url=url))#, attribution=attribution))\n",
    "    \n",
    "    # Define our longitude and latitude points\n",
    "    x,y = wgs84_to_web_mercator(lon, lat)\n",
    "\n",
    "    r = fig.circle(x=x, y=y, fill_color=\"red\", fill_alpha = 0.2, line_color=None)\n",
    "    glyph = r.glyph\n",
    "    glyph.size = 5\n",
    "    show(fig)"
   ]
  },
  {
   "cell_type": "code",
   "execution_count": null,
   "metadata": {
    "collapsed": false
   },
   "outputs": [],
   "source": [
    "# Min and max lat-lon for whole dataset\n",
    "lon_min, lon_max = path_finer_grid_df['lon'].values.min(), path_finer_grid_df['lon'].values.max()\n",
    "lat_min, lat_max = path_finer_grid_df['lat'].values.min(), path_finer_grid_df['lat'].values.max()\n",
    "\n",
    "plot_geo_distbn_points_bokeh(lon_min, lon_max, lat_min, lat_max, path_finer_grid_df['lon'].values, path_finer_grid_df['lat'].values)"
   ]
  },
  {
   "cell_type": "code",
   "execution_count": null,
   "metadata": {
    "collapsed": true
   },
   "outputs": [],
   "source": []
  }
 ],
 "metadata": {
  "kernelspec": {
   "display_name": "Python 2",
   "language": "python",
   "name": "python2"
  },
  "language_info": {
   "codemirror_mode": {
    "name": "ipython",
    "version": 2
   },
   "file_extension": ".py",
   "mimetype": "text/x-python",
   "name": "python",
   "nbconvert_exporter": "python",
   "pygments_lexer": "ipython2",
   "version": "2.7.12"
  }
 },
 "nbformat": 4,
 "nbformat_minor": 0
}
