{
 "cells": [
  {
   "cell_type": "code",
   "execution_count": 1,
   "metadata": {
    "collapsed": true
   },
   "outputs": [],
   "source": [
    "import dill\n",
    "\n",
    "classifier = dill.load(open('power_outage_NB_classifier.dill', 'r'))"
   ]
  },
  {
   "cell_type": "code",
   "execution_count": 2,
   "metadata": {
    "collapsed": true
   },
   "outputs": [],
   "source": [
    "monograms = ['blackout', 'dark', 'darker', 'nopower', 'powerless']\n",
    "bigrams = ['black out', 'power down', 'power off', 'power out', 'lose power', 'losing power', \n",
    "           'lost power', 'no power', 'power outage', 'goodbye power', 'taken power', \n",
    "           'w/o power', 'transformer exploding', 'transformer explosion','without power', \n",
    "           'without pow',\n",
    "           'power back']\n",
    "trigrams = ['downed electrical wires',  'power not expected', \n",
    "            'knock out power', 'knocked out power',\n",
    "            'off the grid', 'shut off power', 'wait power return'] \n",
    "ngrams = monograms + bigrams + trigrams"
   ]
  },
  {
   "cell_type": "code",
   "execution_count": 3,
   "metadata": {
    "collapsed": false
   },
   "outputs": [
    {
     "data": {
      "text/plain": [
       "[None, None, None, None, None]"
      ]
     },
     "execution_count": 3,
     "metadata": {},
     "output_type": "execute_result"
    }
   ],
   "source": [
    "from nltk.corpus import stopwords\n",
    "stop = set(stopwords.words('english'))\n",
    "stopwords_keep = ['no', 'the', 'out', 'off', 'not']\n",
    "[stop.discard(w) for w in stopwords_keep]"
   ]
  },
  {
   "cell_type": "code",
   "execution_count": 4,
   "metadata": {
    "collapsed": true
   },
   "outputs": [],
   "source": [
    "import re\n",
    "import string\n",
    "\n",
    "def stopword_filtered_word_feats(text, words_all):\n",
    "    l = re.split('[\\s\"]+',string.strip(text))\n",
    "\n",
    "    #print (words_all)\n",
    "    feat = dict([(word, False) for word in words_all])\n",
    "    feat.update((k, True) for k, v in feat.items() if k in text.lower())#.split())\n",
    "    return feat"
   ]
  },
  {
   "cell_type": "code",
   "execution_count": null,
   "metadata": {
    "collapsed": true
   },
   "outputs": [],
   "source": []
  },
  {
   "cell_type": "code",
   "execution_count": 5,
   "metadata": {
    "collapsed": true
   },
   "outputs": [],
   "source": [
    "import pandas as pd\n",
    "import numpy as np"
   ]
  },
  {
   "cell_type": "code",
   "execution_count": 6,
   "metadata": {
    "collapsed": true
   },
   "outputs": [],
   "source": [
    "def load_tweets(tweets_attributes_file, tweets_text_file):\n",
    "    df = pd.read_csv(tweets_attributes_file, index_col=0)\n",
    "    text = []\n",
    "    with open(tweets_text_file, 'r') as f:\n",
    "        for line in f:\n",
    "            text.append(line)\n",
    "    df['text'] = text\n",
    "    return df"
   ]
  },
  {
   "cell_type": "code",
   "execution_count": 7,
   "metadata": {
    "collapsed": false
   },
   "outputs": [
    {
     "data": {
      "text/html": [
       "<div>\n",
       "<table border=\"1\" class=\"dataframe\">\n",
       "  <thead>\n",
       "    <tr style=\"text-align: right;\">\n",
       "      <th></th>\n",
       "      <th>tweet_id</th>\n",
       "      <th>user_id</th>\n",
       "      <th>retweet_count</th>\n",
       "      <th>time_stamp</th>\n",
       "      <th>longitude</th>\n",
       "      <th>latitude</th>\n",
       "      <th>state</th>\n",
       "      <th>county</th>\n",
       "      <th>county_tweet_count</th>\n",
       "      <th>sentiment</th>\n",
       "      <th>text</th>\n",
       "    </tr>\n",
       "  </thead>\n",
       "  <tbody>\n",
       "    <tr>\n",
       "      <th>0</th>\n",
       "      <td>260244125050363904</td>\n",
       "      <td>295902181</td>\n",
       "      <td>0</td>\n",
       "      <td>2012-10-22 05:00:09</td>\n",
       "      <td>-74.078101</td>\n",
       "      <td>40.735218</td>\n",
       "      <td>New Jersey</td>\n",
       "      <td>Hudson County</td>\n",
       "      <td>52264</td>\n",
       "      <td>1</td>\n",
       "      <td>all i wish is to be better than yesterday and ...</td>\n",
       "    </tr>\n",
       "    <tr>\n",
       "      <th>1</th>\n",
       "      <td>260244177412042752</td>\n",
       "      <td>85314436</td>\n",
       "      <td>0</td>\n",
       "      <td>2012-10-22 05:00:21</td>\n",
       "      <td>-81.505790</td>\n",
       "      <td>33.460462</td>\n",
       "      <td>South Carolina</td>\n",
       "      <td>Barnwell County</td>\n",
       "      <td>1375</td>\n",
       "      <td>0</td>\n",
       "      <td>@imSunnyAF yesssss lawd\\n</td>\n",
       "    </tr>\n",
       "  </tbody>\n",
       "</table>\n",
       "</div>"
      ],
      "text/plain": [
       "             tweet_id    user_id  retweet_count           time_stamp  \\\n",
       "0  260244125050363904  295902181              0  2012-10-22 05:00:09   \n",
       "1  260244177412042752   85314436              0  2012-10-22 05:00:21   \n",
       "\n",
       "   longitude   latitude           state           county  county_tweet_count  \\\n",
       "0 -74.078101  40.735218      New Jersey    Hudson County               52264   \n",
       "1 -81.505790  33.460462  South Carolina  Barnwell County                1375   \n",
       "\n",
       "   sentiment                                               text  \n",
       "0          1  all i wish is to be better than yesterday and ...  \n",
       "1          0                          @imSunnyAF yesssss lawd\\n  "
      ]
     },
     "execution_count": 7,
     "metadata": {},
     "output_type": "execute_result"
    }
   ],
   "source": [
    "# Load tweet data\n",
    "tweets_attributes_file = 'sandy_tweets_attributes_rev_geocoded_formatted_timestamps.csv'\n",
    "tweets_text_file = 'sandy_tweets_text_tokenized.txt'\n",
    "\n",
    "df = load_tweets(tweets_attributes_file, tweets_text_file)\n",
    "#df = pd.read_csv(open('sandy_tweets_1.csv'), encoding='utf-8', engine='c')\n",
    "df.head(2)"
   ]
  },
  {
   "cell_type": "code",
   "execution_count": 9,
   "metadata": {
    "collapsed": false
   },
   "outputs": [],
   "source": [
    "def classify_all(text, ngrams):\n",
    "    feats = stopword_filtered_word_feats(text, ngrams)\n",
    "    return classifier.classify(feats)"
   ]
  },
  {
   "cell_type": "code",
   "execution_count": 10,
   "metadata": {
    "collapsed": false
   },
   "outputs": [],
   "source": [
    "df['pow_outage_label'] = df[['text']].apply(lambda x: classify_all(x[0], ngrams), axis=1).tolist()"
   ]
  },
  {
   "cell_type": "code",
   "execution_count": 11,
   "metadata": {
    "collapsed": false
   },
   "outputs": [],
   "source": [
    "#df['pow_outage_label'] = ypred"
   ]
  },
  {
   "cell_type": "code",
   "execution_count": 12,
   "metadata": {
    "collapsed": false
   },
   "outputs": [
    {
     "data": {
      "text/plain": [
       "7067"
      ]
     },
     "execution_count": 12,
     "metadata": {},
     "output_type": "execute_result"
    }
   ],
   "source": [
    "len(df[df['pow_outage_label']==1])"
   ]
  },
  {
   "cell_type": "code",
   "execution_count": 13,
   "metadata": {
    "collapsed": true
   },
   "outputs": [],
   "source": [
    "df_filt = df[df['pow_outage_label']==1].drop('text', 1)"
   ]
  },
  {
   "cell_type": "code",
   "execution_count": 14,
   "metadata": {
    "collapsed": false
   },
   "outputs": [
    {
     "data": {
      "text/html": [
       "<div>\n",
       "<table border=\"1\" class=\"dataframe\">\n",
       "  <thead>\n",
       "    <tr style=\"text-align: right;\">\n",
       "      <th></th>\n",
       "      <th>tweet_id</th>\n",
       "      <th>user_id</th>\n",
       "      <th>retweet_count</th>\n",
       "      <th>time_stamp</th>\n",
       "      <th>longitude</th>\n",
       "      <th>latitude</th>\n",
       "      <th>state</th>\n",
       "      <th>county</th>\n",
       "      <th>county_tweet_count</th>\n",
       "      <th>sentiment</th>\n",
       "      <th>county_pow_out_count</th>\n",
       "      <th>pow_outage_label</th>\n",
       "    </tr>\n",
       "  </thead>\n",
       "  <tbody>\n",
       "    <tr>\n",
       "      <th>24303</th>\n",
       "      <td>260455999276728320</td>\n",
       "      <td>186545667</td>\n",
       "      <td>0</td>\n",
       "      <td>2012-10-22 19:02:03</td>\n",
       "      <td>-72.255078</td>\n",
       "      <td>41.809409</td>\n",
       "      <td>Connecticut</td>\n",
       "      <td>Tolland County</td>\n",
       "      <td>6983</td>\n",
       "      <td>1</td>\n",
       "      <td>6983.0</td>\n",
       "      <td>1</td>\n",
       "    </tr>\n",
       "    <tr>\n",
       "      <th>123333</th>\n",
       "      <td>260923579355508736</td>\n",
       "      <td>293642193</td>\n",
       "      <td>0</td>\n",
       "      <td>2012-10-24 02:00:03</td>\n",
       "      <td>-80.556654</td>\n",
       "      <td>35.347399</td>\n",
       "      <td>North Carolina</td>\n",
       "      <td>Cabarrus County</td>\n",
       "      <td>15521</td>\n",
       "      <td>1</td>\n",
       "      <td>15521.0</td>\n",
       "      <td>1</td>\n",
       "    </tr>\n",
       "    <tr>\n",
       "      <th>222975</th>\n",
       "      <td>261513328738828288</td>\n",
       "      <td>285405692</td>\n",
       "      <td>0</td>\n",
       "      <td>2012-10-25 17:03:30</td>\n",
       "      <td>-73.749717</td>\n",
       "      <td>40.745688</td>\n",
       "      <td>New York</td>\n",
       "      <td>Nassau County</td>\n",
       "      <td>45917</td>\n",
       "      <td>1</td>\n",
       "      <td>45917.0</td>\n",
       "      <td>1</td>\n",
       "    </tr>\n",
       "    <tr>\n",
       "      <th>278239</th>\n",
       "      <td>261830076419682305</td>\n",
       "      <td>25406401</td>\n",
       "      <td>0</td>\n",
       "      <td>2012-10-26 14:02:09</td>\n",
       "      <td>-74.094444</td>\n",
       "      <td>40.415361</td>\n",
       "      <td>New Jersey</td>\n",
       "      <td>Monmouth County</td>\n",
       "      <td>27039</td>\n",
       "      <td>0</td>\n",
       "      <td>27039.0</td>\n",
       "      <td>1</td>\n",
       "    </tr>\n",
       "    <tr>\n",
       "      <th>297541</th>\n",
       "      <td>261922209755455490</td>\n",
       "      <td>325820285</td>\n",
       "      <td>0</td>\n",
       "      <td>2012-10-26 20:08:15</td>\n",
       "      <td>-72.762404</td>\n",
       "      <td>41.726640</td>\n",
       "      <td>Connecticut</td>\n",
       "      <td>Hartford County</td>\n",
       "      <td>43067</td>\n",
       "      <td>0</td>\n",
       "      <td>43067.0</td>\n",
       "      <td>1</td>\n",
       "    </tr>\n",
       "  </tbody>\n",
       "</table>\n",
       "</div>"
      ],
      "text/plain": [
       "                  tweet_id    user_id  retweet_count           time_stamp  \\\n",
       "24303   260455999276728320  186545667              0  2012-10-22 19:02:03   \n",
       "123333  260923579355508736  293642193              0  2012-10-24 02:00:03   \n",
       "222975  261513328738828288  285405692              0  2012-10-25 17:03:30   \n",
       "278239  261830076419682305   25406401              0  2012-10-26 14:02:09   \n",
       "297541  261922209755455490  325820285              0  2012-10-26 20:08:15   \n",
       "\n",
       "        longitude   latitude           state           county  \\\n",
       "24303  -72.255078  41.809409     Connecticut   Tolland County   \n",
       "123333 -80.556654  35.347399  North Carolina  Cabarrus County   \n",
       "222975 -73.749717  40.745688        New York    Nassau County   \n",
       "278239 -74.094444  40.415361      New Jersey  Monmouth County   \n",
       "297541 -72.762404  41.726640     Connecticut  Hartford County   \n",
       "\n",
       "        county_tweet_count  sentiment  county_pow_out_count  pow_outage_label  \n",
       "24303                 6983          1                6983.0                 1  \n",
       "123333               15521          1               15521.0                 1  \n",
       "222975               45917          1               45917.0                 1  \n",
       "278239               27039          0               27039.0                 1  \n",
       "297541               43067          0               43067.0                 1  "
      ]
     },
     "execution_count": 14,
     "metadata": {},
     "output_type": "execute_result"
    }
   ],
   "source": [
    "df_filt.head()"
   ]
  },
  {
   "cell_type": "code",
   "execution_count": null,
   "metadata": {
    "collapsed": true
   },
   "outputs": [],
   "source": [
    "df_filt.to_csv('sandy_pow_out_tweets_naive_bayes_1.csv')"
   ]
  },
  {
   "cell_type": "code",
   "execution_count": null,
   "metadata": {
    "collapsed": true
   },
   "outputs": [],
   "source": []
  }
 ],
 "metadata": {
  "kernelspec": {
   "display_name": "Python 2",
   "language": "python",
   "name": "python2"
  },
  "language_info": {
   "codemirror_mode": {
    "name": "ipython",
    "version": 2
   },
   "file_extension": ".py",
   "mimetype": "text/x-python",
   "name": "python",
   "nbconvert_exporter": "python",
   "pygments_lexer": "ipython2",
   "version": "2.7.12"
  }
 },
 "nbformat": 4,
 "nbformat_minor": 2
}
