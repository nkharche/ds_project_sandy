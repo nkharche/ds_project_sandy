{
 "cells": [
  {
   "cell_type": "code",
   "execution_count": null,
   "metadata": {
    "collapsed": true
   },
   "outputs": [],
   "source": [
    "import pandas as pd\n",
    "import numpy as np\n",
    "import matplotlib.pyplot as plt\n",
    "%matplotlib inline"
   ]
  },
  {
   "cell_type": "code",
   "execution_count": null,
   "metadata": {
    "collapsed": false
   },
   "outputs": [],
   "source": [
    "def load_tweets(tweets_attributes_file, tweets_text_file):\n",
    "    df = pd.read_csv(tweets_attributes_file, index_col=0)\n",
    "    text = []\n",
    "    with open(tweets_text_file, 'r') as f:\n",
    "        for line in f:\n",
    "            text.append(line)\n",
    "    df['text'] = text\n",
    "    return df"
   ]
  },
  {
   "cell_type": "code",
   "execution_count": null,
   "metadata": {
    "collapsed": false
   },
   "outputs": [],
   "source": [
    "# Load tweet data\n",
    "tweets_attributes_file = 'sandy_tweets_attributes_rev_geocoded_formatted_timestamps.csv'\n",
    "tweets_text_file = 'sandy_tweets_text_tokenized.txt'\n",
    "\n",
    "df = load_tweets(tweets_attributes_file, tweets_text_file)\n",
    "#df = pd.read_csv(open('sandy_tweets_1.csv'), encoding='utf-8', engine='c')\n",
    "df.head()"
   ]
  },
  {
   "cell_type": "code",
   "execution_count": null,
   "metadata": {
    "collapsed": false
   },
   "outputs": [],
   "source": [
    "# Replace missing value in 'county' column by empty string. e.g. Washington D.C.\n",
    "df['county'] = df['county'].replace(np.nan,'', regex=True)\n",
    "\n",
    "# Convert to datetime\n",
    "df['time_stamp'] = pd.to_datetime(df['time_stamp'])"
   ]
  },
  {
   "cell_type": "code",
   "execution_count": null,
   "metadata": {
    "collapsed": false
   },
   "outputs": [],
   "source": [
    "print (min(df['time_stamp']))\n",
    "print (max(df['time_stamp']))"
   ]
  },
  {
   "cell_type": "code",
   "execution_count": null,
   "metadata": {
    "collapsed": true
   },
   "outputs": [],
   "source": [
    "import pytz\n",
    "\n",
    "def plot_tweets_per_hour(df):\n",
    "    # Set datetime as index\n",
    "    df1 = df.set_index(['time_stamp'])\n",
    "    # Group tweets by hour\n",
    "    #tweets_per_hr = df1['tweet_id'].resample('H', how='count')\n",
    "    tweets_per_hr = df1['tweet_id'].resample('H').count()\n",
    "    \n",
    "    eastern = pytz.timezone('US/Eastern')\n",
    "    tweets_per_hr.index = tweets_per_hr.index.tz_localize(pytz.utc).tz_convert(eastern)\n",
    "    \n",
    "    plt.plot(tweets_per_hr.index, tweets_per_hr, 'r')\n",
    "    plt.ylabel('Tweets per hour')\n",
    "    plt.xticks(rotation='vertical')\n",
    "    plt.show()"
   ]
  },
  {
   "cell_type": "code",
   "execution_count": null,
   "metadata": {
    "collapsed": false
   },
   "outputs": [],
   "source": [
    "plot_tweets_per_hour(df)"
   ]
  },
  {
   "cell_type": "markdown",
   "metadata": {},
   "source": [
    "## Filter Sandy related tweets and plot count as a function of time"
   ]
  },
  {
   "cell_type": "code",
   "execution_count": null,
   "metadata": {
    "collapsed": true
   },
   "outputs": [],
   "source": [
    "sandy_keywords = ['sandy', 'hurricane', 'hurricanesandy', 'storm', 'frankenstorm']\n",
    "sandy_keywords = sandy_keywords + ['#'+kw for kw in sandy_keywords]\n",
    "\n",
    "pattern = ' ' + ' | '.join(sandy_keywords) + ' '\n",
    "pattern\n",
    "df_sandy = df[df['text'].str.contains(pattern)]"
   ]
  },
  {
   "cell_type": "code",
   "execution_count": null,
   "metadata": {
    "collapsed": false
   },
   "outputs": [],
   "source": [
    "print ('Total number of Sandy related tweets: %d' % len(df_sandy))"
   ]
  },
  {
   "cell_type": "code",
   "execution_count": null,
   "metadata": {
    "collapsed": false
   },
   "outputs": [],
   "source": [
    "plot_tweets_per_hour(df_sandy)"
   ]
  },
  {
   "cell_type": "code",
   "execution_count": null,
   "metadata": {
    "collapsed": true
   },
   "outputs": [],
   "source": []
  },
  {
   "cell_type": "code",
   "execution_count": null,
   "metadata": {
    "collapsed": false
   },
   "outputs": [],
   "source": [
    "from bokeh.io import output_notebook, show\n",
    "output_notebook()\n",
    "\n",
    "from bokeh.plotting import figure, ColumnDataSource\n",
    "from bokeh.tile_providers import WMTSTileSource\n",
    "from bokeh.plotting import Figure, show, output_file\n",
    "from bokeh.models import HoverTool, BoxSelectTool\n",
    "from bokeh.models import LinearAxis, Range1d\n",
    "\n",
    "from bokeh.models.formatters import DatetimeTickFormatter\n",
    "\n",
    "import matplotlib.cm as cm\n",
    "from math import pi"
   ]
  },
  {
   "cell_type": "code",
   "execution_count": null,
   "metadata": {
    "collapsed": false
   },
   "outputs": [],
   "source": []
  },
  {
   "cell_type": "code",
   "execution_count": null,
   "metadata": {
    "collapsed": true
   },
   "outputs": [],
   "source": [
    "import pytz\n",
    "\n",
    "def prep_plot(df):\n",
    "    # Group tweets by hour\n",
    "    df2 = df.set_index(['time_stamp'])\n",
    "    tweets_per_hr = df2['tweet_id'].resample('H').count()\n",
    "\n",
    "    eastern = pytz.timezone('US/Eastern')\n",
    "    tweets_per_hr.index = tweets_per_hr.index.tz_localize(pytz.utc).tz_convert(eastern)\n",
    "    x = pd.DataFrame(tweets_per_hr.index )\n",
    "    x = pd.to_datetime(x['time_stamp'])\n",
    "    y = list(tweets_per_hr.values)\n",
    "    \n",
    "    return x, y"
   ]
  },
  {
   "cell_type": "code",
   "execution_count": null,
   "metadata": {
    "collapsed": false
   },
   "outputs": [],
   "source": [
    "x1, y1 = prep_plot(df)\n",
    "x2, y2 = prep_plot(df_sandy)\n",
    "\n",
    "output_file('tweet_traffic_vs_time.html')\n",
    "\n",
    "p = figure(plot_width=800, plot_height=400, x_axis_type=\"datetime\", toolbar_location=\"above\")\n",
    "\n",
    "# Setting the second y axis range name and range\n",
    "p.extra_y_ranges = {\"sandy\": Range1d(start=0, end=2000)}\n",
    "# Adding the second axis to the plot.  \n",
    "p.add_layout(LinearAxis(y_range_name=\"sandy\"), 'right')\n",
    "\n",
    "## add lines\n",
    "#p.line([1, 2, 3, 4, 5], [6, 7, 6, 4, 5], line_width=2)\n",
    "#p.line(x=[1, 2, 3, 4, 5], y=[1, 4, 2, 5, 3], line_width=4, color=\"#CAB2D6\", y_range_name=\"foo\")\n",
    "\n",
    "p.line(x1, y1, color='navy', alpha=0.5, line_width=2, legend=\"All Tweets\")\n",
    "p.line(x2, y2, color='red', alpha=1, line_width=2, y_range_name=\"sandy\", legend=\"Sandy related Tweets\")\n",
    "\n",
    "# Setting the y  axis range   \n",
    "#p.y_range = Range1d(0, 12)    \n",
    "\n",
    "p.axis.major_label_text_font_size = \"10pt\"\n",
    "p.yaxis.axis_label = 'Tweets per hour'\n",
    "p.yaxis[0].axis_line_color = \"navy\"\n",
    "p.yaxis[1].axis_line_color = \"red\"\n",
    "p.xgrid[0].ticker.desired_num_ticks = 12 # 12 days\n",
    "\n",
    "p.xaxis.formatter = DatetimeTickFormatter(days = ['%b %d'])\n",
    "p.xaxis.major_label_orientation = pi / 3\n",
    "\n",
    "\n",
    "#p.ylabel('Tweets per hour')\n",
    "#p.xticks(rotation='vertical')\n",
    "show(p)"
   ]
  },
  {
   "cell_type": "code",
   "execution_count": null,
   "metadata": {
    "collapsed": false
   },
   "outputs": [],
   "source": []
  },
  {
   "cell_type": "code",
   "execution_count": null,
   "metadata": {
    "collapsed": true
   },
   "outputs": [],
   "source": []
  }
 ],
 "metadata": {
  "kernelspec": {
   "display_name": "Python 2",
   "language": "python",
   "name": "python2"
  },
  "language_info": {
   "codemirror_mode": {
    "name": "ipython",
    "version": 2
   },
   "file_extension": ".py",
   "mimetype": "text/x-python",
   "name": "python",
   "nbconvert_exporter": "python",
   "pygments_lexer": "ipython2",
   "version": "2.7.12"
  }
 },
 "nbformat": 4,
 "nbformat_minor": 0
}
